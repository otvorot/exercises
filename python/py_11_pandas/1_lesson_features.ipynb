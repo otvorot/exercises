{
 "cells": [
  {
   "cell_type": "markdown",
   "metadata": {},
   "source": [
    "Предобработка данных и их подготовка к анализу и подаче в модель.\n",
    "\n",
    "Под предобработкой понимаются следующие этапы работы с данными:\n",
    "\n",
    "очистка данных от аномальных значений (выбросов);\n",
    "работа с пропущенными значениями;\n",
    "удаление признаков, которые не несут полезной информации;\n",
    "создание новых признаков;\n",
    "преобразование признаков и приведение данных к необходимому для анализа и модели формату.\n",
    "\n",
    "FEATURE ENGINEERING\n",
    "\n",
    "Одним из этапов подготовки данных является удаление, преобразование и создание столбцов таблицы."
   ]
  },
  {
   "cell_type": "code",
   "execution_count": 2,
   "metadata": {},
   "outputs": [],
   "source": [
    "import pandas as pd\n",
    "melb_data = pd.read_csv('data/melb_data_ps.csv')"
   ]
  },
  {
   "cell_type": "code",
   "execution_count": 10,
   "metadata": {},
   "outputs": [],
   "source": [
    "# СОЗДАНИЕ КОПИИ ТАБЛИЦЫ\n",
    "melbdf = melb_data.copy() "
   ]
  },
  {
   "cell_type": "code",
   "execution_count": 7,
   "metadata": {},
   "outputs": [],
   "source": [
    "# УДАЛЕНИЕ СТОЛБЦОВ\n",
    "melbdf = melbdf.drop(['index', 'Coordinates'], axis=1)"
   ]
  },
  {
   "cell_type": "code",
   "execution_count": 11,
   "metadata": {},
   "outputs": [],
   "source": [
    "# Альтернативный вариант:\n",
    "melbdf.drop(['index','Coordinates'],axis=1,inplace=True)"
   ]
  },
  {
   "cell_type": "markdown",
   "metadata": {},
   "source": [
    "Основные параметры метода drop()\n",
    "labels — порядковые номера или имена столбцов, которые подлежат удалению; если их несколько, то передаётся список;\n",
    "axis — ось совершения операции, axis=0 — удаляются строки, axis=1 — удаляются столбцы;\n",
    "inplace — если параметр выставлен на True, происходит замена изначального DataFrame на новый, при этом метод ничего не возвращает; если на False — возвращается копия DataFrame, из которой удалены указанные строки (столбцы), при этом первоначальный DataFrame не изменяется; по умолчанию параметр равен False."
   ]
  },
  {
   "cell_type": "markdown",
   "metadata": {},
   "source": [
    "МАТЕМАТИЧЕСКИЕ ОПЕРАЦИИ СО СТОЛБЦАМИ\n",
    "\n",
    "→ Pandas поддерживает базовые математические операции между столбцами: столбцы можно складывать, вычитать, умножать, делить между собой, а также возводить в степень. С помощью таких операций мы можем создавать новые признаки или производить преобразования над старыми."
   ]
  },
  {
   "cell_type": "code",
   "execution_count": null,
   "metadata": {},
   "outputs": [],
   "source": [
    "# создадим переменную total_rooms, в которой будем хранить общее количество комнат в здании\n",
    "total_rooms = melbdf['Rooms'] + melbdf['Bathroom'] + melbdf['Bedroom']\n",
    "total_rooms"
   ]
  },
  {
   "cell_type": "code",
   "execution_count": null,
   "metadata": {},
   "outputs": [],
   "source": [
    "# введём признак MeanRoomsArea, который соответствует средней площади одной комнаты для каждого объекта\n",
    "melbdf['MeanRoomsArea'] = melbdf['BuildingArea'] / total_rooms\n",
    "display(melbdf['MeanRoomsArea'])"
   ]
  },
  {
   "cell_type": "code",
   "execution_count": null,
   "metadata": {},
   "outputs": [],
   "source": [
    "# Можно ввести ещё один интересный признак — AreaRatio, \n",
    "# коэффициент соотношения площади здания (BuildingArea)\n",
    "# и площади участка (Landsize)\n",
    "diff_area = melbdf['BuildingArea'] - melbdf['Landsize']\n",
    "sum_area = melbdf['BuildingArea'] + melbdf['Landsize']\n",
    "melbdf['AreaRatio'] = diff_area/sum_area\n",
    "display(melbdf['AreaRatio'])"
   ]
  }
 ],
 "metadata": {
  "kernelspec": {
   "display_name": "Python 3",
   "language": "python",
   "name": "python3"
  },
  "language_info": {
   "codemirror_mode": {
    "name": "ipython",
    "version": 3
   },
   "file_extension": ".py",
   "mimetype": "text/x-python",
   "name": "python",
   "nbconvert_exporter": "python",
   "pygments_lexer": "ipython3",
   "version": "3.9.10"
  }
 },
 "nbformat": 4,
 "nbformat_minor": 2
}
