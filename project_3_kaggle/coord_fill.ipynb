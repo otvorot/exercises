{
 "cells": [
  {
   "cell_type": "code",
   "execution_count": 1,
   "metadata": {},
   "outputs": [
    {
     "name": "stdout",
     "output_type": "stream",
     "text": [
      "<class 'pandas.core.frame.DataFrame'>\n",
      "RangeIndex: 386803 entries, 0 to 386802\n",
      "Data columns (total 17 columns):\n",
      " #   Column                                      Non-Null Count   Dtype  \n",
      "---  ------                                      --------------   -----  \n",
      " 0   hotel_address                               386803 non-null  object \n",
      " 1   additional_number_of_scoring                386803 non-null  int64  \n",
      " 2   review_date                                 386803 non-null  object \n",
      " 3   average_score                               386803 non-null  float64\n",
      " 4   hotel_name                                  386803 non-null  object \n",
      " 5   reviewer_nationality                        386803 non-null  object \n",
      " 6   negative_review                             386803 non-null  object \n",
      " 7   review_total_negative_word_counts           386803 non-null  int64  \n",
      " 8   total_number_of_reviews                     386803 non-null  int64  \n",
      " 9   positive_review                             386803 non-null  object \n",
      " 10  review_total_positive_word_counts           386803 non-null  int64  \n",
      " 11  total_number_of_reviews_reviewer_has_given  386803 non-null  int64  \n",
      " 12  reviewer_score                              386803 non-null  float64\n",
      " 13  tags                                        386803 non-null  object \n",
      " 14  days_since_review                           386803 non-null  object \n",
      " 15  lat                                         384355 non-null  float64\n",
      " 16  lng                                         384355 non-null  float64\n",
      "dtypes: float64(4), int64(5), object(8)\n",
      "memory usage: 50.2+ MB\n"
     ]
    }
   ],
   "source": [
    "import pandas as pd\n",
    "import numpy as np\n",
    "\n",
    "df = pd.read_csv(\"data\\hotels.csv\")\n",
    "\n",
    "df.info()"
   ]
  },
  {
   "cell_type": "code",
   "execution_count": 2,
   "metadata": {},
   "outputs": [
    {
     "data": {
      "text/plain": [
       "hotel_name\n",
       "Fleming s Selection Hotel Wien City                 496\n",
       "Hotel City Central                                  421\n",
       "Hotel Atlanta                                       285\n",
       "Maison Albar Hotel Paris Op ra Diamond              224\n",
       "Hotel Daniel Vienna                                 182\n",
       "Hotel Pension Baron am Schottentor                  172\n",
       "Austria Trend Hotel Schloss Wilhelminenberg Wien    141\n",
       "NH Collection Barcelona Podium                      113\n",
       "Derag Livinghotel Kaiser Franz Joseph Vienna        112\n",
       "City Hotel Deutschmeister                            63\n",
       "Holiday Inn Paris Montmartre                         47\n",
       "Hotel Park Villa                                     44\n",
       "Cordial Theaterhotel Wien                            40\n",
       "Roomz Vienna                                         34\n",
       "Mercure Paris Gare Montparnasse                      28\n",
       "Hotel Advance                                        26\n",
       "Renaissance Barcelona Hotel                          20\n",
       "Name: count, dtype: int64"
      ]
     },
     "execution_count": 2,
     "metadata": {},
     "output_type": "execute_result"
    }
   ],
   "source": [
    "df[df['lat'].isnull()]['hotel_name'].value_counts()"
   ]
  },
  {
   "cell_type": "code",
   "execution_count": 3,
   "metadata": {},
   "outputs": [],
   "source": [
    "coord_dict = {\n",
    "    'Fleming s Selection Hotel Wien City':[48.209095, 16.354568],\n",
    "    'Hotel City Central':[48.213560, 16.379923],\n",
    "    'Hotel Atlanta':[48.220310, 16.355880],\n",
    "    'Maison Albar Hotel Paris Op ra Diamond':[48.875140, 2.323420],\n",
    "    'Hotel Daniel Vienna':[48.188835, 16.383810],\n",
    "    'Hotel Pension Baron am Schottentor':[48.216705, 16.359820],\n",
    "    'Austria Trend Hotel Schloss Wilhelminenberg Wien':[48.219555, 16.285566],\n",
    "    'NH Collection Barcelona Podium':[41.391430, 2.177890],\n",
    "    'Derag Livinghotel Kaiser Franz Joseph Vienna':[48.245914, 16.341188],\n",
    "    'City Hotel Deutschmeister':[48.220856, 16.366642],\n",
    "    'Holiday Inn Paris Montmartre':[48.888860, 2.333190],\n",
    "    'Hotel Park Villa':[48.233495, 16.345556],\n",
    "    'Cordial Theaterhotel Wien':[48.209530, 16.351515],\n",
    "    'Roomz Vienna':[48.22201, 16.39331],\n",
    "    'Mercure Paris Gare Montparnasse':[48.839701, 2.323519],\n",
    "    'Hotel Advance':[41.38322, 2.16295],\n",
    "    'Renaissance Barcelona Hotel':[41.392430, 2.167500]\n",
    "}"
   ]
  },
  {
   "cell_type": "code",
   "execution_count": 4,
   "metadata": {},
   "outputs": [
    {
     "name": "stdout",
     "output_type": "stream",
     "text": [
      "CPU times: total: 21.8 s\n",
      "Wall time: 36.4 s\n"
     ]
    }
   ],
   "source": [
    "%%time\n",
    "\n",
    "\n",
    "def fill_coords(row):\n",
    "    if pd.isna(row.lat):\n",
    "        coord = coord_dict[row.hotel_name]\n",
    "        if coord is not None:\n",
    "            row.lat = coord[0]\n",
    "            row.lng = coord[1]\n",
    "            return row\n",
    "    else:\n",
    "        return row\n",
    "\n",
    "df = df.apply(lambda row: fill_coords(row), axis=1)"
   ]
  },
  {
   "cell_type": "code",
   "execution_count": 5,
   "metadata": {},
   "outputs": [
    {
     "name": "stdout",
     "output_type": "stream",
     "text": [
      "<class 'pandas.core.frame.DataFrame'>\n",
      "RangeIndex: 386803 entries, 0 to 386802\n",
      "Data columns (total 17 columns):\n",
      " #   Column                                      Non-Null Count   Dtype  \n",
      "---  ------                                      --------------   -----  \n",
      " 0   hotel_address                               386803 non-null  object \n",
      " 1   additional_number_of_scoring                386803 non-null  int64  \n",
      " 2   review_date                                 386803 non-null  object \n",
      " 3   average_score                               386803 non-null  float64\n",
      " 4   hotel_name                                  386803 non-null  object \n",
      " 5   reviewer_nationality                        386803 non-null  object \n",
      " 6   negative_review                             386803 non-null  object \n",
      " 7   review_total_negative_word_counts           386803 non-null  int64  \n",
      " 8   total_number_of_reviews                     386803 non-null  int64  \n",
      " 9   positive_review                             386803 non-null  object \n",
      " 10  review_total_positive_word_counts           386803 non-null  int64  \n",
      " 11  total_number_of_reviews_reviewer_has_given  386803 non-null  int64  \n",
      " 12  reviewer_score                              386803 non-null  float64\n",
      " 13  tags                                        386803 non-null  object \n",
      " 14  days_since_review                           386803 non-null  object \n",
      " 15  lat                                         386803 non-null  float64\n",
      " 16  lng                                         386803 non-null  float64\n",
      "dtypes: float64(4), int64(5), object(8)\n",
      "memory usage: 50.2+ MB\n"
     ]
    }
   ],
   "source": [
    "df.info()"
   ]
  },
  {
   "cell_type": "code",
   "execution_count": null,
   "metadata": {},
   "outputs": [],
   "source": []
  }
 ],
 "metadata": {
  "kernelspec": {
   "display_name": "Python 3 (ipykernel)",
   "language": "python",
   "name": "python3"
  },
  "language_info": {
   "codemirror_mode": {
    "name": "ipython",
    "version": 3
   },
   "file_extension": ".py",
   "mimetype": "text/x-python",
   "name": "python",
   "nbconvert_exporter": "python",
   "pygments_lexer": "ipython3",
   "version": "3.9.10"
  }
 },
 "nbformat": 4,
 "nbformat_minor": 4
}
