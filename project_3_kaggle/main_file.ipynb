{
 "cells": [
  {
   "cell_type": "code",
   "execution_count": 1,
   "metadata": {},
   "outputs": [
    {
     "name": "stderr",
     "output_type": "stream",
     "text": [
      "[nltk_data] Downloading package punkt to\n",
      "[nltk_data]     C:\\Users\\pliku\\AppData\\Roaming\\nltk_data...\n",
      "[nltk_data]   Package punkt is already up-to-date!\n",
      "[nltk_data] Downloading package stopwords to\n",
      "[nltk_data]     C:\\Users\\pliku\\AppData\\Roaming\\nltk_data...\n",
      "[nltk_data]   Package stopwords is already up-to-date!\n"
     ]
    }
   ],
   "source": [
    "import pandas as pd\n",
    "import numpy as np\n",
    "import seaborn as sns\n",
    "import matplotlib.pyplot as plt\n",
    "import category_encoders as ce\n",
    "from scipy import stats\n",
    "import re\n",
    "import warnings\n",
    "from geopy.geocoders import ArcGIS\n",
    "from geopy.distance import geodesic\n",
    "from sklearn import preprocessing\n",
    "from sklearn.model_selection import train_test_split\n",
    "from sklearn.ensemble import RandomForestRegressor\n",
    "from sklearn import metrics\n",
    "from sklearn.feature_selection import chi2\n",
    "from sklearn.feature_selection import f_classif\n",
    "import nltk\n",
    "from nltk.sentiment import SentimentIntensityAnalyzer\n",
    "nltk.download('punkt')\n",
    "nltk.download('stopwords')\n",
    "warnings.filterwarnings( 'ignore' )\n",
    "pd.set_option('display.max_colwidth', None)\n",
    "pd.set_option('display.max_rows', 200)"
   ]
  },
  {
   "cell_type": "code",
   "execution_count": 2,
   "metadata": {},
   "outputs": [],
   "source": [
    "hotels = pd.read_csv('data/hotels.csv')"
   ]
  },
  {
   "cell_type": "markdown",
   "metadata": {},
   "source": [
    "## 1. Подготовка и очистка данных"
   ]
  },
  {
   "cell_type": "markdown",
   "metadata": {},
   "source": [
    "* Избавление от дубликатов"
   ]
  },
  {
   "cell_type": "code",
   "execution_count": 3,
   "metadata": {},
   "outputs": [
    {
     "name": "stdout",
     "output_type": "stream",
     "text": [
      "Изначальное количество записей: 386803\n",
      "Количество дубликатов: 307\n",
      "Количество записей после очистки: 386496\n"
     ]
    }
   ],
   "source": [
    "print(f'Изначальное количество записей: {hotels.shape[0]}')\n",
    "mask = hotels.duplicated()\n",
    "print(f'Количество дубликатов: {hotels[mask].shape[0]}')\n",
    "hotels = hotels.drop_duplicates()\n",
    "print(f'Количество записей после очистки: {hotels.shape[0]}')"
   ]
  },
  {
   "cell_type": "markdown",
   "metadata": {},
   "source": [
    "* Поиск и устранение неинформативных признаков"
   ]
  },
  {
   "cell_type": "code",
   "execution_count": 4,
   "metadata": {},
   "outputs": [
    {
     "name": "stdout",
     "output_type": "stream",
     "text": [
      "Количество признаков с долей уникальных и однинаковых\n",
      "записей > 0.95: 0\n"
     ]
    }
   ],
   "source": [
    "# список для имён малоинформативных признаков\n",
    "low_info = []\n",
    "\n",
    "# цикл пройдёт по столбцам, вычислит долю уникальных значений и\n",
    "# долю одинаковых значений в каждом признаке\n",
    "for i in hotels.columns:\n",
    "    same = hotels[i].value_counts(normalize=True).max()\n",
    "    unique = hotels[i].nunique() / hotels[i].count()\n",
    "    if same > 0.95:\n",
    "        low_info.append(i)\n",
    "        print(f'{i}: {same}')\n",
    "    if unique > 0.95:\n",
    "        low_info.append(i)\n",
    "        print(f'{i}: {unique}')\n",
    "        \n",
    "print('Количество признаков с долей уникальных и однинаковых\\n'\n",
    "    f'записей > 0.95: {len(low_info)}')"
   ]
  },
  {
   "cell_type": "markdown",
   "metadata": {},
   "source": [
    "# 2. Проектирование признаков"
   ]
  },
  {
   "cell_type": "markdown",
   "metadata": {},
   "source": [
    "* Признак государственной принадлежности отеля"
   ]
  },
  {
   "cell_type": "code",
   "execution_count": 5,
   "metadata": {},
   "outputs": [],
   "source": [
    "# уникальные значения стран\n",
    "hotels['hotel_country'] = hotels['hotel_address'].apply(\n",
    "    lambda x: 'United ' + x.split()[-1] if x.split()[-1] == 'Kingdom' else x.split()[-1]\n",
    "    )\n"
   ]
  },
  {
   "cell_type": "markdown",
   "metadata": {},
   "source": [
    "* Создание бинарного признака: \n",
    "*Является-ли ревьюер гражданином страны в которой расположен отель?*"
   ]
  },
  {
   "cell_type": "code",
   "execution_count": 6,
   "metadata": {},
   "outputs": [],
   "source": [
    "hotels['is_native'] = hotels.apply(\n",
    "    lambda x: 1 if (x['reviewer_nationality']).strip() == x['hotel_country'] else 0,\n",
    "    axis=1\n",
    "    )"
   ]
  },
  {
   "cell_type": "markdown",
   "metadata": {},
   "source": [
    "* Работа с признаком \"тэги\""
   ]
  },
  {
   "cell_type": "code",
   "execution_count": 7,
   "metadata": {},
   "outputs": [],
   "source": [
    "# список тэгов\n",
    "tag_list = ['a']\n",
    "\n",
    "# цикл для извлечения тэгов из признака\n",
    "for i in hotels['tags'].to_list():\n",
    "    tag_list.extend(i.replace(\"[' \", \"\").replace(\" ']\", \"\").split(\" ', ' \"))\n",
    "    \n",
    "# формат Series для оценки\n",
    "tags = pd.Series(tag_list)\n",
    "\n",
    "# преобразование признака с тэгами в удобный формат\n",
    "hotels['tags'] = hotels['tags'].apply(\n",
    "    lambda x: x.replace(\"[' \", \"\").replace(\" ']\", \"\").split(\" ', ' \")\n",
    ")"
   ]
  },
  {
   "cell_type": "markdown",
   "metadata": {},
   "source": [
    "* Создание бинарных признаков на основе тэгов"
   ]
  },
  {
   "cell_type": "code",
   "execution_count": 8,
   "metadata": {},
   "outputs": [],
   "source": [
    "# поездка с целью отдыха\n",
    "hotels['leisure'] = hotels['tags'].apply(\n",
    "    lambda x: 1 if 'Leisure trip' in x else 0\n",
    ")\n",
    "\n",
    "# деловая поездка\n",
    "hotels['business'] = hotels['tags'].apply(\n",
    "    lambda x: 1 if 'Business trip' in x else 0\n",
    ")\n",
    "\n",
    "# путешевствует один\n",
    "hotels['lone'] = hotels['tags'].apply(\n",
    "    lambda x: 1 if 'Solo traveler' in x else 0\n",
    ")\n",
    "\n",
    "# путешевствует пара\n",
    "hotels['couple'] = hotels['tags'].apply(\n",
    "    lambda x: 1 if 'Couple' in x else 0\n",
    ")\n",
    "\n",
    "# путешевствует семья\n",
    "hotels['family'] = hotels['tags'].apply(\n",
    "    lambda x: 1 if ('Family with young children' in x) or (\n",
    "        'Family with older children' in x) else 0\n",
    ")\n",
    "\n",
    "# путешевствует группа\n",
    "hotels['group'] = hotels['tags'].apply(\n",
    "    lambda x: 1 if 'Group' in x else 0\n",
    ")\n",
    "\n",
    "# со смартфона\n",
    "hotels['smartphone'] = hotels['tags'].apply(\n",
    "    lambda x: 1 if 'Submitted from a mobile device' in x else 0\n",
    ")\n",
    "\n",
    "# функция для поиска по тэгам\n",
    "def lux(x):\n",
    "    expression = re.compile(\n",
    "    \"(?i)(\\W|^)(Grand|Premier|View|Superior|Marvellous|Spa|Pool|Luxe|Deluxe|King|Queen|Lounge|Balcony)(\\W|$)\"\n",
    "    )    \n",
    "    if list(filter(expression.search, x)): return 1\n",
    "    else: return 0\n",
    "    \n",
    "    \n",
    "# класс номера\n",
    "hotels['lux'] = hotels['tags'].apply(lux)\n",
    "\n",
    "# функция для определения времени пребывания\n",
    "def stay(x):\n",
    "    z = [y for y in x if y.startswith('Stayed')]\n",
    "    if z: return int(z[0].split()[1])\n",
    "    else: return 0\n",
    "\n",
    "# время пребывания в отле (ночей)\n",
    "hotels['stayed'] = hotels['tags'].apply(stay)"
   ]
  },
  {
   "cell_type": "markdown",
   "metadata": {},
   "source": [
    "* Получение недостающих координат"
   ]
  },
  {
   "cell_type": "code",
   "execution_count": 9,
   "metadata": {},
   "outputs": [],
   "source": [
    "# адреса отелей без привязки к координатам\n",
    "addr = hotels[\n",
    "    pd.isna(hotels.lat)\n",
    "    ]['hotel_address'].value_counts().index\n",
    "\n",
    "geolocator_arcgis = ArcGIS()\n",
    "\n",
    "# цикл присваивает координаты по адресам\n",
    "for i in addr:\n",
    "    lat = round(geolocator_arcgis.geocode(i).latitude, 6)\n",
    "    long = round(geolocator_arcgis.geocode(i).longitude, 6)\n",
    "    hotels.loc[hotels['hotel_address'] == i, 'lat'] = lat\n",
    "    hotels.loc[hotels['hotel_address'] == i, 'lng'] = long"
   ]
  },
  {
   "cell_type": "markdown",
   "metadata": {},
   "source": [
    "* Признак дистанция от отеля до центра города"
   ]
  },
  {
   "cell_type": "code",
   "execution_count": 10,
   "metadata": {},
   "outputs": [],
   "source": [
    "# функция для получения дистанции от отеля до центра города\n",
    "def distance(row):\n",
    "    if row['hotel_country'] == 'United Kingdom':\n",
    "        return geodesic((51.500322, -0.140519), (row.lat, row.lng))\n",
    "    if row['hotel_country'] == 'France':\n",
    "        return geodesic((48.858174, 2.294383), (row.lat, row.lng))\n",
    "    if row['hotel_country'] == 'Netherlands':\n",
    "        return geodesic((52.373277, 4.892011), (row.lat, row.lng))\n",
    "    if row['hotel_country'] == 'Italy':\n",
    "        return geodesic((45.464528, 9.188393), (row.lat, row.lng))\n",
    "    if row['hotel_country'] == 'Austria':\n",
    "        return geodesic((48.209213, 16.370674), (row.lat, row.lng))\n",
    "    else:\n",
    "        return geodesic((41.386620, 2.170433), (row.lat, row.lng))\n",
    "    \n",
    "\n",
    "# применение функции и получение нового признака\n",
    "hotels['distance'] = hotels.apply(lambda row: distance(row), axis=1)\n",
    "\n",
    "# преобразование geodesic типа данных во float\n",
    "hotels['distance'] = hotels['distance'].apply(\n",
    "    lambda x: round(float(str(x).split()[0]), 4)\n",
    "    )"
   ]
  },
  {
   "cell_type": "markdown",
   "metadata": {},
   "source": [
    "* пересчёт слов в отзыве"
   ]
  },
  {
   "cell_type": "code",
   "execution_count": 11,
   "metadata": {},
   "outputs": [],
   "source": [
    "hotels['review_total_negative_word_counts'] = hotels[\n",
    "    'negative_review'\n",
    "    ].apply(lambda x: len(x.split()))\n",
    "\n",
    "hotels['review_total_positive_word_counts'] = hotels[\n",
    "    'positive_review'\n",
    "    ].apply(lambda x: len(x.split()))"
   ]
  },
  {
   "cell_type": "markdown",
   "metadata": {},
   "source": [
    "* Работа с текстовыми признаками отзывы"
   ]
  },
  {
   "cell_type": "code",
   "execution_count": 12,
   "metadata": {},
   "outputs": [],
   "source": [
    "# удаление лишних пробелов и приведение строки признака к нижнему регистру\n",
    "hotels['negative_review'] = hotels['negative_review'].apply(\n",
    "    lambda x: x.strip().lower()\n",
    ")\n",
    "\n",
    "hotels['positive_review'] = hotels['positive_review'].apply(\n",
    "    lambda x: x.strip().lower()\n",
    ")\n",
    "\n",
    "\n",
    "# функция определения компаунда для негативных отзывов\n",
    "def negative_compound(row):\n",
    "    if row.review_total_negative_word_counts == 0: return 0\n",
    "    elif row.review_total_negative_word_counts == 1:\n",
    "        reg_1 = re.compile((\"(?i)(\\W|^)(nothing|none|nil|na|no|non)(\\W|$)\"))\n",
    "        if reg_1.search(row.negative_review): return 0\n",
    "        else: return row.negative_scores['compound']\n",
    "    elif row.review_total_negative_word_counts == 2:\n",
    "        reg_2 = re.compile((\"(?i)(\\W|^)(no negative|n a|nothing really|no complaints|absolutely nothing|not applicable|no negatives|no problems)(\\W|$)\"))\n",
    "        if reg_2.search(row.negative_review): return 0\n",
    "        else: return row.negative_scores['compound']\n",
    "    elif row.review_total_negative_word_counts == 3:\n",
    "        reg_3 = re.compile((\"(?i)(\\W|^)(nothing at all|nothing to dislike|nothing in particular|nothing to report|nothing to mention|nothing to say|nothing to complain)(\\W|$)\"))\n",
    "        if reg_3.search(row.negative_review): return 0\n",
    "        else: return row.negative_scores['compound']\n",
    "    else: return row.negative_scores['compound']\n",
    "\n",
    "\n",
    "# функция определения компаунда для позитивных отзывов\n",
    "def positive_compound(row):\n",
    "    if row.review_total_positive_word_counts == 0: return 0\n",
    "    elif row.review_total_positive_word_counts == 1:\n",
    "        reg_1 = re.compile((\"(?i)(\\W|^)(nothing|none|nil|na|no|non)(\\W|$)\"))\n",
    "        if reg_1.search(row.positive_review): return 0\n",
    "        else: return row.positive_scores['compound']\n",
    "    elif row.review_total_positive_word_counts == 2:\n",
    "        reg_2 = re.compile((\"(?i)(\\W|^)(no positive)(\\W|$)\"))\n",
    "        if reg_2.search(row.positive_review): return 0\n",
    "        else: return row.positive_scores['compound']\n",
    "    else: return row.positive_scores['compound']\n",
    "  \n",
    "\n",
    "# класс анализатора эмоциональной окраски текста\n",
    "sia = SentimentIntensityAnalyzer()\n",
    "\n",
    "\n",
    "# создание признаков эмоциональной окраски текста для\n",
    "# негативных и позитивных отзывов\n",
    "hotels['negative_scores'] = hotels['negative_review'].apply(lambda x: sia.polarity_scores(x))\n",
    "hotels['positive_scores'] = hotels['positive_review'].apply(lambda x: sia.polarity_scores(x))\n",
    "\n",
    "\n",
    "# создание признака с баллами компаунд для для негативных и позитивных отзывов\n",
    "hotels['neg_compound'] = hotels.apply(negative_compound, axis=1)\n",
    "hotels['pos_compound'] = hotels.apply(positive_compound, axis=1)"
   ]
  },
  {
   "cell_type": "markdown",
   "metadata": {},
   "source": [
    "* выделение порядкового номера дня в году в отдельный бинарный признак"
   ]
  },
  {
   "cell_type": "code",
   "execution_count": 13,
   "metadata": {},
   "outputs": [],
   "source": [
    "hotels['review_date'] = pd.to_datetime(hotels['review_date'])\n",
    "\n",
    "hotels['day'] = hotels['review_date'].dt.day_of_year\n",
    "\n",
    "binary_enc = ce.BinaryEncoder(cols=['day'])\n",
    "df = binary_enc.fit_transform(hotels['day'])\n",
    "hotels = pd.concat([hotels, df], axis=1)"
   ]
  },
  {
   "cell_type": "markdown",
   "metadata": {},
   "source": [
    "* удаление текстовых признаков"
   ]
  },
  {
   "cell_type": "code",
   "execution_count": 14,
   "metadata": {},
   "outputs": [],
   "source": [
    "cols_to_drop = ['lat', 'lng', 'review_date']\n",
    "\n",
    "for i in hotels.columns:\n",
    "    if hotels[i].dtype == 'object':\n",
    "        cols_to_drop.append(i)\n",
    "        \n",
    "\n",
    "hotels.drop(cols_to_drop, axis=1, inplace=True)"
   ]
  },
  {
   "cell_type": "markdown",
   "metadata": {},
   "source": [
    "* проверка данных на нормальность"
   ]
  },
  {
   "cell_type": "code",
   "execution_count": 15,
   "metadata": {},
   "outputs": [],
   "source": [
    "# уровень значимости\n",
    "alpha = 0.05"
   ]
  },
  {
   "cell_type": "code",
   "execution_count": 16,
   "metadata": {},
   "outputs": [],
   "source": [
    "# цикл распределит столбцы на нормальные и не нормальные\n",
    "# в зависимости от полученного p-value\n",
    "norma = []\n",
    "not_norma = []\n",
    "\n",
    "for i in hotels.columns:\n",
    "    _, p = stats.shapiro(hotels[i])\n",
    "    if p <= alpha: not_norma.append(i)\n",
    "    else: norma.append(i)"
   ]
  },
  {
   "cell_type": "markdown",
   "metadata": {},
   "source": [
    "# model"
   ]
  },
  {
   "cell_type": "code",
   "execution_count": 17,
   "metadata": {},
   "outputs": [],
   "source": [
    "#X = hotels.drop(['reviewer_score'], axis = 1)  \n",
    "#y = hotels['reviewer_score']"
   ]
  },
  {
   "cell_type": "code",
   "execution_count": 18,
   "metadata": {},
   "outputs": [],
   "source": [
    "#X_train, X_test, y_train, y_test = train_test_split(X, y, test_size=0.25, random_state=42)"
   ]
  },
  {
   "cell_type": "code",
   "execution_count": null,
   "metadata": {},
   "outputs": [],
   "source": []
  },
  {
   "cell_type": "code",
   "execution_count": 19,
   "metadata": {},
   "outputs": [],
   "source": [
    "# Создаём модель  \n",
    "#regr = RandomForestRegressor(n_estimators=100)  \n",
    "      \n",
    "# Обучаем модель на тестовом наборе данных  \n",
    "#regr.fit(X_train, y_train)  \n",
    "      \n",
    "# Используем обученную модель для предсказания рейтинга отелей в тестовой выборке.  \n",
    "# Предсказанные значения записываем в переменную y_pred  \n",
    "#y_pred = regr.predict(X_test)"
   ]
  },
  {
   "cell_type": "code",
   "execution_count": 20,
   "metadata": {},
   "outputs": [],
   "source": [
    "#print('MAPE:', metrics.mean_absolute_percentage_error(y_test, y_pred))"
   ]
  },
  {
   "cell_type": "code",
   "execution_count": 55,
   "metadata": {},
   "outputs": [],
   "source": [
    "df = pd.da"
   ]
  }
 ],
 "metadata": {
  "kernelspec": {
   "display_name": "Python 3",
   "language": "python",
   "name": "python3"
  },
  "language_info": {
   "codemirror_mode": {
    "name": "ipython",
    "version": 3
   },
   "file_extension": ".py",
   "mimetype": "text/x-python",
   "name": "python",
   "nbconvert_exporter": "python",
   "pygments_lexer": "ipython3",
   "version": "3.9.10"
  }
 },
 "nbformat": 4,
 "nbformat_minor": 2
}
