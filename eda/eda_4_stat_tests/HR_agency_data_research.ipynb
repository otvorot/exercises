{
 "cells": [
  {
   "cell_type": "markdown",
   "metadata": {},
   "source": [
    "# ИССЛЕДОВАНИЕ ДАННЫХ HR-АГЕНТСТВА\n",
    "\n",
    "HR-агентство изучает тренды на рынке труда в IT. Компания хочет провести исследование на основе данных о зарплатах в сфере Data Science за 2020–2022 годы и получить некоторые выводы."
   ]
  },
  {
   "cell_type": "markdown",
   "metadata": {},
   "source": [
    "## Цели работы:\n",
    "\n",
    "1. Выяснить, какие факторы влияют на зарплату специалиста Data Scientist.\n",
    "2. А также ответить на ключевые вопросы HR-агентства:\n",
    "\n",
    "* Наблюдается ли ежегодный рост зарплат у специалистов Data Scientist?\n",
    "* Как соотносятся зарплаты Data Scientist и Data Engineer в 2022 году?\n",
    "* Как соотносятся зарплаты специалистов Data Scientist в компаниях различных размеров?\n",
    "* Есть ли связь между наличием должностей Data Scientist и Data Engineer и размером компании?\n",
    "\n",
    "\n",
    "Уровень статистической значимости - ***0,05***"
   ]
  },
  {
   "cell_type": "markdown",
   "metadata": {},
   "source": [
    "## 1. Загрузка и обработка данных"
   ]
  },
  {
   "cell_type": "markdown",
   "metadata": {},
   "source": [
    "1.1 Импортируем библиотеки и датасет, задаём уровень значимости"
   ]
  },
  {
   "cell_type": "code",
   "execution_count": 1,
   "metadata": {},
   "outputs": [],
   "source": [
    "import pandas as pd\n",
    "import matplotlib.pyplot as plt\n",
    "import seaborn as sns\n",
    "import re\n",
    "import warnings\n",
    "warnings.filterwarnings( 'ignore' )\n",
    "from scipy import stats"
   ]
  },
  {
   "cell_type": "code",
   "execution_count": 2,
   "metadata": {},
   "outputs": [],
   "source": [
    "main_data = pd.read_csv('data/ds_salaries.csv')"
   ]
  },
  {
   "cell_type": "code",
   "execution_count": 3,
   "metadata": {},
   "outputs": [],
   "source": [
    "alpha = 0.05"
   ]
  },
  {
   "cell_type": "markdown",
   "metadata": {},
   "source": [
    "1.2 Проверка на наличие пропусков и дубликатов, корректность типов данных"
   ]
  },
  {
   "cell_type": "code",
   "execution_count": 4,
   "metadata": {},
   "outputs": [
    {
     "name": "stdout",
     "output_type": "stream",
     "text": [
      "<class 'pandas.core.frame.DataFrame'>\n",
      "RangeIndex: 607 entries, 0 to 606\n",
      "Data columns (total 12 columns):\n",
      " #   Column              Non-Null Count  Dtype \n",
      "---  ------              --------------  ----- \n",
      " 0   Unnamed: 0          607 non-null    int64 \n",
      " 1   work_year           607 non-null    int64 \n",
      " 2   experience_level    607 non-null    object\n",
      " 3   employment_type     607 non-null    object\n",
      " 4   job_title           607 non-null    object\n",
      " 5   salary              607 non-null    int64 \n",
      " 6   salary_currency     607 non-null    object\n",
      " 7   salary_in_usd       607 non-null    int64 \n",
      " 8   employee_residence  607 non-null    object\n",
      " 9   remote_ratio        607 non-null    int64 \n",
      " 10  company_location    607 non-null    object\n",
      " 11  company_size        607 non-null    object\n",
      "dtypes: int64(5), object(7)\n",
      "memory usage: 57.0+ KB\n"
     ]
    }
   ],
   "source": [
    "main_data.info()"
   ]
  },
  {
   "cell_type": "markdown",
   "metadata": {},
   "source": [
    "*Датасет содержит *12* признаков по *607* строк, пропусков не имеет. Содержит три явно неинформативных признака \"Unnamed: 0\", \"salary\", \"salary_currency\". Датасет содержит четыре числовых признака:*\n",
    "\n",
    "- год работы,\n",
    "- зарплата,\n",
    "- зарплата в долларах,\n",
    "- объём работы выполняемой удалённо\n",
    "\n",
    "- Остальные признаки категориальные\n",
    "\n",
    " *Типы данных в признаках выглядят корректно, за исключением признака год работы, **возможно** придётся перевести его в формат datetime*"
   ]
  },
  {
   "cell_type": "markdown",
   "metadata": {},
   "source": [
    "* Удалим неинформативный признак и проверим датасет на наличие дубликатов, удалим их в случае нахождения"
   ]
  },
  {
   "cell_type": "code",
   "execution_count": 5,
   "metadata": {},
   "outputs": [],
   "source": [
    "main_data = main_data.drop(\n",
    "    columns=['Unnamed: 0', 'salary_currency', 'salary'],\n",
    "    axis=1\n",
    "    )"
   ]
  },
  {
   "cell_type": "code",
   "execution_count": 6,
   "metadata": {},
   "outputs": [
    {
     "name": "stdout",
     "output_type": "stream",
     "text": [
      "Общее количество строк : 607\n",
      "Количество полных дубликатов : 42\n",
      "Количество строк после удаления дубликатов: 565\n"
     ]
    }
   ],
   "source": [
    "print(f'Общее количество строк : {main_data.shape[0]}')\n",
    "print(f'Количество полных дубликатов : {main_data[main_data.duplicated()].shape[0]}')\n",
    "main_data = main_data.drop_duplicates()\n",
    "print(f'Количество строк после удаления дубликатов: {main_data.shape[0]}')"
   ]
  },
  {
   "cell_type": "markdown",
   "metadata": {},
   "source": [
    "* Посмотрим на информативность признаков"
   ]
  },
  {
   "cell_type": "code",
   "execution_count": 7,
   "metadata": {},
   "outputs": [
    {
     "name": "stdout",
     "output_type": "stream",
     "text": [
      "employment_type: 96.64% одинаковых значений\n"
     ]
    }
   ],
   "source": [
    "#список неинформативных признаков\n",
    "low_information_cols = [] \n",
    "\n",
    "#цикл по всем столбцам\n",
    "for col in main_data.columns:\n",
    "    #наибольшая относительная частота в признаке\n",
    "    top_freq = main_data[col].value_counts(normalize=True).max()\n",
    "    #доля уникальных значений от размера признака\n",
    "    nunique_ratio = main_data[col].nunique() / main_data[col].count()\n",
    "    # сравниваем наибольшую частоту с порогом\n",
    "    if top_freq > 0.95:\n",
    "        low_information_cols.append(col)\n",
    "        print(f'{col}: {round(top_freq*100, 2)}% одинаковых значений')\n",
    "    # сравниваем долю уникальных значений с порогом\n",
    "    if nunique_ratio > 0.95:\n",
    "        low_information_cols.append(col)\n",
    "        print(f'{col}: {round(nunique_ratio*100, 2)}% уникальных значений')\n",
    "        \n",
    "main_data = main_data.drop('employment_type', axis=1)"
   ]
  },
  {
   "cell_type": "markdown",
   "metadata": {},
   "source": [
    "*Признак \"тип трудоустройства\" имеет > 96% одинаковых значений, он не будет учавствовать в исследовании*"
   ]
  },
  {
   "cell_type": "markdown",
   "metadata": {},
   "source": [
    "* Посмотрим на основные статистические характеристики для каждого из признаков"
   ]
  },
  {
   "cell_type": "code",
   "execution_count": 8,
   "metadata": {},
   "outputs": [
    {
     "data": {
      "text/html": [
       "<div>\n",
       "<style scoped>\n",
       "    .dataframe tbody tr th:only-of-type {\n",
       "        vertical-align: middle;\n",
       "    }\n",
       "\n",
       "    .dataframe tbody tr th {\n",
       "        vertical-align: top;\n",
       "    }\n",
       "\n",
       "    .dataframe thead th {\n",
       "        text-align: right;\n",
       "    }\n",
       "</style>\n",
       "<table border=\"1\" class=\"dataframe\">\n",
       "  <thead>\n",
       "    <tr style=\"text-align: right;\">\n",
       "      <th></th>\n",
       "      <th>work_year</th>\n",
       "      <th>salary_in_usd</th>\n",
       "      <th>remote_ratio</th>\n",
       "    </tr>\n",
       "  </thead>\n",
       "  <tbody>\n",
       "    <tr>\n",
       "      <th>count</th>\n",
       "      <td>565.000000</td>\n",
       "      <td>565.000000</td>\n",
       "      <td>565.000000</td>\n",
       "    </tr>\n",
       "    <tr>\n",
       "      <th>mean</th>\n",
       "      <td>2021.364602</td>\n",
       "      <td>110610.343363</td>\n",
       "      <td>69.911504</td>\n",
       "    </tr>\n",
       "    <tr>\n",
       "      <th>std</th>\n",
       "      <td>0.698138</td>\n",
       "      <td>72280.702792</td>\n",
       "      <td>40.900666</td>\n",
       "    </tr>\n",
       "    <tr>\n",
       "      <th>min</th>\n",
       "      <td>2020.000000</td>\n",
       "      <td>2859.000000</td>\n",
       "      <td>0.000000</td>\n",
       "    </tr>\n",
       "    <tr>\n",
       "      <th>25%</th>\n",
       "      <td>2021.000000</td>\n",
       "      <td>60757.000000</td>\n",
       "      <td>50.000000</td>\n",
       "    </tr>\n",
       "    <tr>\n",
       "      <th>50%</th>\n",
       "      <td>2021.000000</td>\n",
       "      <td>100000.000000</td>\n",
       "      <td>100.000000</td>\n",
       "    </tr>\n",
       "    <tr>\n",
       "      <th>75%</th>\n",
       "      <td>2022.000000</td>\n",
       "      <td>150000.000000</td>\n",
       "      <td>100.000000</td>\n",
       "    </tr>\n",
       "    <tr>\n",
       "      <th>max</th>\n",
       "      <td>2022.000000</td>\n",
       "      <td>600000.000000</td>\n",
       "      <td>100.000000</td>\n",
       "    </tr>\n",
       "  </tbody>\n",
       "</table>\n",
       "</div>"
      ],
      "text/plain": [
       "         work_year  salary_in_usd  remote_ratio\n",
       "count   565.000000     565.000000    565.000000\n",
       "mean   2021.364602  110610.343363     69.911504\n",
       "std       0.698138   72280.702792     40.900666\n",
       "min    2020.000000    2859.000000      0.000000\n",
       "25%    2021.000000   60757.000000     50.000000\n",
       "50%    2021.000000  100000.000000    100.000000\n",
       "75%    2022.000000  150000.000000    100.000000\n",
       "max    2022.000000  600000.000000    100.000000"
      ]
     },
     "execution_count": 8,
     "metadata": {},
     "output_type": "execute_result"
    }
   ],
   "source": [
    "# для числовых признаков\n",
    "main_data.describe()"
   ]
  },
  {
   "cell_type": "code",
   "execution_count": 9,
   "metadata": {},
   "outputs": [
    {
     "data": {
      "text/html": [
       "<div>\n",
       "<style scoped>\n",
       "    .dataframe tbody tr th:only-of-type {\n",
       "        vertical-align: middle;\n",
       "    }\n",
       "\n",
       "    .dataframe tbody tr th {\n",
       "        vertical-align: top;\n",
       "    }\n",
       "\n",
       "    .dataframe thead th {\n",
       "        text-align: right;\n",
       "    }\n",
       "</style>\n",
       "<table border=\"1\" class=\"dataframe\">\n",
       "  <thead>\n",
       "    <tr style=\"text-align: right;\">\n",
       "      <th></th>\n",
       "      <th>experience_level</th>\n",
       "      <th>job_title</th>\n",
       "      <th>employee_residence</th>\n",
       "      <th>company_location</th>\n",
       "      <th>company_size</th>\n",
       "    </tr>\n",
       "  </thead>\n",
       "  <tbody>\n",
       "    <tr>\n",
       "      <th>count</th>\n",
       "      <td>565</td>\n",
       "      <td>565</td>\n",
       "      <td>565</td>\n",
       "      <td>565</td>\n",
       "      <td>565</td>\n",
       "    </tr>\n",
       "    <tr>\n",
       "      <th>unique</th>\n",
       "      <td>4</td>\n",
       "      <td>50</td>\n",
       "      <td>57</td>\n",
       "      <td>50</td>\n",
       "      <td>3</td>\n",
       "    </tr>\n",
       "    <tr>\n",
       "      <th>top</th>\n",
       "      <td>SE</td>\n",
       "      <td>Data Scientist</td>\n",
       "      <td>US</td>\n",
       "      <td>US</td>\n",
       "      <td>M</td>\n",
       "    </tr>\n",
       "    <tr>\n",
       "      <th>freq</th>\n",
       "      <td>243</td>\n",
       "      <td>130</td>\n",
       "      <td>295</td>\n",
       "      <td>318</td>\n",
       "      <td>290</td>\n",
       "    </tr>\n",
       "  </tbody>\n",
       "</table>\n",
       "</div>"
      ],
      "text/plain": [
       "       experience_level       job_title employee_residence company_location  \\\n",
       "count               565             565                565              565   \n",
       "unique                4              50                 57               50   \n",
       "top                  SE  Data Scientist                 US               US   \n",
       "freq                243             130                295              318   \n",
       "\n",
       "       company_size  \n",
       "count           565  \n",
       "unique            3  \n",
       "top               M  \n",
       "freq            290  "
      ]
     },
     "execution_count": 9,
     "metadata": {},
     "output_type": "execute_result"
    }
   ],
   "source": [
    "# для категориальных признаков\n",
    "category_features = []\n",
    "\n",
    "for i in main_data.columns:\n",
    "    if main_data[i].dtype == 'object':\n",
    "        category_features.append(i)\n",
    "        \n",
    "main_data[category_features].describe()"
   ]
  },
  {
   "cell_type": "markdown",
   "metadata": {},
   "source": [
    "## 2. Разведывательный анализ данных"
   ]
  },
  {
   "cell_type": "markdown",
   "metadata": {},
   "source": [
    "### 2.1 Визуальный анализ данных"
   ]
  },
  {
   "cell_type": "markdown",
   "metadata": {},
   "source": [
    "Построим графики для ключевых вопросов:\n",
    "\n",
    "2.1.1 Наблюдается ли ежегодный рост зарплат у специалистов Data Scientist?"
   ]
  },
  {
   "cell_type": "markdown",
   "metadata": {},
   "source": [
    "Определимся с понятиями:\n",
    "* Данные представлены на выборке за три года: 2020, 2021, 2022 года. Соответственно на вопрос о ежегодном росте зарплат нужно провести два теста - сравнить 20 и 21 года, 21 и 22 года. Тест из трёх выборок даст однозначный ответ только о неравенстве зарплат, без указания роста или снижения их.\n",
    "\n",
    "* В признаке Job Title я бы не проводил фильтраций. На мой взгляд все позиции присутствующие в признаке относятся, так или иначе, к Data-Sciense области. Но исходя из контекста заданий априори существует некая сепарация, например data scientist - data engineer. В соответствии c тз фильтрацию придётся провести."
   ]
  },
  {
   "cell_type": "code",
   "execution_count": 10,
   "metadata": {},
   "outputs": [],
   "source": [
    "# создание списка подходящих позиций\n",
    "expression = re.compile(\n",
    "    \"(?i)(\\W|^)(Data Scientist|Data Science)(\\W|$)\"\n",
    "    )\n",
    "all_titles = main_data['job_title'].unique()\n",
    "ds_titles = list(filter(expression.search, all_titles))\n",
    "\n",
    "# настроим маски для фильтрации датасета\n",
    "mask_1 = main_data['job_title'] == 'Data Scientist'\n",
    "mask_2 = main_data['job_title'] == 'Lead Data Scientist'\n",
    "mask_3 = main_data['job_title'] == 'Data Science Consultant'\n",
    "mask_4 = main_data['job_title'] == 'Director of Data Science'\n",
    "mask_5 = main_data['job_title'] == 'Principal Data Scientist'\n",
    "mask_6 = main_data['job_title'] == 'Data Science Manager'\n",
    "mask_7 = main_data['job_title'] == 'Applied Data Scientist'\n",
    "mask_8 = main_data['job_title'] == 'Data Science Engineer'\n",
    "mask_9 = main_data['job_title'] == 'Head of Data Science'\n",
    "mask_10 = main_data['job_title'] == 'Staff Data Scientist'\n",
    "\n",
    "# датасет для визулизации распределения зарплат для DS\n",
    "ds_data = main_data[mask_1 | mask_2 | mask_3 | mask_4 | mask_5 | mask_6 | mask_7 | mask_8 | mask_9 | mask_10]"
   ]
  },
  {
   "cell_type": "code",
   "execution_count": 11,
   "metadata": {},
   "outputs": [
    {
     "data": {
      "image/png": "[encoded data removed]",
      "text/plain": [
       "<Figure size 1500x800 with 3 Axes>"
      ]
     },
     "metadata": {},
     "output_type": "display_data"
    }
   ],
   "source": [
    "# Распределение зп по годам\n",
    "fig, axes = plt.subplots(3, 1, figsize=(15, 8))\n",
    "\n",
    "year_2020 = sns.histplot(\n",
    "    data=ds_data[ds_data['work_year'] == 2020]['salary_in_usd'].to_frame(),\n",
    "    x='salary_in_usd',\n",
    "    bins=20,\n",
    "    kde=True,\n",
    "    ax=axes[0]\n",
    ")\n",
    "year_2020.set_title('Распределение зп за 2020 год');\n",
    "year_2020.axvline(\n",
    "    ds_data[ds_data['work_year'] == 2020]['salary_in_usd'].median(),\n",
    "    color='red',\n",
    "    linestyle='--');\n",
    "\n",
    "year_2021 = sns.histplot(\n",
    "    data=ds_data[ds_data['work_year'] == 2021]['salary_in_usd'].to_frame(),\n",
    "    x='salary_in_usd',\n",
    "    bins=20,\n",
    "    kde=True,\n",
    "    ax=axes[1]\n",
    ")\n",
    "year_2021.set_title('Распределение зп за 2021 год');\n",
    "year_2021.axvline(\n",
    "    ds_data[ds_data['work_year'] == 2021]['salary_in_usd'].median(),\n",
    "    color='red',\n",
    "    linestyle='--');\n",
    "\n",
    "year_2022 = sns.histplot(\n",
    "    data=ds_data[ds_data['work_year'] == 2022]['salary_in_usd'].to_frame(),\n",
    "    x='salary_in_usd',\n",
    "    bins=20,\n",
    "    kde=True,\n",
    "    ax=axes[2]\n",
    ")\n",
    "year_2022.set_title('Распределение зп за 2022 год');\n",
    "year_2022.axvline(\n",
    "    ds_data[ds_data['work_year'] == 2022]['salary_in_usd'].median(),\n",
    "    color='red',\n",
    "    linestyle='--');"
   ]
  },
  {
   "cell_type": "code",
   "execution_count": 12,
   "metadata": {},
   "outputs": [
    {
     "data": {
      "text/html": [
       "<div>\n",
       "<style scoped>\n",
       "    .dataframe tbody tr th:only-of-type {\n",
       "        vertical-align: middle;\n",
       "    }\n",
       "\n",
       "    .dataframe tbody tr th {\n",
       "        vertical-align: top;\n",
       "    }\n",
       "\n",
       "    .dataframe thead th {\n",
       "        text-align: right;\n",
       "    }\n",
       "</style>\n",
       "<table border=\"1\" class=\"dataframe\">\n",
       "  <thead>\n",
       "    <tr style=\"text-align: right;\">\n",
       "      <th></th>\n",
       "      <th>count</th>\n",
       "      <th>mean</th>\n",
       "      <th>std</th>\n",
       "      <th>min</th>\n",
       "      <th>25%</th>\n",
       "      <th>50%</th>\n",
       "      <th>75%</th>\n",
       "      <th>max</th>\n",
       "    </tr>\n",
       "    <tr>\n",
       "      <th>work_year</th>\n",
       "      <th></th>\n",
       "      <th></th>\n",
       "      <th></th>\n",
       "      <th></th>\n",
       "      <th></th>\n",
       "      <th></th>\n",
       "      <th></th>\n",
       "      <th></th>\n",
       "    </tr>\n",
       "  </thead>\n",
       "  <tbody>\n",
       "    <tr>\n",
       "      <th>2020</th>\n",
       "      <td>28.0</td>\n",
       "      <td>102948.0</td>\n",
       "      <td>89203.0</td>\n",
       "      <td>5707.0</td>\n",
       "      <td>44869.0</td>\n",
       "      <td>78396.0</td>\n",
       "      <td>118500.0</td>\n",
       "      <td>412000.0</td>\n",
       "    </tr>\n",
       "    <tr>\n",
       "      <th>2021</th>\n",
       "      <td>73.0</td>\n",
       "      <td>96398.0</td>\n",
       "      <td>69450.0</td>\n",
       "      <td>2859.0</td>\n",
       "      <td>49646.0</td>\n",
       "      <td>87738.0</td>\n",
       "      <td>130026.0</td>\n",
       "      <td>416000.0</td>\n",
       "    </tr>\n",
       "    <tr>\n",
       "      <th>2022</th>\n",
       "      <td>78.0</td>\n",
       "      <td>139941.0</td>\n",
       "      <td>61628.0</td>\n",
       "      <td>18442.0</td>\n",
       "      <td>100000.0</td>\n",
       "      <td>140400.0</td>\n",
       "      <td>176750.0</td>\n",
       "      <td>380000.0</td>\n",
       "    </tr>\n",
       "  </tbody>\n",
       "</table>\n",
       "</div>"
      ],
      "text/plain": [
       "           count      mean      std      min       25%       50%       75%  \\\n",
       "work_year                                                                    \n",
       "2020        28.0  102948.0  89203.0   5707.0   44869.0   78396.0  118500.0   \n",
       "2021        73.0   96398.0  69450.0   2859.0   49646.0   87738.0  130026.0   \n",
       "2022        78.0  139941.0  61628.0  18442.0  100000.0  140400.0  176750.0   \n",
       "\n",
       "                max  \n",
       "work_year            \n",
       "2020       412000.0  \n",
       "2021       416000.0  \n",
       "2022       380000.0  "
      ]
     },
     "execution_count": 12,
     "metadata": {},
     "output_type": "execute_result"
    }
   ],
   "source": [
    "# посмотрим на числовые значения\n",
    "salary_description = ds_data.groupby('work_year')['salary_in_usd'].describe().round()\n",
    "salary_description"
   ]
  },
  {
   "cell_type": "markdown",
   "metadata": {},
   "source": [
    "Вывод по визуализации распределения зарплат по годам:\n",
    "\n",
    "Распределение за все 3 года не выглядят нормальными, выборка за 2020 год имеет существенно меньшее количество записей относительно 21-22 годов. На всех графиках присутствуют выбросные значения. С 20 на 21 год медианные значения выросли приблизительно на 10к, средние снизились на 6к. C 21 на 22 год медиана и среднее выросли приблизительно на 35 и 50 процентов соответственно. Мало оснований предполагать что средние зп выростают ежегодно, но они есть"
   ]
  },
  {
   "cell_type": "markdown",
   "metadata": {},
   "source": [
    "2.1.2 Как соотносятся зарплаты Data Scientist и Data Engineer в 2022 году?"
   ]
  },
  {
   "cell_type": "code",
   "execution_count": 13,
   "metadata": {},
   "outputs": [],
   "source": [
    "# Список подходящих позиций\n",
    "expression = re.compile(\"(?i)(\\W|^)(Data Engineer|Data Engineering)(\\W|$)\")\n",
    "eng_titles = list(filter(expression.search, main_data['job_title'].unique()))\n",
    "\n",
    "# настроим маски для фильтрации датасета\n",
    "mask_1 = main_data['job_title'] == 'Big Data Engineer'\n",
    "mask_2 = main_data['job_title'] == 'Lead Data Engineer'\n",
    "mask_3 = main_data['job_title'] == 'Data Engineer'\n",
    "mask_4 = main_data['job_title'] == 'Data Engineering Manager'\n",
    "mask_5 = main_data['job_title'] == 'Cloud Data Engineer'\n",
    "mask_6 = main_data['job_title'] == 'Director of Data Engineering'\n",
    "mask_7 = main_data['job_title'] == 'Principal Data Engineer'\n",
    "\n",
    "# датасет для визуализации распределения зарплат Data Engineer\n",
    "eng_data = main_data[mask_1 | mask_2 | mask_3 | mask_4 | mask_5 | mask_6 | mask_7]"
   ]
  },
  {
   "cell_type": "code",
   "execution_count": 14,
   "metadata": {},
   "outputs": [
    {
     "data": {
      "image/png": "[encoded data removed]",
      "text/plain": [
       "<Figure size 1500x1000 with 2 Axes>"
      ]
     },
     "metadata": {},
     "output_type": "display_data"
    }
   ],
   "source": [
    "# График соотношения распределений зарплат Data Science - Data Engineer\n",
    "fig, axes = plt.subplots(2, 1, figsize=(15, 10))\n",
    "\n",
    "ds_plot = sns.histplot(\n",
    "    data=ds_data[ds_data['work_year'] == 2022],\n",
    "    x='salary_in_usd',\n",
    "    kde=True,\n",
    "    ax=axes[0]\n",
    ")\n",
    "ds_plot.set_title('Распределение зарплат Data Science в 2022');\n",
    "ds_plot.axvline(\n",
    "    ds_data[ds_data['work_year'] == 2022]['salary_in_usd'].median(),\n",
    "    color='red',\n",
    "    linestyle='--'\n",
    "    );\n",
    "\n",
    "eng_plot = sns.histplot(\n",
    "    data=eng_data[eng_data['work_year'] == 2022],\n",
    "    x='salary_in_usd',\n",
    "    kde=True,\n",
    "    ax=axes[1]\n",
    ")\n",
    "eng_plot.set_title('Распределение зарплат Data Engineer в 2022');\n",
    "eng_plot.axvline(\n",
    "    eng_data[eng_data['work_year'] == 2022]['salary_in_usd'].median(),\n",
    "    color='red',\n",
    "    linestyle='--'\n",
    "    );"
   ]
  },
  {
   "cell_type": "markdown",
   "metadata": {},
   "source": [
    "Посмотрим на распределение признаков в цифрах"
   ]
  },
  {
   "cell_type": "code",
   "execution_count": 15,
   "metadata": {},
   "outputs": [
    {
     "data": {
      "text/html": [
       "<div>\n",
       "<style scoped>\n",
       "    .dataframe tbody tr th:only-of-type {\n",
       "        vertical-align: middle;\n",
       "    }\n",
       "\n",
       "    .dataframe tbody tr th {\n",
       "        vertical-align: top;\n",
       "    }\n",
       "\n",
       "    .dataframe thead th {\n",
       "        text-align: right;\n",
       "    }\n",
       "</style>\n",
       "<table border=\"1\" class=\"dataframe\">\n",
       "  <thead>\n",
       "    <tr style=\"text-align: right;\">\n",
       "      <th></th>\n",
       "      <th>salary_in_usd</th>\n",
       "    </tr>\n",
       "  </thead>\n",
       "  <tbody>\n",
       "    <tr>\n",
       "      <th>count</th>\n",
       "      <td>78.0</td>\n",
       "    </tr>\n",
       "    <tr>\n",
       "      <th>mean</th>\n",
       "      <td>139941.0</td>\n",
       "    </tr>\n",
       "    <tr>\n",
       "      <th>std</th>\n",
       "      <td>61628.0</td>\n",
       "    </tr>\n",
       "    <tr>\n",
       "      <th>min</th>\n",
       "      <td>18442.0</td>\n",
       "    </tr>\n",
       "    <tr>\n",
       "      <th>25%</th>\n",
       "      <td>100000.0</td>\n",
       "    </tr>\n",
       "    <tr>\n",
       "      <th>50%</th>\n",
       "      <td>140400.0</td>\n",
       "    </tr>\n",
       "    <tr>\n",
       "      <th>75%</th>\n",
       "      <td>176750.0</td>\n",
       "    </tr>\n",
       "    <tr>\n",
       "      <th>max</th>\n",
       "      <td>380000.0</td>\n",
       "    </tr>\n",
       "  </tbody>\n",
       "</table>\n",
       "</div>"
      ],
      "text/plain": [
       "       salary_in_usd\n",
       "count           78.0\n",
       "mean        139941.0\n",
       "std          61628.0\n",
       "min          18442.0\n",
       "25%         100000.0\n",
       "50%         140400.0\n",
       "75%         176750.0\n",
       "max         380000.0"
      ]
     },
     "metadata": {},
     "output_type": "display_data"
    },
    {
     "data": {
      "text/html": [
       "<div>\n",
       "<style scoped>\n",
       "    .dataframe tbody tr th:only-of-type {\n",
       "        vertical-align: middle;\n",
       "    }\n",
       "\n",
       "    .dataframe tbody tr th {\n",
       "        vertical-align: top;\n",
       "    }\n",
       "\n",
       "    .dataframe thead th {\n",
       "        text-align: right;\n",
       "    }\n",
       "</style>\n",
       "<table border=\"1\" class=\"dataframe\">\n",
       "  <thead>\n",
       "    <tr style=\"text-align: right;\">\n",
       "      <th></th>\n",
       "      <th>salary_in_usd</th>\n",
       "    </tr>\n",
       "  </thead>\n",
       "  <tbody>\n",
       "    <tr>\n",
       "      <th>count</th>\n",
       "      <td>80.0</td>\n",
       "    </tr>\n",
       "    <tr>\n",
       "      <th>mean</th>\n",
       "      <td>124571.0</td>\n",
       "    </tr>\n",
       "    <tr>\n",
       "      <th>std</th>\n",
       "      <td>57484.0</td>\n",
       "    </tr>\n",
       "    <tr>\n",
       "      <th>min</th>\n",
       "      <td>25000.0</td>\n",
       "    </tr>\n",
       "    <tr>\n",
       "      <th>25%</th>\n",
       "      <td>78526.0</td>\n",
       "    </tr>\n",
       "    <tr>\n",
       "      <th>50%</th>\n",
       "      <td>116394.0</td>\n",
       "    </tr>\n",
       "    <tr>\n",
       "      <th>75%</th>\n",
       "      <td>160020.0</td>\n",
       "    </tr>\n",
       "    <tr>\n",
       "      <th>max</th>\n",
       "      <td>324000.0</td>\n",
       "    </tr>\n",
       "  </tbody>\n",
       "</table>\n",
       "</div>"
      ],
      "text/plain": [
       "       salary_in_usd\n",
       "count           80.0\n",
       "mean        124571.0\n",
       "std          57484.0\n",
       "min          25000.0\n",
       "25%          78526.0\n",
       "50%         116394.0\n",
       "75%         160020.0\n",
       "max         324000.0"
      ]
     },
     "metadata": {},
     "output_type": "display_data"
    }
   ],
   "source": [
    "# для дата-сайнтистов\n",
    "ds_salary_describe = ds_data[\n",
    "    ds_data['work_year'] == 2022\n",
    "    ]['salary_in_usd'].describe().round().to_frame()\n",
    "display(ds_salary_describe)\n",
    "\n",
    "# для дата инженеров\n",
    "eng_salary_describe = eng_data[\n",
    "    eng_data['work_year'] == 2022\n",
    "    ]['salary_in_usd'].describe().round().to_frame()\n",
    "display(eng_salary_describe)"
   ]
  },
  {
   "cell_type": "markdown",
   "metadata": {},
   "source": [
    "Вывод по визуальному анализу: \n",
    "Признаки не распределениы нормально, значения медиан и средних зарплат на 2022 год у дата-сайнтистов превышают значения зарплат для дата-инженеров"
   ]
  },
  {
   "cell_type": "markdown",
   "metadata": {},
   "source": [
    "2.1.3 Как соотносятся зарплаты специалистов Data Scientist в компаниях различных размеров?"
   ]
  },
  {
   "cell_type": "code",
   "execution_count": 16,
   "metadata": {},
   "outputs": [
    {
     "data": {
      "image/png": "[encoded data removed]",
      "text/plain": [
       "<Figure size 1500x800 with 1 Axes>"
      ]
     },
     "metadata": {},
     "output_type": "display_data"
    }
   ],
   "source": [
    "fig = plt.figure(figsize=(15, 8))\n",
    "\n",
    "# посмотирим на распределения применив коробчатую диаграмму\n",
    "box = sns.boxplot(\n",
    "    data=ds_data,\n",
    "    x='salary_in_usd',\n",
    "    hue='company_size',\n",
    "    hue_order=['S', 'M', 'L'],\n",
    "    orient='h'\n",
    ")\n",
    "box.set_title('Соотношение зарплат относительно размера компании');"
   ]
  },
  {
   "cell_type": "code",
   "execution_count": 17,
   "metadata": {},
   "outputs": [
    {
     "data": {
      "text/html": [
       "<div>\n",
       "<style scoped>\n",
       "    .dataframe tbody tr th:only-of-type {\n",
       "        vertical-align: middle;\n",
       "    }\n",
       "\n",
       "    .dataframe tbody tr th {\n",
       "        vertical-align: top;\n",
       "    }\n",
       "\n",
       "    .dataframe thead th {\n",
       "        text-align: right;\n",
       "    }\n",
       "</style>\n",
       "<table border=\"1\" class=\"dataframe\">\n",
       "  <thead>\n",
       "    <tr style=\"text-align: right;\">\n",
       "      <th></th>\n",
       "      <th>count</th>\n",
       "      <th>mean</th>\n",
       "      <th>std</th>\n",
       "      <th>min</th>\n",
       "      <th>25%</th>\n",
       "      <th>50%</th>\n",
       "      <th>75%</th>\n",
       "      <th>max</th>\n",
       "    </tr>\n",
       "    <tr>\n",
       "      <th>company_size</th>\n",
       "      <th></th>\n",
       "      <th></th>\n",
       "      <th></th>\n",
       "      <th></th>\n",
       "      <th></th>\n",
       "      <th></th>\n",
       "      <th></th>\n",
       "      <th></th>\n",
       "    </tr>\n",
       "  </thead>\n",
       "  <tbody>\n",
       "    <tr>\n",
       "      <th>L</th>\n",
       "      <td>69.0</td>\n",
       "      <td>121956.0</td>\n",
       "      <td>80842.0</td>\n",
       "      <td>13400.0</td>\n",
       "      <td>56256.0</td>\n",
       "      <td>115000.0</td>\n",
       "      <td>157000.0</td>\n",
       "      <td>412000.0</td>\n",
       "    </tr>\n",
       "    <tr>\n",
       "      <th>M</th>\n",
       "      <td>82.0</td>\n",
       "      <td>124500.0</td>\n",
       "      <td>57571.0</td>\n",
       "      <td>4000.0</td>\n",
       "      <td>85426.0</td>\n",
       "      <td>130000.0</td>\n",
       "      <td>164418.0</td>\n",
       "      <td>260000.0</td>\n",
       "    </tr>\n",
       "    <tr>\n",
       "      <th>S</th>\n",
       "      <td>28.0</td>\n",
       "      <td>78965.0</td>\n",
       "      <td>79917.0</td>\n",
       "      <td>2859.0</td>\n",
       "      <td>38031.0</td>\n",
       "      <td>66234.0</td>\n",
       "      <td>90309.0</td>\n",
       "      <td>416000.0</td>\n",
       "    </tr>\n",
       "  </tbody>\n",
       "</table>\n",
       "</div>"
      ],
      "text/plain": [
       "              count      mean      std      min      25%       50%       75%  \\\n",
       "company_size                                                                   \n",
       "L              69.0  121956.0  80842.0  13400.0  56256.0  115000.0  157000.0   \n",
       "M              82.0  124500.0  57571.0   4000.0  85426.0  130000.0  164418.0   \n",
       "S              28.0   78965.0  79917.0   2859.0  38031.0   66234.0   90309.0   \n",
       "\n",
       "                   max  \n",
       "company_size            \n",
       "L             412000.0  \n",
       "M             260000.0  \n",
       "S             416000.0  "
      ]
     },
     "execution_count": 17,
     "metadata": {},
     "output_type": "execute_result"
    }
   ],
   "source": [
    "# Посмотрим на распределения в цифрах\n",
    "ds_data.groupby('company_size')['salary_in_usd'].describe().round()"
   ]
  },
  {
   "cell_type": "markdown",
   "metadata": {},
   "source": [
    "Выводы по визуализации: \n",
    "Распределения не выглядят нормальными, за исключением средних компаний, присутствует разница по количеству записей в выборках. В малых компаниях основные статистические параметры явно ниже. А вот в средних и крупных компаниях значения сопоставимы, за исключением максимальных значений, они в крупных компаниях на порядок выше"
   ]
  },
  {
   "cell_type": "markdown",
   "metadata": {},
   "source": [
    "2.1.4 Есть ли связь между наличием должностей Data Scientist и Data Engineer и размером компании?"
   ]
  },
  {
   "cell_type": "code",
   "execution_count": 18,
   "metadata": {},
   "outputs": [],
   "source": [
    "# для двух ранее отфильтрованых датафреймов создадим\n",
    "# объединяющий признак по должностям\n",
    "ds_data['bin'] = 'scientist'\n",
    "eng_data['bin'] = 'engineer'\n",
    "\n",
    "# соединим таблицы\n",
    "x = pd.concat([ds_data, eng_data])\n",
    "\n",
    "# строим таблицу сопряжённости\n",
    "cross = pd.crosstab(x['company_size'], x['bin'])"
   ]
  },
  {
   "cell_type": "code",
   "execution_count": 19,
   "metadata": {},
   "outputs": [
    {
     "data": {
      "image/png": "[encoded data removed]",
      "text/plain": [
       "<Figure size 640x480 with 2 Axes>"
      ]
     },
     "metadata": {},
     "output_type": "display_data"
    }
   ],
   "source": [
    "heat = sns.heatmap(\n",
    "    cross,\n",
    "    annot=True\n",
    ")\n",
    "heat.set_title('таблица сопряженности');"
   ]
  },
  {
   "cell_type": "markdown",
   "metadata": {},
   "source": [
    "Выводы по категориальным признакам сделаем после статистических тестов"
   ]
  },
  {
   "cell_type": "markdown",
   "metadata": {},
   "source": [
    "### Проведём дополнительные исследования признаков влияющих на зарплату специалистов"
   ]
  },
  {
   "cell_type": "markdown",
   "metadata": {},
   "source": [
    "2.1.5 Как соотносятся зарплаты сотрудников любых должностей в разрезе опыта"
   ]
  },
  {
   "cell_type": "code",
   "execution_count": 20,
   "metadata": {},
   "outputs": [
    {
     "data": {
      "image/png": "[encoded data removed]",
      "text/plain": [
       "<Figure size 1000x1500 with 1 Axes>"
      ]
     },
     "metadata": {},
     "output_type": "display_data"
    }
   ],
   "source": [
    "fig = plt.figure(figsize=(10, 15))\n",
    "\n",
    "box = sns.boxplot(\n",
    "    main_data,\n",
    "    x='salary_in_usd',\n",
    "    hue='experience_level',\n",
    "    hue_order=['EN', 'MI', 'SE', 'EX']\n",
    ")\n",
    "box.set_title('Распределение зарплат в разрезе опыта сотрудника');"
   ]
  },
  {
   "cell_type": "code",
   "execution_count": 21,
   "metadata": {},
   "outputs": [
    {
     "data": {
      "text/html": [
       "<div>\n",
       "<style scoped>\n",
       "    .dataframe tbody tr th:only-of-type {\n",
       "        vertical-align: middle;\n",
       "    }\n",
       "\n",
       "    .dataframe tbody tr th {\n",
       "        vertical-align: top;\n",
       "    }\n",
       "\n",
       "    .dataframe thead th {\n",
       "        text-align: right;\n",
       "    }\n",
       "</style>\n",
       "<table border=\"1\" class=\"dataframe\">\n",
       "  <thead>\n",
       "    <tr style=\"text-align: right;\">\n",
       "      <th></th>\n",
       "      <th>count</th>\n",
       "      <th>mean</th>\n",
       "      <th>std</th>\n",
       "      <th>min</th>\n",
       "      <th>25%</th>\n",
       "      <th>50%</th>\n",
       "      <th>75%</th>\n",
       "      <th>max</th>\n",
       "    </tr>\n",
       "    <tr>\n",
       "      <th>experience_level</th>\n",
       "      <th></th>\n",
       "      <th></th>\n",
       "      <th></th>\n",
       "      <th></th>\n",
       "      <th></th>\n",
       "      <th></th>\n",
       "      <th></th>\n",
       "      <th></th>\n",
       "    </tr>\n",
       "  </thead>\n",
       "  <tbody>\n",
       "    <tr>\n",
       "      <th>EN</th>\n",
       "      <td>88.0</td>\n",
       "      <td>61643.0</td>\n",
       "      <td>44396.0</td>\n",
       "      <td>4000.0</td>\n",
       "      <td>27505.0</td>\n",
       "      <td>56500.0</td>\n",
       "      <td>85426.0</td>\n",
       "      <td>250000.0</td>\n",
       "    </tr>\n",
       "    <tr>\n",
       "      <th>EX</th>\n",
       "      <td>26.0</td>\n",
       "      <td>199392.0</td>\n",
       "      <td>117071.0</td>\n",
       "      <td>69741.0</td>\n",
       "      <td>130006.0</td>\n",
       "      <td>171438.0</td>\n",
       "      <td>233750.0</td>\n",
       "      <td>600000.0</td>\n",
       "    </tr>\n",
       "    <tr>\n",
       "      <th>MI</th>\n",
       "      <td>208.0</td>\n",
       "      <td>87793.0</td>\n",
       "      <td>64119.0</td>\n",
       "      <td>2859.0</td>\n",
       "      <td>47164.0</td>\n",
       "      <td>76940.0</td>\n",
       "      <td>112075.0</td>\n",
       "      <td>450000.0</td>\n",
       "    </tr>\n",
       "    <tr>\n",
       "      <th>SE</th>\n",
       "      <td>243.0</td>\n",
       "      <td>138375.0</td>\n",
       "      <td>59956.0</td>\n",
       "      <td>18907.0</td>\n",
       "      <td>99532.0</td>\n",
       "      <td>135000.0</td>\n",
       "      <td>171881.0</td>\n",
       "      <td>412000.0</td>\n",
       "    </tr>\n",
       "  </tbody>\n",
       "</table>\n",
       "</div>"
      ],
      "text/plain": [
       "                  count      mean       std      min       25%       50%  \\\n",
       "experience_level                                                           \n",
       "EN                 88.0   61643.0   44396.0   4000.0   27505.0   56500.0   \n",
       "EX                 26.0  199392.0  117071.0  69741.0  130006.0  171438.0   \n",
       "MI                208.0   87793.0   64119.0   2859.0   47164.0   76940.0   \n",
       "SE                243.0  138375.0   59956.0  18907.0   99532.0  135000.0   \n",
       "\n",
       "                       75%       max  \n",
       "experience_level                      \n",
       "EN                 85426.0  250000.0  \n",
       "EX                233750.0  600000.0  \n",
       "MI                112075.0  450000.0  \n",
       "SE                171881.0  412000.0  "
      ]
     },
     "execution_count": 21,
     "metadata": {},
     "output_type": "execute_result"
    }
   ],
   "source": [
    "main_data.groupby(\n",
    "    'experience_level'\n",
    "    )['salary_in_usd'].describe().round()"
   ]
  },
  {
   "cell_type": "markdown",
   "metadata": {},
   "source": [
    "Выводы по визуализации:\n",
    "Средние и медианы признаков довольно существенно различаются, признаки не распределены нормально"
   ]
  },
  {
   "cell_type": "markdown",
   "metadata": {},
   "source": [
    "2.1.6 Посмотрим на то как влияет национальная (здесь в разрезе региона) принадлежность на уровень зарплаты"
   ]
  },
  {
   "cell_type": "code",
   "execution_count": 22,
   "metadata": {},
   "outputs": [],
   "source": [
    "# считаем xml - таблицу с кодами стран\n",
    "countries = pd.read_xml(\n",
    "    'https://www.artlebedev.ru/country-list/xml/'\n",
    "    )\n",
    "\n",
    "# соединим нашу основную таблицу и таблицу с кодами стран,\n",
    "# чтоб получить соответствие региону\n",
    "data_w_countries = main_data.merge(\n",
    "    countries,\n",
    "    how='left',\n",
    "    left_on='employee_residence',\n",
    "    right_on='alpha2'\n",
    "    )\n",
    "\n",
    "# удалим ненужные столбцы\n",
    "data_w_countries = data_w_countries.drop(\n",
    "    [\n",
    "    'fullname', 'name', 'alpha2', 'alpha3', 'iso', 'location-precise'\n",
    "    ], \n",
    "    axis=1\n",
    "    )"
   ]
  },
  {
   "cell_type": "code",
   "execution_count": 23,
   "metadata": {},
   "outputs": [
    {
     "data": {
      "image/png": "[encoded data removed]",
      "text/plain": [
       "<Figure size 2000x1000 with 1 Axes>"
      ]
     },
     "metadata": {},
     "output_type": "display_data"
    }
   ],
   "source": [
    "fig = plt.figure(figsize=(20, 10))\n",
    "\n",
    "box = sns.boxplot(\n",
    "    data_w_countries,\n",
    "    x='salary_in_usd',\n",
    "    hue='location',\n",
    "    orient='h',\n",
    "    hue_order=['Африка', 'Азия', 'Европа', 'Океания', 'Америка'] \n",
    ")\n",
    "box.set_title('Распределение зарплат относительно региона');"
   ]
  },
  {
   "cell_type": "code",
   "execution_count": 24,
   "metadata": {},
   "outputs": [
    {
     "data": {
      "text/html": [
       "<div>\n",
       "<style scoped>\n",
       "    .dataframe tbody tr th:only-of-type {\n",
       "        vertical-align: middle;\n",
       "    }\n",
       "\n",
       "    .dataframe tbody tr th {\n",
       "        vertical-align: top;\n",
       "    }\n",
       "\n",
       "    .dataframe thead th {\n",
       "        text-align: right;\n",
       "    }\n",
       "</style>\n",
       "<table border=\"1\" class=\"dataframe\">\n",
       "  <thead>\n",
       "    <tr style=\"text-align: right;\">\n",
       "      <th></th>\n",
       "      <th>count</th>\n",
       "      <th>mean</th>\n",
       "      <th>std</th>\n",
       "      <th>min</th>\n",
       "      <th>25%</th>\n",
       "      <th>50%</th>\n",
       "      <th>75%</th>\n",
       "      <th>max</th>\n",
       "    </tr>\n",
       "    <tr>\n",
       "      <th>location</th>\n",
       "      <th></th>\n",
       "      <th></th>\n",
       "      <th></th>\n",
       "      <th></th>\n",
       "      <th></th>\n",
       "      <th></th>\n",
       "      <th></th>\n",
       "      <th></th>\n",
       "    </tr>\n",
       "  </thead>\n",
       "  <tbody>\n",
       "    <tr>\n",
       "      <th>Азия</th>\n",
       "      <td>60.0</td>\n",
       "      <td>52156.0</td>\n",
       "      <td>54233.0</td>\n",
       "      <td>4000.0</td>\n",
       "      <td>17766.0</td>\n",
       "      <td>32712.0</td>\n",
       "      <td>66083.0</td>\n",
       "      <td>260000.0</td>\n",
       "    </tr>\n",
       "    <tr>\n",
       "      <th>Америка</th>\n",
       "      <td>336.0</td>\n",
       "      <td>141795.0</td>\n",
       "      <td>72095.0</td>\n",
       "      <td>2859.0</td>\n",
       "      <td>99926.0</td>\n",
       "      <td>132160.0</td>\n",
       "      <td>170000.0</td>\n",
       "      <td>600000.0</td>\n",
       "    </tr>\n",
       "    <tr>\n",
       "      <th>Африка</th>\n",
       "      <td>5.0</td>\n",
       "      <td>40229.0</td>\n",
       "      <td>37450.0</td>\n",
       "      <td>9272.0</td>\n",
       "      <td>10000.0</td>\n",
       "      <td>31875.0</td>\n",
       "      <td>50000.0</td>\n",
       "      <td>100000.0</td>\n",
       "    </tr>\n",
       "    <tr>\n",
       "      <th>Европа</th>\n",
       "      <td>160.0</td>\n",
       "      <td>69200.0</td>\n",
       "      <td>34793.0</td>\n",
       "      <td>10000.0</td>\n",
       "      <td>46422.0</td>\n",
       "      <td>63278.0</td>\n",
       "      <td>87932.0</td>\n",
       "      <td>230000.0</td>\n",
       "    </tr>\n",
       "    <tr>\n",
       "      <th>Океания</th>\n",
       "      <td>4.0</td>\n",
       "      <td>112282.0</td>\n",
       "      <td>30857.0</td>\n",
       "      <td>86703.0</td>\n",
       "      <td>87244.0</td>\n",
       "      <td>106212.0</td>\n",
       "      <td>131250.0</td>\n",
       "      <td>150000.0</td>\n",
       "    </tr>\n",
       "  </tbody>\n",
       "</table>\n",
       "</div>"
      ],
      "text/plain": [
       "          count      mean      std      min      25%       50%       75%  \\\n",
       "location                                                                   \n",
       "Азия       60.0   52156.0  54233.0   4000.0  17766.0   32712.0   66083.0   \n",
       "Америка   336.0  141795.0  72095.0   2859.0  99926.0  132160.0  170000.0   \n",
       "Африка      5.0   40229.0  37450.0   9272.0  10000.0   31875.0   50000.0   \n",
       "Европа    160.0   69200.0  34793.0  10000.0  46422.0   63278.0   87932.0   \n",
       "Океания     4.0  112282.0  30857.0  86703.0  87244.0  106212.0  131250.0   \n",
       "\n",
       "               max  \n",
       "location            \n",
       "Азия      260000.0  \n",
       "Америка   600000.0  \n",
       "Африка    100000.0  \n",
       "Европа    230000.0  \n",
       "Океания   150000.0  "
      ]
     },
     "execution_count": 24,
     "metadata": {},
     "output_type": "execute_result"
    }
   ],
   "source": [
    "data_w_countries.groupby('location')['salary_in_usd'].describe().round()"
   ]
  },
  {
   "cell_type": "markdown",
   "metadata": {},
   "source": [
    "Выводы по визуальному анализу распределения зарплат в разрезе принадлежности:\n",
    "Придётся убрать из исследования выборки по Африке и Океании (Н. Зеландия, Австралия), по причине недостаточности. Средние отличаются почти в 3 раза между Азией и Америкой, разница по медианам ещё больше. Распределения не кажутся нормальными, но выборка по Америке близка к нормальному распределению."
   ]
  },
  {
   "cell_type": "markdown",
   "metadata": {},
   "source": [
    "## Статистические тесты"
   ]
  },
  {
   "cell_type": "code",
   "execution_count": 25,
   "metadata": {},
   "outputs": [],
   "source": [
    "# функция для принятия решения о нормальности\n",
    "def decision_normality(p):\n",
    "    print('p-value = {:.3f}'.format(p))\n",
    "    if p <= alpha:\n",
    "        print('p-значение меньше, чем заданный уровень значимости {:.2f}. Распределение отлично от нормального'.format(alpha))\n",
    "    else:\n",
    "        print('p-значение больше, чем заданный уровень значимости {:.2f}. Распределение является нормальным'.format(alpha))\n",
    "    \n",
    "# функция для принятия решения об отклонении нулевой гипотезы\n",
    "def decision_hypothesis(p):\n",
    "    print('p-value = {:.3f}'.format(p))\n",
    "    if p <= alpha:\n",
    "        print('p-значение меньше, чем заданный уровень значимости {:.2f}. Отвергаем нулевую гипотезу в пользу альтернативной.'.format(alpha))\n",
    "    else:\n",
    "        print('p-значение больше, чем заданный уровень значимости {:.2f}. У нас нет оснований отвергнуть нулевую гипотезу.'.format(alpha))\n"
   ]
  },
  {
   "cell_type": "markdown",
   "metadata": {},
   "source": [
    "***3.1 Наблюдается ли ежегодный рост зарплат у специалистов Data Scientist?***"
   ]
  },
  {
   "cell_type": "markdown",
   "metadata": {},
   "source": [
    "**Сформулируем нулевую и альтернативные гипотезы**\n",
    "\n",
    "*Нулевая гипотеза* ($H_0$): зарплата за предыдущий год ($μ_1$) статистически больше либо равна размеру зарплаты следующего года ($μ_2$).\n",
    "\n",
    "$$ H_0 : μ_1 >= μ_2$$\n",
    "\n",
    "*Альтернативная гипотеза* ($H_1$): зарплата за предыдущий год ($μ_1$) статистически меньше, чем размер зарплаты следующего года ($μ_2$).\n",
    "\n",
    "$$ H_1 : μ_1 < μ_2$$"
   ]
  },
  {
   "cell_type": "markdown",
   "metadata": {},
   "source": [
    "**Проверка на нормальность**\n",
    "\n",
    "С помощью теста Шапиро-Уилка проверим, распределён ли признак нормально. Напомним гипотезы теста Шапиро-Уилка:\n",
    "\n",
    "*Нулевая гипотеза* ($H_0$): распределение данные является нормальным.\n",
    "\n",
    "*Альтернативная гипотеза* ($H_1$): распределение данных отлично от нормального."
   ]
  },
  {
   "cell_type": "code",
   "execution_count": 26,
   "metadata": {},
   "outputs": [
    {
     "name": "stdout",
     "output_type": "stream",
     "text": [
      "p-value = 0.000\n",
      "p-значение меньше, чем заданный уровень значимости 0.05. Распределение отлично от нормального\n",
      "p-value = 0.000\n",
      "p-значение меньше, чем заданный уровень значимости 0.05. Распределение отлично от нормального\n",
      "p-value = 0.038\n",
      "p-значение меньше, чем заданный уровень значимости 0.05. Распределение отлично от нормального\n"
     ]
    }
   ],
   "source": [
    "# запишем выборки\n",
    "y2020 = ds_data[ds_data['work_year'] == 2020]['salary_in_usd']\n",
    "y2021 = ds_data[ds_data['work_year'] == 2021]['salary_in_usd']\n",
    "y2022 = ds_data[ds_data['work_year'] == 2022]['salary_in_usd']\n",
    "\n",
    "# проводим тесты\n",
    "_, p = stats.shapiro(y2020)\n",
    "decision_normality(p)\n",
    "\n",
    "_, p = stats.shapiro(y2021)\n",
    "decision_normality(p)\n",
    "\n",
    "_, p = stats.shapiro(y2022)\n",
    "decision_normality(p)"
   ]
  },
  {
   "cell_type": "markdown",
   "metadata": {},
   "source": [
    "**Выберем подходящий статистический тест**\n",
    "\n",
    "Несмотря на 3 сравниваемые группы, изначально было решено провести два последовательных теста, так-как нужно ответить на вопрос о ежегодном росте. Тип признака - количественный, группы независимы и не распределены нормально.\n",
    "\n",
    "Нам подойдёт U-критерий Манна — Уитни.\n",
    "\n",
    "**Проведём тесты**"
   ]
  },
  {
   "cell_type": "code",
   "execution_count": 27,
   "metadata": {},
   "outputs": [
    {
     "name": "stdout",
     "output_type": "stream",
     "text": [
      "p-value = 0.455\n",
      "p-значение больше, чем заданный уровень значимости 0.05. У нас нет оснований отвергнуть нулевую гипотезу.\n",
      "p-value = 0.000\n",
      "p-значение меньше, чем заданный уровень значимости 0.05. Отвергаем нулевую гипотезу в пользу альтернативной.\n"
     ]
    }
   ],
   "source": [
    "# Проверим теорию \"ЗП в 2021 году больше чем в 2020\"\n",
    "_, p = stats.mannwhitneyu(y2020, y2021, alternative='less')\n",
    "decision_hypothesis(p)\n",
    "\n",
    "# Проверим теорию \"ЗП в 2022 году больше чем в 2021\"\n",
    "_, p = stats.mannwhitneyu(y2021, y2022, alternative='less')\n",
    "decision_hypothesis(p)"
   ]
  },
  {
   "cell_type": "markdown",
   "metadata": {},
   "source": [
    "Вывод по стат тесту: ***Нет оснований*** утверждать, что наблюдается ежегодный рост зарплат у специалистов Data Science, т.к. в сравнении 2020 и 2021 годов у нас не было оснований отвергнуть нулевую гипотезу"
   ]
  },
  {
   "cell_type": "markdown",
   "metadata": {},
   "source": [
    "***3.2 Как соотносятся зарплаты Data Scientist и Data Engineer в 2022 году?***"
   ]
  },
  {
   "cell_type": "markdown",
   "metadata": {},
   "source": [
    "**Сформулируем нулевую и альтернативные гипотезы**\n",
    "\n",
    "*Нулевая гипотеза* ($H_0$): зарплаты специалистов Data Scintist ($μ_1$) не отличается от размера зарплаты специалистов Data Engineer ($μ_2$).\n",
    "\n",
    "$$ H_0 : μ_1 = μ_2$$\n",
    "\n",
    "*Альтернативная гипотеза* ($H_1$): зарплаты специалистов Data Scintist ($μ_1$) не равны размерам зарплат специалистов Data Engineer ($μ_2$).\n",
    "\n",
    "$$ H_1 : μ_1 \\neq μ_2$$"
   ]
  },
  {
   "cell_type": "markdown",
   "metadata": {},
   "source": [
    "**Проверка на нормальность**"
   ]
  },
  {
   "cell_type": "code",
   "execution_count": 28,
   "metadata": {},
   "outputs": [
    {
     "name": "stdout",
     "output_type": "stream",
     "text": [
      "p-value = 0.038\n",
      "p-значение меньше, чем заданный уровень значимости 0.05. Распределение отлично от нормального\n",
      "p-value = 0.007\n",
      "p-значение меньше, чем заданный уровень значимости 0.05. Распределение отлично от нормального\n"
     ]
    }
   ],
   "source": [
    "# Проверка на нормальность распределения зарплат для\n",
    "# Data Science за 2022 год\n",
    "_, p = stats.shapiro(\n",
    "    ds_data[ds_data['work_year'] == 2022]['salary_in_usd']\n",
    "    )\n",
    "decision_normality(p)\n",
    "\n",
    "# Проверка на нормальность распределения зарплат для\n",
    "# Data Engineer за 2022 год\n",
    "_, p = stats.shapiro(\n",
    "    eng_data[eng_data['work_year'] == 2022]['salary_in_usd']\n",
    "    )\n",
    "decision_normality(p)"
   ]
  },
  {
   "cell_type": "markdown",
   "metadata": {},
   "source": [
    "**Выберем подходящий статистический тест**\n",
    "\n",
    "Присутствует две независимые группы. Тип признака - количественный, группы не распределены нормально.\n",
    "\n",
    "Нам подойдёт U-критерий Манна — Уитни.\n",
    "\n",
    "**Проведём тесты**"
   ]
  },
  {
   "cell_type": "code",
   "execution_count": 29,
   "metadata": {},
   "outputs": [
    {
     "name": "stdout",
     "output_type": "stream",
     "text": [
      "p-value = 0.069\n",
      "p-значение больше, чем заданный уровень значимости 0.05. У нас нет оснований отвергнуть нулевую гипотезу.\n"
     ]
    }
   ],
   "source": [
    "_, p = stats.mannwhitneyu(\n",
    "    ds_data[ds_data['work_year'] == 2022]['salary_in_usd'],\n",
    "    eng_data[eng_data['work_year'] == 2022]['salary_in_usd']\n",
    ")\n",
    "decision_hypothesis(p)"
   ]
  },
  {
   "cell_type": "markdown",
   "metadata": {},
   "source": [
    "Вывод: Зарплаты Data Science специалистов ***равны*** зарплатам специалистов Data Engineer"
   ]
  },
  {
   "cell_type": "markdown",
   "metadata": {},
   "source": [
    "***3.3 Как соотносятся зарплаты специалистов Data Scientist в компаниях различных размеров?***"
   ]
  },
  {
   "cell_type": "markdown",
   "metadata": {},
   "source": [
    "**Сформулируем нулевую и альтернативные гипотезы**\n",
    "\n",
    "*Нулевая гипотеза* ($H_0$): зарплаты специалистов Data Scintist не отличаются в зависимости от размера компании: \"S\": ($μ_1$), \"M\": ($μ_2$), \"L\": ($μ_3$)\n",
    "\n",
    "$$ H_0 : μ_1 = μ_2 = μ_3$$\n",
    "\n",
    "*Альтернативная гипотеза* ($H_1$): зарплаты специалистов Data Scintist отличаются в зависимости от размера компании: \"S\": ($μ_1$), \"M\": ($μ_2$), \"L\": ($μ_3$)\n",
    "\n",
    "$$ H_1 : μ_1 \\neq μ_2 \\neq μ_3$$"
   ]
  },
  {
   "cell_type": "markdown",
   "metadata": {},
   "source": [
    "**Проверка на нормальность**"
   ]
  },
  {
   "cell_type": "code",
   "execution_count": 30,
   "metadata": {},
   "outputs": [
    {
     "name": "stdout",
     "output_type": "stream",
     "text": [
      "p-value = 0.000\n",
      "p-значение меньше, чем заданный уровень значимости 0.05. Распределение отлично от нормального\n",
      "p-value = 0.785\n",
      "p-значение больше, чем заданный уровень значимости 0.05. Распределение является нормальным\n",
      "p-value = 0.000\n",
      "p-значение меньше, чем заданный уровень значимости 0.05. Распределение отлично от нормального\n"
     ]
    }
   ],
   "source": [
    "# проверка малых компаний на нормальное распределение\n",
    "_, p = stats.shapiro(\n",
    "    ds_data[ds_data['company_size'] == 'S']['salary_in_usd']\n",
    "    )\n",
    "decision_normality(p)\n",
    "\n",
    "# проверка средних компаний на нормальное распределение\n",
    "_, p = stats.shapiro(\n",
    "    ds_data[ds_data['company_size'] == 'M']['salary_in_usd']\n",
    "    )\n",
    "decision_normality(p)\n",
    "\n",
    "# проверка больших компаний на нормальное распределение\n",
    "_, p = stats.shapiro(\n",
    "    ds_data[ds_data['company_size'] == 'L']['salary_in_usd']\n",
    "    )\n",
    "decision_normality(p)"
   ]
  },
  {
   "cell_type": "markdown",
   "metadata": {},
   "source": [
    "**Выберем подходящий статистический тест**\n",
    "\n",
    "У нас 3 количественные, независимые группы, в двух распределение не является нормальным.\n",
    "\n",
    "Для проверки нашей гипотезы можно использовать критерий Краскела — Уоллиса.\n",
    "\n",
    "**Проведём тест**"
   ]
  },
  {
   "cell_type": "code",
   "execution_count": 31,
   "metadata": {},
   "outputs": [
    {
     "name": "stdout",
     "output_type": "stream",
     "text": [
      "p-value = 0.000\n",
      "p-значение меньше, чем заданный уровень значимости 0.05. Отвергаем нулевую гипотезу в пользу альтернативной.\n"
     ]
    }
   ],
   "source": [
    "_, p = stats.kruskal(\n",
    "    ds_data[ds_data['company_size'] == 'S']['salary_in_usd'],\n",
    "    ds_data[ds_data['company_size'] == 'M']['salary_in_usd'],\n",
    "    ds_data[ds_data['company_size'] == 'L']['salary_in_usd']\n",
    ")\n",
    "decision_hypothesis(p)"
   ]
  },
  {
   "cell_type": "markdown",
   "metadata": {},
   "source": [
    "Вывод: в компаниях различного размера ***отличаются*** распределения зарплат"
   ]
  },
  {
   "cell_type": "markdown",
   "metadata": {},
   "source": [
    "***3.4 Есть ли связь между наличием должностей Data Scientist и Data Engineer и размером компании?***"
   ]
  },
  {
   "cell_type": "markdown",
   "metadata": {},
   "source": [
    "**Сформулируем нулевую и альтернативные гипотезы**\n",
    "\n",
    "*Нулевая гипотеза*: взаимосвязи между наличием должностей Data Scientist и Data Engineer и размером компании нет (признаки независимы).\n",
    "\n",
    "*Альтернативная гипотеза*: взаимосвязь между наличием должностей Data Scientist и Data Engineer и размером компании есть (признаки зависимы)."
   ]
  },
  {
   "cell_type": "markdown",
   "metadata": {},
   "source": [
    "**Выберем подходящий статистический тест**\n",
    "\n",
    "У нас одна группа, в которой мы проверяем зависимость между двумя признаками\n",
    "\n",
    "Для проверки нашей гипотезы можно использовать критерий ${\\chi}^2$ (хи-квадрат).\n",
    "\n",
    "**Проведём тест**"
   ]
  },
  {
   "cell_type": "code",
   "execution_count": 32,
   "metadata": {},
   "outputs": [
    {
     "name": "stdout",
     "output_type": "stream",
     "text": [
      "p-value = 0.054\n",
      "p-значение больше, чем заданный уровень значимости 0.05. У нас нет оснований отвергнуть нулевую гипотезу.\n"
     ]
    }
   ],
   "source": [
    "_, p, _, _ = stats.chi2_contingency(cross)\n",
    "decision_hypothesis(p)"
   ]
  },
  {
   "cell_type": "markdown",
   "metadata": {},
   "source": [
    "Вывод: ***нет связи*** между наличием должностей Data Scientist и Data Engineer и размером компании"
   ]
  },
  {
   "cell_type": "markdown",
   "metadata": {},
   "source": [
    "***3.5 Как соотносятся зарплаты сотрудников любых должностей в разрезе опыта***"
   ]
  },
  {
   "cell_type": "markdown",
   "metadata": {},
   "source": [
    "**Сформулируем нулевую и альтернативные гипотезы**\n",
    "\n",
    "*Нулевая гипотеза* ($H_0$): зарплаты специалистов не отличаются в зависимости от опыта сотрудника: \"ЕN\": ($μ_1$), \"MI\": ($μ_2$), \"SE\": ($μ_3$), \"EX\": ($μ_4$)\n",
    "\n",
    "$$ H_0 : μ_1 = μ_2 = μ_3 = μ_4$$\n",
    "\n",
    "*Альтернативная гипотеза* ($H_1$): зарплаты специалистов отличаются в зависимости от опыта сотрудника: \"ЕN\": ($μ_1$), \"MI\": ($μ_2$), \"SE\": ($μ_3$), \"EX\": ($μ_4$)\n",
    "\n",
    "$$ H_1 : μ_1 \\neq μ_2 \\neq μ_3 \\neq μ_4$$"
   ]
  },
  {
   "cell_type": "markdown",
   "metadata": {},
   "source": [
    "**Проверка на нормальность**"
   ]
  },
  {
   "cell_type": "code",
   "execution_count": 33,
   "metadata": {},
   "outputs": [
    {
     "name": "stdout",
     "output_type": "stream",
     "text": [
      "p-value = 0.000\n",
      "p-значение меньше, чем заданный уровень значимости 0.05. Распределение отлично от нормального\n",
      "p-value = 0.000\n",
      "p-значение меньше, чем заданный уровень значимости 0.05. Распределение отлично от нормального\n",
      "p-value = 0.000\n",
      "p-значение меньше, чем заданный уровень значимости 0.05. Распределение отлично от нормального\n",
      "p-value = 0.001\n",
      "p-значение меньше, чем заданный уровень значимости 0.05. Распределение отлично от нормального\n"
     ]
    }
   ],
   "source": [
    "# проверим распределение зарплат специалстов уровня \"EN\"\n",
    "_, p = stats.shapiro(\n",
    "    main_data[main_data['experience_level'] == 'EN']['salary_in_usd']\n",
    ")\n",
    "decision_normality(p)\n",
    "\n",
    "# проверим распределение зарплат специалстов уровня \"MI\"\n",
    "_, p = stats.shapiro(\n",
    "    main_data[main_data['experience_level'] == 'MI']['salary_in_usd']\n",
    ")\n",
    "decision_normality(p)\n",
    "\n",
    "# проверим распределение зарплат специалстов уровня \"SE\"\n",
    "_, p = stats.shapiro(\n",
    "    main_data[main_data['experience_level'] == 'SE']['salary_in_usd']\n",
    ")\n",
    "decision_normality(p)\n",
    "\n",
    "# проверим распределение зарплат специалстов уровня \"EX\"\n",
    "_, p = stats.shapiro(\n",
    "    main_data[main_data['experience_level'] == 'EX']['salary_in_usd']\n",
    ")\n",
    "decision_normality(p)"
   ]
  },
  {
   "cell_type": "markdown",
   "metadata": {},
   "source": [
    "**Выберем подходящий статистический тест**\n",
    "\n",
    "У нас четыре числовых, независимых группы, с распределением отличным от нормального\n",
    "\n",
    "Для проверки нашей гипотезы можно использовать критерий Краскела-Уоллиса.\n",
    "\n",
    "**Проведём тест**"
   ]
  },
  {
   "cell_type": "code",
   "execution_count": 34,
   "metadata": {},
   "outputs": [
    {
     "name": "stdout",
     "output_type": "stream",
     "text": [
      "p-value = 0.000\n",
      "p-значение меньше, чем заданный уровень значимости 0.05. Отвергаем нулевую гипотезу в пользу альтернативной.\n"
     ]
    }
   ],
   "source": [
    "_, p = stats.kruskal(\n",
    "    main_data[main_data['experience_level'] == 'EN']['salary_in_usd'],\n",
    "    main_data[main_data['experience_level'] == 'MI']['salary_in_usd'],\n",
    "    main_data[main_data['experience_level'] == 'SE']['salary_in_usd'],\n",
    "    main_data[main_data['experience_level'] == 'EX']['salary_in_usd']\n",
    ")\n",
    "decision_hypothesis(p)"
   ]
  },
  {
   "cell_type": "markdown",
   "metadata": {},
   "source": [
    "Вывод: зарплаты **отличаются** в зависимости от опыта сотрудника"
   ]
  },
  {
   "cell_type": "markdown",
   "metadata": {},
   "source": [
    "***3.6 Отличаются ли зарплаты у специалистов разных стран?***"
   ]
  },
  {
   "cell_type": "markdown",
   "metadata": {},
   "source": [
    "**Сформулируем нулевую и альтернативные гипотезы**\n",
    "\n",
    "*Нулевая гипотеза* ($H_0$): размер зарплат специалистов из региона \"Америка\" ($μ_1$) статистически меньше либо равен размеру зарплат специалистов из региона \"Азия\" ($μ_2$).\n",
    "\n",
    "$$ H_0 : μ_1 <= μ_2$$\n",
    "\n",
    "*Альтернативная гипотеза* ($H_1$): размер зарплат специалистов из региона \"Америка\" ($μ_1$) статистически больше, чем размер зарплат специалистов из региона \"Азия\" ($μ_2$).\n",
    "\n",
    "$$ H_1 : μ_1 > μ_2$$"
   ]
  },
  {
   "cell_type": "markdown",
   "metadata": {},
   "source": [
    "**Проверка на нормальность**"
   ]
  },
  {
   "cell_type": "code",
   "execution_count": 35,
   "metadata": {},
   "outputs": [
    {
     "name": "stdout",
     "output_type": "stream",
     "text": [
      "p-value = 0.000\n",
      "p-значение меньше, чем заданный уровень значимости 0.05. Распределение отлично от нормального\n",
      "p-value = 0.000\n",
      "p-значение меньше, чем заданный уровень значимости 0.05. Распределение отлично от нормального\n"
     ]
    }
   ],
   "source": [
    "# проверим распределение зарплат специалистов из решиона \"Америка\"\n",
    "_, p = stats.shapiro(\n",
    "    data_w_countries[\n",
    "        data_w_countries['location'] == 'Америка'\n",
    "        ]['salary_in_usd']\n",
    ")\n",
    "decision_normality(p)\n",
    "\n",
    "# проверим распределение зарплат специалистов из решиона \"Азия\"\n",
    "_, p = stats.shapiro(\n",
    "    data_w_countries[\n",
    "        data_w_countries['location'] == 'Азия'\n",
    "        ]['salary_in_usd']\n",
    ")\n",
    "decision_normality(p)\n"
   ]
  },
  {
   "cell_type": "markdown",
   "metadata": {},
   "source": [
    "**Выберем подходящий статистический тест**\n",
    "\n",
    "Присутствует две независимые группы. Тип признака - количественный, группы не распределены нормально.\n",
    "\n",
    "Нам подойдёт U-критерий Манна — Уитни.\n",
    "\n",
    "**Проведём тест**"
   ]
  },
  {
   "cell_type": "code",
   "execution_count": 36,
   "metadata": {},
   "outputs": [
    {
     "name": "stdout",
     "output_type": "stream",
     "text": [
      "p-value = 0.000\n",
      "p-значение меньше, чем заданный уровень значимости 0.05. Отвергаем нулевую гипотезу в пользу альтернативной.\n"
     ]
    }
   ],
   "source": [
    "_, p = stats.mannwhitneyu(\n",
    "    data_w_countries[\n",
    "        data_w_countries['location'] == 'Америка'\n",
    "        ]['salary_in_usd'],\n",
    "    data_w_countries[\n",
    "        data_w_countries['location'] == 'Азия'\n",
    "        ]['salary_in_usd'],\n",
    "    alternative='greater'\n",
    ")\n",
    "decision_hypothesis(p)"
   ]
  },
  {
   "cell_type": "markdown",
   "metadata": {},
   "source": [
    "Вывод: В регионе \"Америка\" зарплаты выше чем в регионе \"Азия\", соответственно зарплаты различаются в зависимости от региона"
   ]
  },
  {
   "cell_type": "markdown",
   "metadata": {},
   "source": [
    "## Итоги"
   ]
  },
  {
   "cell_type": "markdown",
   "metadata": {},
   "source": [
    "*1. Наблюдается ли ежегодный рост зарплат у специалистов Data Scientist?*\n",
    "* Нет, ежегодного роста не наблюдается, т.к. по результатам статистических тестов в 2020 году зарплаты были статистически равны или больше чем в 2021 году\n",
    "\n",
    "*2. Как соотносятся зарплаты Data Scientist и Data Engineer в 2022 году?*\n",
    "* Зарплаты этих двух направлений статистически равны\n",
    "\n",
    "*3. Как соотносятся зарплаты специалистов Data Scientist в компаниях различных размеров?*\n",
    "* Зарплаты различаются в зависисимости от размера компании. Можно предположить, что это обосновано более широким штатом сотрудников, большим количеством старшего управленческого звена и более высококвалифицироваными сотрудниками (но это не точно)\n",
    "\n",
    "*4. Есть ли связь между наличием должностей Data Scientist и Data Engineer и размером компании?*\n",
    "* Связи между наличием обоих позиций и размером компании нет. Возможно, по причине сепарации специальностей в области DS, что увиличивает результативность работы\n",
    "\n",
    "*5. Как соотносятся зарплаты сотрудников любых должностей в разрезе опыта*\n",
    "* Зарплаты специалистов разного опыта различаются, но это вполне ожидаемо\n",
    "\n",
    "*6. Как соотносятся зарплаты специалистов из разных регионов?\n",
    "*\n",
    "* Зарплаты различаются. Что тоже вполне ожидаемо и очевидно, например мы сравнили зарплаты регионов \"Америка\" и \"Азия\", соответственно в первом случае зарплаты кратно выше. Это связано с технологическим прогрессом компаний из этих стран и законодательствами этих стран устанавливающих политику оплаты труда."
   ]
  }
 ],
 "metadata": {
  "kernelspec": {
   "display_name": "Python 3",
   "language": "python",
   "name": "python3"
  },
  "language_info": {
   "codemirror_mode": {
    "name": "ipython",
    "version": 3
   },
   "file_extension": ".py",
   "mimetype": "text/x-python",
   "name": "python",
   "nbconvert_exporter": "python",
   "pygments_lexer": "ipython3",
   "version": "3.9.10"
  }
 },
 "nbformat": 4,
 "nbformat_minor": 2
}
