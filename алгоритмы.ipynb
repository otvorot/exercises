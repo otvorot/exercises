{
 "cells": [
  {
   "cell_type": "markdown",
   "metadata": {},
   "source": [
    "# Скользящее среднее. Метод двух указателей"
   ]
  },
  {
   "cell_type": "code",
   "execution_count": 1,
   "metadata": {},
   "outputs": [
    {
     "name": "stdout",
     "output_type": "stream",
     "text": [
      "6.666666666666667\n",
      "6.333333333333333\n",
      "8.333333333333334\n",
      "[4.333333333333333, 6.666666666666667, 6.333333333333333, 8.333333333333334]\n"
     ]
    }
   ],
   "source": [
    "\n",
    "lst = [2, 7, 4, 9, 6, 10]\n",
    "k = 3\n",
    "\n",
    "ans_lst = []\n",
    "current_sum = sum(lst[:k])\n",
    "ans_lst.append(current_sum/k)\n",
    "\n",
    "for i in range(len(lst)-k):\n",
    "    current_sum -= lst[i]\n",
    "    current_sum += lst[i+k]\n",
    "    ans_lst.append(current_sum/k)\n",
    "    print(current_sum/k)\n",
    "    \n",
    "print(ans_lst)\n"
   ]
  },
  {
   "cell_type": "markdown",
   "metadata": {},
   "source": [
    "# Сумма двух. Наивный"
   ]
  },
  {
   "cell_type": "code",
   "execution_count": 4,
   "metadata": {},
   "outputs": [
    {
     "name": "stdout",
     "output_type": "stream",
     "text": [
      "2 7\n",
      "2 4\n",
      "2 1\n",
      "2 19\n",
      "7 4\n",
      "7 1\n",
      "7 19\n",
      "4 1\n",
      "4 19\n"
     ]
    }
   ],
   "source": [
    "n = 5\n",
    "lst = [2, 7, 4, 1, 19]\n",
    "k = 23\n",
    "\n",
    "for i in range(n):\n",
    "    Flag = False\n",
    "    for j in range(i+1, n):\n",
    "        if lst[i] + lst[j] == k:\n",
    "            print(lst[i], lst[j])\n",
    "            Flag = True\n",
    "            break\n",
    "    if Flag: break\n",
    "        "
   ]
  },
  {
   "cell_type": "markdown",
   "metadata": {},
   "source": [
    "# Сумма двух. Два указателя"
   ]
  },
  {
   "cell_type": "code",
   "execution_count": 4,
   "metadata": {},
   "outputs": [
    {
     "name": "stdout",
     "output_type": "stream",
     "text": [
      "34 88\n"
     ]
    }
   ],
   "source": [
    "n = 7\n",
    "lst = [2, 56, 34, 1, 9, 88, 5]\n",
    "k = 122\n",
    "flag = False\n",
    "left, right = 0, len(lst)-1\n",
    "lst.sort()\n",
    "\n",
    "while left < right:\n",
    "    if lst[left] + lst[right] == k:\n",
    "        print(lst[left], lst[right])\n",
    "        flag = True\n",
    "        break\n",
    "    elif lst[left] + lst[right] > k:\n",
    "        right -= 1\n",
    "    else:\n",
    "        left += 1\n",
    "        \n",
    "if not flag: print('None')"
   ]
  },
  {
   "cell_type": "markdown",
   "metadata": {},
   "source": [
    "# Сумма двух. Метод со множеством"
   ]
  },
  {
   "cell_type": "code",
   "execution_count": 9,
   "metadata": {},
   "outputs": [
    {
     "name": "stdout",
     "output_type": "stream",
     "text": [
      "88 34\n"
     ]
    }
   ],
   "source": [
    "n = 7\n",
    "lst = [2, 56, 34, 1, 9, 88, 5]\n",
    "k = 122\n",
    "flag = False\n",
    "\n",
    "previous = set()\n",
    "for i in lst:\n",
    "    if k - i in previous:\n",
    "        print(i, k-i)\n",
    "        flag = True\n",
    "        break\n",
    "    else:\n",
    "        previous.add(i)\n",
    "        \n",
    "if not flag: print('None')"
   ]
  },
  {
   "cell_type": "markdown",
   "metadata": {},
   "source": [
    "# Сумма трёх"
   ]
  },
  {
   "cell_type": "code",
   "execution_count": null,
   "metadata": {},
   "outputs": [],
   "source": [
    "def effective_solution(A, x):\n",
    "    history = set()\n",
    "    n = len(x)\n",
    "    x.sort()\n",
    "    triples = set()\n",
    "    for i in range(n):\n",
    "        for j in range(i + 1, n):\n",
    "            target = A - x[i] - x[j]\n",
    "            if target in history:\n",
    "                # Заметим, что тут тройка уже отсортирована за счёт предварительной\n",
    "                # сортировки всего массива.\n",
    "                triples.add((target, x[i], x[j]))\n",
    "        history.add(x[i])\n",
    "    return triples  "
   ]
  },
  {
   "cell_type": "markdown",
   "metadata": {},
   "source": [
    "# решето Эратосфена. Оно помогает найти все простые числа, не превосходящие n"
   ]
  },
  {
   "cell_type": "code",
   "execution_count": 6,
   "metadata": {},
   "outputs": [
    {
     "data": {
      "text/plain": [
       "[False,\n",
       " 100019,\n",
       " False,\n",
       " False,\n",
       " False,\n",
       " False,\n",
       " False,\n",
       " False,\n",
       " False,\n",
       " False,\n",
       " False,\n",
       " False,\n",
       " False,\n",
       " False,\n",
       " False,\n",
       " False,\n",
       " False,\n",
       " 100003,\n",
       " False,\n",
       " False]"
      ]
     },
     "execution_count": 6,
     "metadata": {},
     "output_type": "execute_result"
    }
   ],
   "source": [
    "# Для каждого простого числа p начнём отмечать числа, начиная с p2\n",
    "# как составные. Ведь все составные числа, которые меньше его, \n",
    "# будут уже рассмотрены.\n",
    "\n",
    "n = 100_020\n",
    "\n",
    "def eratosthenes_effective(n):\n",
    "    numbers = list(range(n + 1))\n",
    "    numbers[0] = numbers[1] = False\n",
    "    for num in range(2, n):\n",
    "        if numbers[num]:\n",
    "            for j in range(num * num, n + 1, num):\n",
    "                numbers[j] = False\n",
    "    return numbers \n",
    "\n",
    "eratosthenes_effective(n)[::-1][:20]"
   ]
  },
  {
   "cell_type": "markdown",
   "metadata": {},
   "source": [
    "# Реализация очереди на кольцевом буфере"
   ]
  },
  {
   "cell_type": "code",
   "execution_count": 1,
   "metadata": {},
   "outputs": [],
   "source": [
    "class Queue:\n",
    "    def __init__(self, n):\n",
    "        self.queue = [None] * n # элементы очереди\n",
    "        self.head = 0 # \n",
    "        self.tail = 0\n",
    "        self.max_n = n\n",
    "        self.size = 0 \n",
    "        \n",
    "    def is_empty(self):\n",
    "        return self.size == 0\n",
    "    \n",
    "    def push(self, x):\n",
    "        if self.size != self.max_n:\n",
    "            self.queue[self.tail] = x\n",
    "            self.tail = (self.tail + 1) % self.max_n\n",
    "            self.size += 1\n",
    "    \n",
    "    def pop(self):\n",
    "        if self.is_empty():\n",
    "            return None\n",
    "        x = self.queue[self.head]\n",
    "        self.queue[self.head] = None\n",
    "        self.head = (self.head + 1) % self.max_n\n",
    "        self.size -= 1\n",
    "        return x"
   ]
  },
  {
   "cell_type": "markdown",
   "metadata": {},
   "source": [
    "# Реализация очереди на двух стэках"
   ]
  },
  {
   "cell_type": "code",
   "execution_count": null,
   "metadata": {},
   "outputs": [],
   "source": [
    "class Queue:\n",
    "    def __init__(self):\n",
    "        self.push_stack = Stack()\n",
    "        self.pop_stack = Stack()\n",
    "        self.size = 0\n",
    "\n",
    "    def is_empty(self):\n",
    "        return self.size == 0\n",
    "\n",
    "    def push(self, x):\n",
    "        self.push_stack.push(x)\n",
    "        self.size += 1\n",
    "\n",
    "    def pop(self):\n",
    "        if self.is_empty():\n",
    "            return ValueError(\"Очередь пуста\")\n",
    "        if self.pop_stack.size() == 0:\n",
    "            while self.push_stack.size():\n",
    "                self.pop_stack.push(self.push_stack.pop())\n",
    "        x = self.pop_stack.pop()\n",
    "        self.size -= 1\n",
    "        return x "
   ]
  },
  {
   "cell_type": "markdown",
   "metadata": {},
   "source": [
    "# Рекурсивный поиск файла"
   ]
  },
  {
   "cell_type": "code",
   "execution_count": null,
   "metadata": {},
   "outputs": [],
   "source": [
    "def find_file(folder, file_to_find):\n",
    "    for path in folder:\n",
    "        if os.path.isdir(path):\n",
    "            # рекурсивно запустить поиск в подпапке\n",
    "            file = find_file(path, file_to_find)\n",
    "            if file is not None:  \n",
    "                # если файл нашёлся, передать его вверх по цепочке рекурсивных вызовов\n",
    "                return file\n",
    "        else:  # path — обычный файл\n",
    "            if get_filename(path) == file_to_find:\n",
    "                # если нашли нужный файл, то вернуть результат\n",
    "                return path\n",
    "    return None"
   ]
  },
  {
   "cell_type": "markdown",
   "metadata": {},
   "source": [
    "# Бин-поиск рекурсией"
   ]
  },
  {
   "cell_type": "code",
   "execution_count": null,
   "metadata": {},
   "outputs": [],
   "source": [
    "def binarySearch(arr, x, left, right):\n",
    "    if right <= left: # промежуток пуст\n",
    "        return -1\n",
    "    # промежуток не пуст\n",
    "    mid = (left + right) // 2\n",
    "    if arr[mid] == x:  # центральный элемент — искомый\n",
    "        return mid\n",
    "    elif x < arr[mid]: # искомый элемент меньше центрального значит следует искать в левой половине\n",
    "        return binarySearch(arr, x, left, mid)\n",
    "    else: # иначе следует искать в правой половине\n",
    "        return binarySearch(arr, x, mid + 1, right)\n",
    "\n",
    "# изначально мы запускаем двоичный поиск на всей длине массива\n",
    "index = binarySearch(arr, x, left = 0, right = len(arr)) "
   ]
  },
  {
   "cell_type": "markdown",
   "metadata": {},
   "source": [
    "# Базовая сортировка вставками"
   ]
  },
  {
   "cell_type": "code",
   "execution_count": null,
   "metadata": {},
   "outputs": [],
   "source": [
    "def insertion_sort(array):\n",
    "  for i in range(1, len(array)):\n",
    "    item_to_insert = array[i]\n",
    "    j = i\n",
    "    while j > 0 and item_to_insert < array[j-1]:\n",
    "      array[j] = array[j-1]\n",
    "      j -= 1\n",
    "    array[j] = item_to_insert\n",
    "    print('step {}, sorted {} elements: {}'.format(i, i+1, array))"
   ]
  },
  {
   "cell_type": "markdown",
   "metadata": {},
   "source": [
    "# Сортировка слиянием"
   ]
  },
  {
   "cell_type": "code",
   "execution_count": null,
   "metadata": {},
   "outputs": [],
   "source": [
    "def merge_sort(array):\n",
    "    if len(array) == 1:\n",
    "        return array\n",
    "\n",
    "    left = merge_sort(array[0 : len(array)//2])\n",
    "    right = merge_sort(array[len(array)//2 : len(array)])\n",
    "\n",
    "    result = [0] * len(array)\n",
    "\n",
    "    l, r, k = 0, 0, 0\n",
    "    while l < len(left) and r < len(right): \n",
    "        if left[l] <= right[r]: \n",
    "            result[k] = left[l]\n",
    "            l += 1\n",
    "        else:\n",
    "            result[k] = right[r]\n",
    "            r += 1\n",
    "        k += 1\n",
    "\n",
    "    while l < len(left): \n",
    "        result[k] = left[l]\n",
    "        l += 1\n",
    "        k += 1  \n",
    "    while r < len(right): \n",
    "        result[k] = right[r]\n",
    "        r += 1\n",
    "        k += 1\n",
    "\n",
    "    return result "
   ]
  },
  {
   "cell_type": "markdown",
   "metadata": {},
   "source": [
    "# Быстрая сортировка"
   ]
  },
  {
   "cell_type": "code",
   "execution_count": null,
   "metadata": {},
   "outputs": [],
   "source": [
    "def partition(array, pivot):\n",
    "    left = [x for x in array if x < pivot]\n",
    "    center = [x for x in array if x == pivot]\n",
    "    right = [x for x in array if x > pivot]\n",
    "    return left, center, right\n",
    "\n",
    "def quicksort(array):\n",
    "    if len(array) < 2:\n",
    "        return array   # массивы с 0 или 1 элементами фактически отсортированы\n",
    "    else:\n",
    "        pivot = random.choice(array)\n",
    "        left, center, right = partition(array, pivot)\n",
    "        return quicksort(left) + center + quicksort(right) "
   ]
  },
  {
   "cell_type": "markdown",
   "metadata": {},
   "source": [
    "# Сортировка подсчётом"
   ]
  },
  {
   "cell_type": "code",
   "execution_count": 1,
   "metadata": {},
   "outputs": [],
   "source": [
    "def counting_sort(array, k):\n",
    "  counted_values = [0] * k\n",
    "  for value in array:\n",
    "    counted_values[value] += 1\n",
    "\n",
    "  index = 0\n",
    "  for value in range(k):\n",
    "    for amount in range(counted_values[value]):\n",
    "      array[index] = value\n",
    "      index += 1\n",
    "  return array "
   ]
  },
  {
   "cell_type": "markdown",
   "metadata": {},
   "source": [
    "# Наивная реализация ассоциативного массива"
   ]
  },
  {
   "cell_type": "code",
   "execution_count": 1,
   "metadata": {},
   "outputs": [],
   "source": [
    "class Map:\n",
    "    def __init__(self):\n",
    "        self.pairs = []\n",
    "\n",
    "    def get(self, key):\n",
    "        for pair in self.pairs:\n",
    "            if pair.key == key:\n",
    "                return pair.value\n",
    "        return None # Если пара не найдена, вернем null\n",
    "\n",
    "    def set(self, key, value):\n",
    "        for pair in self.pairs:\n",
    "            if pair.key == key:\n",
    "                pair.value = value\n",
    "                return\n",
    "        # Если пара с заданным ключом не найдена, добавим новую пару\n",
    "        new_pair = Pair(key, value)\n",
    "        self.pairs.append(new_pair)\n",
    "\n",
    "class Pair:\n",
    "    def __init__(self, key, value):\n",
    "        self.key = key\n",
    "        self.value = value"
   ]
  },
  {
   "cell_type": "markdown",
   "metadata": {},
   "source": [
    "# Балансировка АВЛ деревьев"
   ]
  },
  {
   "cell_type": "code",
   "execution_count": null,
   "metadata": {},
   "outputs": [],
   "source": [
    "def small_left_rotation(a):\n",
    "  # Задаём обозначения.\n",
    "  b = a.right\n",
    "  C = b.left\n",
    "\n",
    "  # Переусыновляем вершины.\n",
    "  a.right = C\n",
    "  b.left = a\n",
    "\n",
    "  # Корректируем высоты в зависимости от того, равны ли высоты C и R.\n",
    "  if C.height == R.height:\n",
    "    a.height -= 1\n",
    "    b.height += 1\n",
    "  else:\n",
    "    a.height -= 2\n",
    "\n",
    "  # Возвращаем новый корень.\n",
    "  return b "
   ]
  },
  {
   "cell_type": "code",
   "execution_count": null,
   "metadata": {},
   "outputs": [],
   "source": [
    "def big_left_rotation(a):\n",
    "  # Задаём обозначения.\n",
    "  b = a.right\n",
    "  c = b.left\n",
    "  M = c.left\n",
    "  N = c.right\n",
    "\n",
    "  # Переусыновляем вершины.\n",
    "  a.right = M\n",
    "  b.left = N\n",
    "  c.left = a\n",
    "  c.right = b\n",
    "\n",
    "  # Корректируем высоты. \n",
    "  a.height -= 2\n",
    "  b.height -= 1\n",
    "  c.height += 1\n",
    "\n",
    "  # Возвращаем новый корень.\n",
    "  return c \n",
    "\n",
    "\n",
    "\n",
    "\n",
    "\n",
    "# или комбинация малых вращений\n",
    "def big_left_rotation(v):\n",
    "    # Правым ребёнком становится новый корень правого поддерева.\n",
    "    v.right = small_right_rotation(v.right)\n",
    "    # Возвращаем новый корень поддерева.\n",
    "    return small_left rotation(v) \n",
    "\n",
    "\n",
    "\n",
    "\n",
    "\n",
    "# для принятия решения\n",
    "# Функция возвращает новый корень поддерева.\n",
    "def rotate(vertex):\n",
    "    if abs(vertex.left.height - vertex.right.height) < 2:\n",
    "        # Вращать не надо, поддерево с вершиной vertex и так сбалансировано.    \n",
    "        return vertex\n",
    "    if (vertex.left.height - vertex.right.height == -2):\n",
    "        # Нам нужны левые вращения.\n",
    "        b = vertex.right\n",
    "        R = b.right\n",
    "        C = b.left\n",
    "        \n",
    "        if C.height <= R.height:\n",
    "            # Нужно малое левое вращение.\n",
    "            return small_left_rotation(vertex)\n",
    "        else:\n",
    "            # Нужно большое левое вращение.\n",
    "            return big_left_rotation(vertex)\n",
    "\n",
    "    if (vertex.left.height - vertex.right.height == 2):\n",
    "        # Нам нужны правые вращения.\n",
    "        b = vertex.left\n",
    "        C = b.right\n",
    "        L = b.left\n",
    "\n",
    "        if C.height <= L.height:\n",
    "            # Нужно малое правое вращение.\n",
    "            return small_right_rotation(vertex)\n",
    "        else:\n",
    "            # Нужно большое правое вращение.\n",
    "            return big_right_rotation(vertex) "
   ]
  },
  {
   "cell_type": "markdown",
   "metadata": {},
   "source": [
    "# Приоритетная очередь и бинарная куча"
   ]
  },
  {
   "cell_type": "code",
   "execution_count": null,
   "metadata": {},
   "outputs": [],
   "source": [
    "# добавление элемента и просеивание вверх\n",
    "def sift_up(heap, index):\n",
    "    if index == 1:\n",
    "        return\n",
    "\n",
    "    parent_index = index // 2\n",
    "    if heap[index] > heap[parent_index]:\n",
    "        heap[index], heap[parent_index] = heap[parent_index], heap[index]\n",
    "        sift_up(heap, parent_index) \n",
    "\n",
    "\n",
    "def heap_add(heap, key):\n",
    "    heap.append(key)\n",
    "    index = len(heap)-1\n",
    "    sift_up(heap, index)\n",
    "    \n",
    "    \n",
    "# удаление и просеивание вниз\n",
    "def sift_down(heap, index):\n",
    "    heap_max_index = len(heap)-1\n",
    "    left = index*2\n",
    "    right = index*2+1\n",
    "\n",
    "    # нет дочерних узлов\n",
    "    if left > heap_max_index:\n",
    "        return\n",
    "\n",
    "    # проверяем, что есть оба дочерних узла\n",
    "    if right <= heap_max_index and heap[right] > heap[left]:\n",
    "        index_largest = right\n",
    "    else:\n",
    "        index_largest = left\n",
    "    # отправляем максимум на вершину кучи и рекурсивно завпускаем просеивание в ребенке\n",
    "    if heap[index_largest] > heap[index]:\n",
    "        heap[index_largest], heap[index] = heap[index], heap[index_largest]\n",
    "        sift_down(heap, index_largest)\n",
    "\n",
    "\n",
    "def pop_max(heap):\n",
    "    result = heap[1]\n",
    "    heap[1] = heap[len(heap) - 1]\n",
    "    heap.pop()\n",
    "    sift_down(heap, 1)\n",
    "    return result \n",
    "\n",
    "\n"
   ]
  },
  {
   "cell_type": "markdown",
   "metadata": {},
   "source": [
    "# Пирамидальная сортировка"
   ]
  },
  {
   "cell_type": "code",
   "execution_count": null,
   "metadata": {},
   "outputs": [],
   "source": [
    "def heapsort(array):\n",
    "    # Создадим пустую бинарную кучу.\n",
    "    heap = [None]\n",
    "\n",
    "    # Вставим в неё по одному все элементы массива, сохраняя свойства кучи.\n",
    "    for item in array:\n",
    "        heap_add(heap, item)   # код для heap_add можно посмотреть в прошлом уроке\n",
    "\n",
    "    # Будем извлекать из неё наиболее приоритетные элементы, удаляя их из кучи.\n",
    "    sortedArray = []\n",
    "    while len(heap) > 1:\n",
    "        max_val = pop_max(heap) \n",
    "        sortedArray.append(max_val)\n",
    "\n",
    "    return sortedArray "
   ]
  },
  {
   "cell_type": "markdown",
   "metadata": {},
   "source": [
    "# поиск k-й порядковой статистики в BST"
   ]
  },
  {
   "cell_type": "code",
   "execution_count": null,
   "metadata": {},
   "outputs": [],
   "source": [
    "def calculateSizes(root):\n",
    "    # Базовый случай рекурсии – это пустое дерево из нуля вершин.\n",
    "    if root is None:\n",
    "        return 0\n",
    "    # Иначе суммируем размеры левого и правого поддерева\n",
    "    # и прибавляем саму вершину root.\n",
    "    root.size = 1 + calculateSizes(root.left) + calculateSizes(root.right)\n",
    "    return root.size \n",
    "\n",
    "\n",
    "def findKth(root, k):\n",
    "    # Вычисляем размер левого поддерева с учётом того,\n",
    "    # что оно может быть пустым.\n",
    "    leftSize = 0 if root.left is None else root.left.size\n",
    "    # Если слева ровно k вершин, то искомая вершина - корень.\n",
    "    if leftSize == k:\n",
    "        return root.value\n",
    "    # Если левое поддерево слишком мало, то продолжим\n",
    "    # поиск в правом поддереве.\n",
    "    if leftSize < k:\n",
    "        return findKth(root.right, k - leftSize - 1)\n",
    "    # Иначе продолжим поиск в левом поддереве.\n",
    "    return findKth(root.left, k) "
   ]
  },
  {
   "cell_type": "markdown",
   "metadata": {},
   "source": [
    "# DFS по графам"
   ]
  },
  {
   "cell_type": "code",
   "execution_count": null,
   "metadata": {},
   "outputs": [],
   "source": [
    "color = ['white', 'white', ...]  # Длина массива равна числу вершин |V|.\n",
    "\n",
    "def DFS(v):  # v - номер вершины\n",
    "    color[v] = 'gray'  # Вершина посещена, но ещё не обработана.\n",
    "    for w in outgoing_edges(v):  # Получите список исходящих ребер в зависимости от способа хранения графа\n",
    "        if color[w] == 'white':  # Если вершина не посещена, то\n",
    "            DFS(w)  # запустим обход от найденной смежной вершины.\n",
    "    color[v] = 'black'  # Теперь вершина обработана.\n",
    "\n",
    "def MainDFS():\n",
    "    for i in range(len(color)):\n",
    "        # Перебираем варианты стартовых вершин, пока они существуют.\n",
    "        if color[i] == 'white':\n",
    "            DFS(i)  # Запускаем обход, стартуя с i-й вершины.   \n",
    "            \n",
    "            \n",
    "# DFS итеративный\n",
    "\n",
    "def DFS(start_vertex):\n",
    "    stack = []\n",
    "    stack.append(start_vertex)  # Добавляем стартовую вершину в стек.\n",
    "\n",
    "    while stack:  # Пока стек не пуст:\n",
    "        # Получаем из стека очередную вершину.\n",
    "        # Это может быть как новая вершина, так и уже посещённая однажды.\n",
    "        v = stack.pop()\n",
    "\n",
    "        if color[v] == 'white':\n",
    "            # Красим вершину в серый. И сразу кладём её обратно в стек:\n",
    "            # это позволит алгоритму позднее вспомнить обратный путь по графу.\n",
    "            color[v] = 'gray'\n",
    "            stack.append(v)\n",
    "\n",
    "            # Теперь добавляем в стек все непосещённые соседние вершины,\n",
    "            # вместо вызова рекурсии\n",
    "            for w in outgoing_edges(v):\n",
    "                # Для каждого исходящего ребра (v, w):\n",
    "                if color[w] == 'white':.\n",
    "                    stack.append(w)\n",
    "\n",
    "        elif color[v] == 'gray':\n",
    "            # Серую вершину мы могли получить из стека только на обратном пути.\n",
    "            # Следовательно, её следует перекрасить в чёрный.\n",
    "            color[v] = 'black' "
   ]
  },
  {
   "cell_type": "markdown",
   "metadata": {},
   "source": []
  }
 ],
 "metadata": {
  "kernelspec": {
   "display_name": "Python 3",
   "language": "python",
   "name": "python3"
  },
  "language_info": {
   "codemirror_mode": {
    "name": "ipython",
    "version": 3
   },
   "file_extension": ".py",
   "mimetype": "text/x-python",
   "name": "python",
   "nbconvert_exporter": "python",
   "pygments_lexer": "ipython3",
   "version": "3.9.10"
  }
 },
 "nbformat": 4,
 "nbformat_minor": 2
}
