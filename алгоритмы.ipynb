{
 "cells": [
  {
   "cell_type": "code",
   "execution_count": 1,
   "metadata": {},
   "outputs": [],
   "source": [
    "from pprint import pprint"
   ]
  },
  {
   "cell_type": "markdown",
   "metadata": {},
   "source": [
    "# 1\n",
    "\n",
    "Из шахматной доски по границам клеток выпилили связную (не распадающуюся на части) фигуру без дыр. Требуется определить ее периметр.\n",
    "\n",
    "Формат ввода\n",
    "Сначала вводится число N (1 ≤ N ≤ 64) – количество выпиленных клеток. В следующих N строках вводятся координаты выпиленных клеток, разделенные пробелом (номер строки и столбца – числа от 1 до 8). Каждая выпиленная клетка указывается один раз.\n",
    "\n",
    "Формат вывода\n",
    "Выведите одно число – периметр выпиленной фигуры (сторона клетки равна единице)."
   ]
  },
  {
   "cell_type": "code",
   "execution_count": 2,
   "metadata": {},
   "outputs": [
    {
     "data": {
      "text/plain": [
       "8"
      ]
     },
     "execution_count": 2,
     "metadata": {},
     "output_type": "execute_result"
    }
   ],
   "source": [
    "a = [\n",
    "    [0, 0],\n",
    "    [0, 1],\n",
    "    [1, 0],\n",
    "    [1, 1]\n",
    "]\n",
    "a.sort()\n",
    "res = len(a) * 4\n",
    "for i in range(len(a) - 1):\n",
    "    if a[i][0] == a[i + 1][0]:\n",
    "        if a[i][1] - a[i + 1][1] == -1:\n",
    "            res -= 2\n",
    "a.sort(key=lambda x: x[1])\n",
    "for i in range(len(a) - 1):\n",
    "    if a[i][1] == a[i + 1][1]:\n",
    "        if a[i][0] - a[i + 1][0] == -1:\n",
    "            res -= 2\n",
    "res"
   ]
  },
  {
   "cell_type": "markdown",
   "metadata": {},
   "source": [
    "# 2\n",
    "\n",
    "Вася и Маша участвуют в субботнике и красят стволы деревьев в белый цвет. Деревья растут вдоль улицы через равные промежутки в 1 метр. Одно из деревьев обозначено числом ноль, деревья по одну сторону занумерованы положительными числами \n",
    "1\n",
    ",\n",
    "2\n",
    " и т.д., а в другую — отрицательными \n",
    "−\n",
    "1\n",
    ",\n",
    "−\n",
    "2\n",
    " и т.д.\n",
    "Ведро с краской для Васи установили возле дерева \n",
    "P\n",
    ", а для Маши — возле дерева \n",
    "Q\n",
    ". Ведра с краской очень тяжелые и Вася с Машей не могут их переставить, поэтому они окунают кисть в ведро и уже с этой кистью идут красить дерево. Краска на кисти из ведра Васи засыхает, когда он удаляется от ведра более чем на \n",
    "V\n",
    " метров, а из ведра Маши — на \n",
    "M\n",
    " метров. Определите, сколько деревьев может быть покрашено.\n",
    "\n",
    "Формат ввода\n",
    "В первой строке содержится два целых числа \n",
    "P\n",
    " и \n",
    "V\n",
    " — номер дерева, у которого стоит ведро Васи и на сколько деревьев он может от него удаляться.\n",
    "В второй строке содержится два целых числа \n",
    "Q\n",
    " и \n",
    "M\n",
    " — аналогичные данные для Маши.\n",
    "Все числа целые и по модулю не превосходят \n",
    "1\n",
    "0\n",
    "8\n",
    ".\n",
    "\n",
    "Формат вывода\n",
    "Выведите одно число — количество деревьев, которые могут быть покрашены."
   ]
  },
  {
   "cell_type": "code",
   "execution_count": 3,
   "metadata": {},
   "outputs": [
    {
     "name": "stdout",
     "output_type": "stream",
     "text": [
      "18\n"
     ]
    }
   ],
   "source": [
    "V0, Vrad = 0, 3\n",
    "M0, Mrad = 12, 5\n",
    "\n",
    "\n",
    "vmin, vmax = V0 - Vrad, V0 + Vrad\n",
    "mmin, mmax = M0 - Mrad, M0 + Mrad\n",
    "\n",
    "if max(vmin, mmin) <= min(vmax, mmax):\n",
    "    print(max(vmax, mmax) - (min(vmin, mmin)) + 1)\n",
    "else:\n",
    "    print((vmax - vmin + 1) + (mmax - mmin + 1))"
   ]
  },
  {
   "cell_type": "markdown",
   "metadata": {},
   "source": [
    "# 3\n",
    "\n",
    "Раунд плей-офф между двумя командами состоит из двух матчей. Каждая команда проводит по одному матчу «дома» и «в гостях». Выигрывает команда, забившая большее число мячей. Если же число забитых мячей совпадает, выигрывает команда, забившая больше мячей «в гостях». Если и это число мячей совпадает, матч переходит в дополнительный тайм или серию пенальти.\n",
    "\n",
    "Вам дан счёт первого матча, а также счёт текущей игры (которая ещё не завершилась). Помогите комментатору сообщить, сколько голов необходимо забить первой команде, чтобы победить, не переводя игру в дополнительное время.\n",
    "\n",
    "Формат ввода\n",
    "В первой строке записан счёт первого мачта в формате G1:G2, где G1 — число мячей, забитых первой командой, а G2 — число мячей, забитых второй командой.\n",
    "\n",
    "Во второй строке записан счёт второго (текущего) матча в аналогичном формате. Все числа в записи счёта не превышают 5.\n",
    "\n",
    "В третьей строке записано число 1, если первую игру первая команда провела «дома», или 2, если «в гостях».\n",
    "\n",
    "Формат вывода\n",
    "Выведите единственное целое число \"— необходимое количество мячей."
   ]
  },
  {
   "cell_type": "code",
   "execution_count": 4,
   "metadata": {},
   "outputs": [
    {
     "name": "stdout",
     "output_type": "stream",
     "text": [
      "6\n"
     ]
    }
   ],
   "source": [
    "first1, second1 = 0, 2\n",
    "first2, second2 = 0, 3\n",
    "indicator = 2\n",
    "ans = 0\n",
    "\n",
    "if first1 + first2 <= second1 + second2:\n",
    "    ans += (second1 + second2) - (first1 + first2)\n",
    "    if indicator == 1:\n",
    "        if ans + first2 > second1:\n",
    "            print(ans)\n",
    "        else:\n",
    "            print(ans + 1)\n",
    "    else:\n",
    "        if first1 > second2:\n",
    "            print(ans)\n",
    "        else:\n",
    "            print(ans + 1)\n",
    "else: print(0)"
   ]
  },
  {
   "cell_type": "markdown",
   "metadata": {},
   "source": [
    "********\n",
    "*R******\n",
    "********\n",
    "*****B**\n",
    "********\n",
    "********\n",
    "********\n",
    "********\n"
   ]
  },
  {
   "cell_type": "code",
   "execution_count": 1,
   "metadata": {},
   "outputs": [
    {
     "name": "stdout",
     "output_type": "stream",
     "text": [
      "40\n"
     ]
    }
   ],
   "source": [
    "field = [\n",
    "    ['o', 'o', 'o', 'o', 'o', 'o', 'o', 'o', 'o', 'o'],\n",
    "    ['o', '*', '*', '*', '*', '*', '*', '*', '*', 'o'],\n",
    "    ['o', '*', 'R', '*', '*', '*', '*', '*', '*', 'o'],\n",
    "    ['o', '*', '*', '*', '*', '*', '*', '*', '*', 'o'],\n",
    "    ['o', '*', '*', '*', '*', '*', 'B', '*', '*', 'o'],\n",
    "    ['o', '*', '*', '*', '*', '*', '*', '*', '*', 'o'],\n",
    "    ['o', '*', '*', '*', '*', '*', '*', '*', '*', 'o'],\n",
    "    ['o', '*', '*', '*', '*', '*', '*', '*', '*', 'o'],\n",
    "    ['o', '*', '*', '*', '*', '*', '*', '*', '*', 'o'],\n",
    "    ['o', 'o', 'o', 'o', 'o', 'o', 'o', 'o', 'o', 'o']\n",
    "]\n",
    "\n",
    "for row in range(1, 9):\n",
    "    while 'R' in field[row]:\n",
    "        col = field[row].index('R')\n",
    "        for up in range(row - 1, 0, -1):\n",
    "            if field[up][col] == '*':\n",
    "                field[up][col] = '.'\n",
    "            else: break\n",
    "        for down in range(row + 1, 10):\n",
    "            if field[down][col] == '*':\n",
    "                field[down][col] = '.'\n",
    "            else: break\n",
    "        for right in range(col + 1, 10):\n",
    "            if field[row][right] == '*':\n",
    "                field[row][right] = '.'\n",
    "            else: break\n",
    "        for left in range(col - 1, 0, -1):\n",
    "            if field[row][left] == '*':\n",
    "                field[row][left] = '.'\n",
    "            else: break\n",
    "        field[row][col] = 'F'\n",
    "    while 'B' in field[row]:\n",
    "        col = field[row].index('B')\n",
    "        # up-right\n",
    "        x, y = row - 1, col + 1\n",
    "        while field[x][y] == '*' or field[x][y] == '.':\n",
    "            field[x][y] = '.'\n",
    "            x -= 1\n",
    "            y += 1\n",
    "        # up-left\n",
    "        x, y = row - 1, col - 1\n",
    "        while field[x][y] == '*' or field[x][y] == '.':\n",
    "            field[x][y] = '.'\n",
    "            x -= 1\n",
    "            y -= 1\n",
    "        # down-left\n",
    "        x, y = row + 1, col - 1\n",
    "        while field[x][y] == '*' or field[x][y] == '.':\n",
    "            field[x][y] = '.'\n",
    "            x += 1\n",
    "            y -= 1\n",
    "        # down-right\n",
    "        x, y = row + 1, col + 1\n",
    "        while field[x][y] == '*' or field[x][y] == '.':\n",
    "            field[x][y] = '.'\n",
    "            x += 1\n",
    "            y += 1\n",
    "        field[row][col] = 'F'\n",
    "\n",
    "ans = 0\n",
    "for i in range(1, 9):\n",
    "    ans += field[i].count('*')\n",
    "            \n",
    "            \n",
    "            \n",
    "print(ans)"
   ]
  },
  {
   "cell_type": "code",
   "execution_count": 6,
   "metadata": {},
   "outputs": [
    {
     "name": "stdout",
     "output_type": "stream",
     "text": [
      "[1, 2, 3], 1\n",
      "[1, 2, 3], 2\n"
     ]
    }
   ],
   "source": [
    "field = [list('o' * 10)]\n",
    "for i in range(8):\n",
    "    field.append(['o'] + list(input()) + ['o'])\n",
    "field.append([list('o' * 10)])"
   ]
  }
 ],
 "metadata": {
  "kernelspec": {
   "display_name": "Python 3",
   "language": "python",
   "name": "python3"
  },
  "language_info": {
   "codemirror_mode": {
    "name": "ipython",
    "version": 3
   },
   "file_extension": ".py",
   "mimetype": "text/x-python",
   "name": "python",
   "nbconvert_exporter": "python",
   "pygments_lexer": "ipython3",
   "version": "3.9.10"
  }
 },
 "nbformat": 4,
 "nbformat_minor": 2
}
