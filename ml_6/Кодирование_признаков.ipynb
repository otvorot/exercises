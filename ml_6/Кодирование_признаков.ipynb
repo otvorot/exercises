{
  "cells": [
    {
      "cell_type": "code",
      "execution_count": 1,
      "metadata": {
        "id": "rXuqbqHi2BSO"
      },
      "outputs": [],
      "source": [
        "import pandas as pd\n",
        "from sklearn.linear_model import LinearRegression"
      ]
    },
    {
      "cell_type": "markdown",
      "metadata": {
        "id": "z_Z6bFot2Oeg"
      },
      "source": [
        "# Загрузка данных"
      ]
    },
    {
      "cell_type": "code",
      "execution_count": 2,
      "metadata": {
        "id": "Wkm_a7aj2Sk_"
      },
      "outputs": [],
      "source": [
        "data = pd.read_excel('data/data_ford_price.xlsx') "
      ]
    },
    {
      "cell_type": "code",
      "execution_count": 3,
      "metadata": {
        "id": "z4vgpzDc2Wlh"
      },
      "outputs": [],
      "source": [
        "y = data['price']\n",
        "X = data.drop(columns='price')"
      ]
    },
    {
      "cell_type": "markdown",
      "metadata": {
        "id": "p1Woo8G12avl"
      },
      "source": [
        "# Предобработка"
      ]
    },
    {
      "cell_type": "code",
      "execution_count": 4,
      "metadata": {
        "colab": {
          "base_uri": "https://localhost:8080/",
          "height": 324
        },
        "id": "qAeVTF4N2YLb",
        "outputId": "bf4b235c-c2c7-4615-fcba-d27f4e021ada"
      },
      "outputs": [],
      "source": [
        "#lr = LinearRegression()\n",
        "#lr.fit(X,y)"
      ]
    },
    {
      "cell_type": "markdown",
      "metadata": {
        "id": "vWNgsXjv3LTK"
      },
      "source": [
        "_______________________\n",
        "Сторонний пример"
      ]
    },
    {
      "cell_type": "code",
      "execution_count": 5,
      "metadata": {
        "colab": {
          "base_uri": "https://localhost:8080/"
        },
        "id": "ugcPTwHa3OgT",
        "outputId": "6b79c10f-fcd0-4a8a-cd5b-434a10f23cad"
      },
      "outputs": [
        {
          "name": "stdout",
          "output_type": "stream",
          "text": [
            "категории: ['BSc' 'MSc' 'PhD' 'начальное' 'нет' 'среднее']\n"
          ]
        },
        {
          "data": {
            "text/plain": [
              "array([[0, 0, 0, 0, 1, 0],\n",
              "       [0, 1, 0, 0, 0, 0]])"
            ]
          },
          "execution_count": 5,
          "metadata": {},
          "output_type": "execute_result"
        }
      ],
      "source": [
        "from sklearn.preprocessing  import LabelBinarizer\n",
        " \n",
        "lb = LabelBinarizer()\n",
        " \n",
        "education = ['нет', 'начальное', 'среднее', 'BSc', 'MSc', 'начальное', 'PhD']\n",
        "lb.fit(education)\n",
        " \n",
        "print('категории:', lb.classes_) \n",
        "lb.transform(['нет', 'MSc'])"
      ]
    },
    {
      "cell_type": "markdown",
      "metadata": {
        "id": "GTiDn83d3S7s"
      },
      "source": [
        "___________________________________"
      ]
    },
    {
      "cell_type": "code",
      "execution_count": 6,
      "metadata": {
        "colab": {
          "base_uri": "https://localhost:8080/"
        },
        "id": "WTjBKN113APL",
        "outputId": "e1344eb5-7be9-47e2-ae5d-b0a9823adb83"
      },
      "outputs": [
        {
          "name": "stdout",
          "output_type": "stream",
          "text": [
            "Число уникальных значений призкака cylinders:  6\n",
            "Число уникальных значений призкака title_status:  5\n",
            "Число уникальных значений призкака transmission:  3\n",
            "Число уникальных значений призкака drive:  3\n",
            "Число уникальных значений призкака size:  4\n"
          ]
        }
      ],
      "source": [
        "columns_to_change = ['cylinders', 'title_status', 'transmission', 'drive', 'size']\n",
        " \n",
        "for column in columns_to_change:\n",
        " print('Число уникальных значений призкака {}: '.format(column), data[column].nunique())"
      ]
    },
    {
      "cell_type": "code",
      "execution_count": 7,
      "metadata": {
        "colab": {
          "base_uri": "https://localhost:8080/"
        },
        "id": "vDYtJ8wu3cdH",
        "outputId": "60e0daa1-f4f7-449d-e584-ea5c86c85cac"
      },
      "outputs": [
        {
          "name": "stdout",
          "output_type": "stream",
          "text": [
            "['cylinders_3' 'cylinders_4' 'cylinders_5' 'cylinders_6' 'cylinders_8'\n",
            " 'cylinders_10' 'title_status_clean' 'title_status_lien'\n",
            " 'title_status_missing' 'title_status_rebuilt' 'title_status_salvage'\n",
            " 'transmission_automatic' 'transmission_manual' 'transmission_other'\n",
            " 'drive_4wd' 'drive_fwd' 'drive_rwd' 'drive_nan' 'size_compact'\n",
            " 'size_full-size' 'size_mid-size' 'size_sub-compact' 'size_nan']\n"
          ]
        }
      ],
      "source": [
        "from sklearn.preprocessing import OneHotEncoder\n",
        " \n",
        "one_hot_encoder = OneHotEncoder()\n",
        " \n",
        "# 'учим' и сразу применяем преобразование к выборке, результат переводим в массив\n",
        "data_onehot = one_hot_encoder.fit_transform(data[columns_to_change]).toarray() \n",
        "# запишем полученные названия новых колонок в отдельную переменную\n",
        "column_names = one_hot_encoder.get_feature_names_out(columns_to_change)\n",
        "print(column_names)"
      ]
    },
    {
      "cell_type": "code",
      "execution_count": 9,
      "metadata": {},
      "outputs": [
        {
          "data": {
            "text/plain": [
              "array([[0., 0., 0., ..., 0., 0., 0.],\n",
              "       [0., 0., 0., ..., 0., 0., 0.],\n",
              "       [0., 0., 0., ..., 0., 0., 0.],\n",
              "       ...,\n",
              "       [0., 0., 0., ..., 0., 0., 0.],\n",
              "       [0., 0., 0., ..., 0., 0., 0.],\n",
              "       [0., 0., 0., ..., 0., 0., 0.]])"
            ]
          },
          "execution_count": 9,
          "metadata": {},
          "output_type": "execute_result"
        }
      ],
      "source": [
        "data_onehot"
      ]
    },
    {
      "cell_type": "markdown",
      "metadata": {},
      "source": [
        "✍ Как вы уже знаете, большинство моделей машинного обучения не умеют работать с текстовыми признаками.\n",
        "\n",
        "→ Скачайте ноутбук с кодом юнита\n",
        "\n",
        "Обратимся к нашим данным. Нас просят предсказать цену автомобиля. Для обучения модели выделим целевой столбец:\n",
        "\n",
        "y = data['price']\n",
        "x = data.drop(columns='price')\n",
        "Попробуем применить линейную регрессию на «сырых» данных:\n",
        "\n",
        "lr = LinearRegression()\n",
        "lr.fit(x,y)\n",
        "Мы получим ошибку с комментарием о том, что не удалось превратить строковое значение в число с плавающей точкой (float).\n",
        "\n",
        "img\n",
        "\n",
        "Чтобы этой ошибки не возникало, необходимо закодировать данные.\n",
        "\n",
        "В разделе EDA-3 вы познакомились с такими методами кодирования, как:\n",
        "\n",
        "порядковое кодирование;\n",
        "двоичное кодирование;\n",
        "однократное кодирование.\n",
        "img\n",
        "\n",
        "В таблице ниже представлено сравнение данных способов кодировки:\n",
        "\n",
        "Значения признака «Образование»\tПорядковое кодирование\tДвоичное кодирование\tОднократное кодирование\n",
        "Нет\t1\t000\t000001\n",
        "Начальное\t2\t001\t000010\n",
        "Среднее\t3\t010\t000100\n",
        "BSc\t4\t011\t001000\n",
        "MSc\t5\t100\t010000\n",
        "PhD\t6\t101\t100000\n",
        "Задание 3.1\n",
        "2/2 points (graded)\n",
        "Выберите кодировку, которая соответствует иллюстрации:\n",
        "\n",
        "img\n",
        "\n",
        "\n",
        "Порядковая\n",
        " верно \n",
        "img\n",
        "\n",
        "\n",
        "Двоичная\n",
        " верно \n",
        "Show answer\n",
        "Отправить\n",
        "Some problems have options such as save, reset, hints, or show answer. These options follow the Submit button.\n",
        "Задание 3.2\n",
        "1/1 point (graded)\n",
        "Какая цифра будет стоять в последнем столбце для строки с образованием PhD при однократном кодировании?\n",
        "0\n",
        "  верно \n",
        " \n",
        "Show answer\n",
        "Отправить\n",
        "Some problems have options such as save, reset, hints, or show answer. These options follow the Submit button.\n",
        "Для реализации данных методов мы использовали библиотеку category_encoders. Однако вы уже знаете и такой мощный инструмент, как scikit-learn. Данная библиотека содержит набор реализованных алгоритмов машинного обучения, метрик для оценки их качества, а также  класс preprocessing для предобработки данных, в частности — для кодирования категориальных признаков.\n",
        "\n",
        "Представленная ниже таблица показывает соответствие типа кодирования классу в sklearn.processing.\n",
        "\n",
        "Тип кодировки\tКласс библиотеки sklearn\n",
        "Порядковое кодирование\tLabelEncoder\n",
        "Двоичное кодирование\tLabelBinarizer\n",
        "Однократное кодирование\tOneHotEncoder\n",
        "img\n",
        "\n",
        "Преимущество использования одной библиотеки состоит в типичности методов. Например, вы знаете, что для обучения модели в sklearn используется метод fit(). При кодировании признаков здесь также применяют fit() для подгонки кодировщика под выборку и transform() — для преобразования данных в числа.\n",
        "\n",
        "Алгоритм кодирования в sklearn следующий:\n",
        "\n",
        "img\n",
        "\n",
        "Из предыдущих модулей мы знаем, что при решении задач машинного обучения данные разбираются на обучающую (train) и валидационную (validation) выборки (последняя также может быть тестовой (test) выборкой). По аналогии подгонка кодировщика происходит на обучающей выборке, а трансформация — на обучающей и на тестовой.\n",
        "\n",
        "Почему так? Потому что наша обученная модель не должна видеть данные, которые подаются в неё на тесте. Только так мы можем судить о том, что модель обучена качественно. То же самое и с кодировкой.\n",
        "\n",
        "Давайте посмотрим на кодирование признака Образование способом «один-против-всех» (one vs all):\n",
        "\n",
        "from sklearn.preprocessing  import LabelBinarizer\n",
        " \n",
        "lb = LabelBinarizer()\n",
        " \n",
        "education = ['нет', 'начальное', 'среднее', 'BSc', 'MSc', 'начальное', 'PhD']\n",
        " \n",
        "lb.fit(education)\n",
        " \n",
        "print('категории:', lb.classes_)\n",
        " \n",
        "lb.transform(['нет', 'MSc'])\n",
        "img\n",
        "\n",
        "У класса LabelBinarizer, как и у двух остальных, есть атрибут classes_, который выводит список уникальных значений признака.\n",
        "\n",
        "Вернёмся к нашей выборке. В ней присутствуют следующие категориальные признаки: condition, cylinders, title_status, transmission, drive, size.\n",
        "\n",
        "При этом признаки condition и cylinders — числовые, а title_status, transmission, drive, size — текстовые.\n",
        "\n",
        "img\n",
        "\n",
        "Задание 3.3\n",
        "1/1 point (graded)\n",
        "Какой тип имеет признак condition?\n",
        "Порядковый\n",
        "Номинальный\n",
        "верно\n",
        "Ответ\n",
        "Верно:Это порядковый признак, так как состояние машины 0 явно хуже состояния 5.\n",
        "Show answer\n",
        "Отправить\n",
        "Some problems have options such as save, reset, hints, or show answer. These options follow the Submit button.\n",
        "Задание 3.4\n",
        "1/1 point (graded)\n",
        "Какой тип имеет признак cylinders?\n",
        "Порядковый\n",
        "Номинальный\n",
        "верно\n",
        "Ответ\n",
        "Верно:Это номинальный признак: в нём нет градации значений.\n",
        "Show answer\n",
        "Отправить\n",
        "Some problems have options such as save, reset, hints, or show answer. These options follow the Submit button.Верно (1/1 балл)Review\n",
        "Задание 3.5\n",
        "1/1 point (graded)\n",
        "Нужно ли преобразовывать признаки cylinders и condition?\n",
        "Да, нужно преобразовать оба признака.\n",
        "Нет, не нужно преобразовывать ни один из признаков.\n",
        "Нужно преобразовать только cylinders.\n",
        "Нужно преобразовать только condition.\n",
        "верно\n",
        "Ответ\n",
        "Верно:condition — это порядковый признак, который уже представлен в числовом формате, его кодировать не нужно. cylinders — номинальный признак, его нужно закодировать.\n",
        "Show answer\n",
        "Отправить\n",
        "Some problems have options such as save, reset, hints, or show answer. These options follow the Submit button.Верно (1/1 балл)Review\n",
        "Важно производить кодирование номинальных признаков, даже если они уже представлены в числовом формате, так как, в отличие от порядковых признаков, категории номинальных являются независимыми. В случае порядкового кодирования таких признаков мы вносим искусственные закономерности в данные (например, чем больше числовой код цилиндров, тем лучше, хотя это необязательно так).\n",
        "\n",
        "Задание 3.6\n",
        "1/1 point (graded)\n",
        "Какой способ кодирования следует выбрать для номинального признака в случае небольшого числа категорий?\n",
        "Порядковый\n",
        "Однократный\n",
        "верно\n",
        "Ответ\n",
        "Верно:Однократное кодирование — выбор для номинальных признаков, если их меньше 15.\n",
        "Show answer\n",
        "Отправить\n",
        "Some problems have options such as save, reset, hints, or show answer. These options follow the Submit button.Верно (1/1 балл)Review\n",
        "Посмотрим на число уникальных значений номинальных признаков title_status, transmission, drive, size и cylinders:\n",
        "\n",
        "columns_to_change = ['cylinders', 'title_status', 'transmission', 'drive', 'size']\n",
        " \n",
        "for column in columns_to_change:\n",
        " print('Число уникальных значений признака {}: '.format(column), data[column].nunique())\n",
        "img\n",
        "\n",
        "Итак, нам подходит однократное кодирование. Применим его к выбранным столбцам. Так как у нас нет отдельной тестовой выборки, то мы используем только один метод — fit_transform(). В качестве аргумента передаём таблицу с выбранными для преобразования признаками.\n",
        "\n",
        "С помощью метода get_feature_names_out() получим список новых названий колонок:\n",
        "\n",
        "from sklearn.preprocessing import OneHotEncoder\n",
        " \n",
        "one_hot_encoder = OneHotEncoder()\n",
        " \n",
        "# 'учим' и сразу применяем преобразование к выборке, результат переводим в массив\n",
        "data_onehot = one_hot_encoder.fit_transform(data[columns_to_change]).toarray()\n",
        " \n",
        "# запишем полученные названия новых колонок в отдельную переменную\n",
        "column_names = one_hot_encoder.get_feature_names_out(columns_to_change)\n",
        "print(column_names)\n",
        "img\n",
        "\n",
        "Отлично, категориальные признаки закодированы. Теперь нам необходимо соединить преобразованные данные с исходными.\n",
        "\n",
        "Напомним, что у библиотеки pandas есть дефолтный метод get_dummies() для получения однократного кодирования признаков. Однако OneHotEncoder способен принимать на вход как таблицы, так и numpy-массивы."
      ]
    }
  ],
  "metadata": {
    "colab": {
      "name": "Кодирование_признаков.ipynb",
      "provenance": []
    },
    "kernelspec": {
      "display_name": "Python 3",
      "name": "python3"
    },
    "language_info": {
      "codemirror_mode": {
        "name": "ipython",
        "version": 3
      },
      "file_extension": ".py",
      "mimetype": "text/x-python",
      "name": "python",
      "nbconvert_exporter": "python",
      "pygments_lexer": "ipython3",
      "version": "3.9.10"
    }
  },
  "nbformat": 4,
  "nbformat_minor": 0
}
