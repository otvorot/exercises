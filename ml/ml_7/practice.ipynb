{
 "cells": [
  {
   "cell_type": "code",
   "execution_count": 1,
   "metadata": {},
   "outputs": [],
   "source": [
    "import pandas as pd\n",
    "import numpy as np\n",
    "import warnings\n",
    "import hyperopt\n",
    "import optuna\n",
    "\n",
    "from sklearn import linear_model\n",
    "from sklearn import tree\n",
    "from sklearn import ensemble\n",
    "from sklearn import model_selection\n",
    "from sklearn import preprocessing\n",
    "from sklearn import metrics\n",
    "from hyperopt import hp, fmin, tpe, Trials\n",
    "\n",
    "warnings.filterwarnings('ignore')\n",
    "random_state = 42"
   ]
  },
  {
   "cell_type": "markdown",
   "metadata": {},
   "source": [
    "# 1. Загрузка и подготовка данных"
   ]
  },
  {
   "cell_type": "code",
   "execution_count": 2,
   "metadata": {},
   "outputs": [
    {
     "data": {
      "text/html": [
       "<div>\n",
       "<style scoped>\n",
       "    .dataframe tbody tr th:only-of-type {\n",
       "        vertical-align: middle;\n",
       "    }\n",
       "\n",
       "    .dataframe tbody tr th {\n",
       "        vertical-align: top;\n",
       "    }\n",
       "\n",
       "    .dataframe thead th {\n",
       "        text-align: right;\n",
       "    }\n",
       "</style>\n",
       "<table border=\"1\" class=\"dataframe\">\n",
       "  <thead>\n",
       "    <tr style=\"text-align: right;\">\n",
       "      <th></th>\n",
       "      <th>Activity</th>\n",
       "      <th>D1</th>\n",
       "      <th>D2</th>\n",
       "      <th>D3</th>\n",
       "      <th>D4</th>\n",
       "      <th>D5</th>\n",
       "      <th>D6</th>\n",
       "      <th>D7</th>\n",
       "      <th>D8</th>\n",
       "      <th>D9</th>\n",
       "      <th>...</th>\n",
       "      <th>D1767</th>\n",
       "      <th>D1768</th>\n",
       "      <th>D1769</th>\n",
       "      <th>D1770</th>\n",
       "      <th>D1771</th>\n",
       "      <th>D1772</th>\n",
       "      <th>D1773</th>\n",
       "      <th>D1774</th>\n",
       "      <th>D1775</th>\n",
       "      <th>D1776</th>\n",
       "    </tr>\n",
       "  </thead>\n",
       "  <tbody>\n",
       "    <tr>\n",
       "      <th>0</th>\n",
       "      <td>1</td>\n",
       "      <td>0.000000</td>\n",
       "      <td>0.497009</td>\n",
       "      <td>0.10</td>\n",
       "      <td>0.0</td>\n",
       "      <td>0.132956</td>\n",
       "      <td>0.678031</td>\n",
       "      <td>0.273166</td>\n",
       "      <td>0.585445</td>\n",
       "      <td>0.743663</td>\n",
       "      <td>...</td>\n",
       "      <td>0</td>\n",
       "      <td>0</td>\n",
       "      <td>0</td>\n",
       "      <td>0</td>\n",
       "      <td>0</td>\n",
       "      <td>0</td>\n",
       "      <td>0</td>\n",
       "      <td>0</td>\n",
       "      <td>0</td>\n",
       "      <td>0</td>\n",
       "    </tr>\n",
       "    <tr>\n",
       "      <th>1</th>\n",
       "      <td>1</td>\n",
       "      <td>0.366667</td>\n",
       "      <td>0.606291</td>\n",
       "      <td>0.05</td>\n",
       "      <td>0.0</td>\n",
       "      <td>0.111209</td>\n",
       "      <td>0.803455</td>\n",
       "      <td>0.106105</td>\n",
       "      <td>0.411754</td>\n",
       "      <td>0.836582</td>\n",
       "      <td>...</td>\n",
       "      <td>1</td>\n",
       "      <td>1</td>\n",
       "      <td>1</td>\n",
       "      <td>1</td>\n",
       "      <td>0</td>\n",
       "      <td>1</td>\n",
       "      <td>0</td>\n",
       "      <td>0</td>\n",
       "      <td>1</td>\n",
       "      <td>0</td>\n",
       "    </tr>\n",
       "    <tr>\n",
       "      <th>2</th>\n",
       "      <td>1</td>\n",
       "      <td>0.033300</td>\n",
       "      <td>0.480124</td>\n",
       "      <td>0.00</td>\n",
       "      <td>0.0</td>\n",
       "      <td>0.209791</td>\n",
       "      <td>0.610350</td>\n",
       "      <td>0.356453</td>\n",
       "      <td>0.517720</td>\n",
       "      <td>0.679051</td>\n",
       "      <td>...</td>\n",
       "      <td>0</td>\n",
       "      <td>0</td>\n",
       "      <td>0</td>\n",
       "      <td>0</td>\n",
       "      <td>0</td>\n",
       "      <td>0</td>\n",
       "      <td>0</td>\n",
       "      <td>0</td>\n",
       "      <td>0</td>\n",
       "      <td>0</td>\n",
       "    </tr>\n",
       "  </tbody>\n",
       "</table>\n",
       "<p>3 rows × 1777 columns</p>\n",
       "</div>"
      ],
      "text/plain": [
       "   Activity        D1        D2    D3   D4        D5        D6        D7  \\\n",
       "0         1  0.000000  0.497009  0.10  0.0  0.132956  0.678031  0.273166   \n",
       "1         1  0.366667  0.606291  0.05  0.0  0.111209  0.803455  0.106105   \n",
       "2         1  0.033300  0.480124  0.00  0.0  0.209791  0.610350  0.356453   \n",
       "\n",
       "         D8        D9  ...  D1767  D1768  D1769  D1770  D1771  D1772  D1773  \\\n",
       "0  0.585445  0.743663  ...      0      0      0      0      0      0      0   \n",
       "1  0.411754  0.836582  ...      1      1      1      1      0      1      0   \n",
       "2  0.517720  0.679051  ...      0      0      0      0      0      0      0   \n",
       "\n",
       "   D1774  D1775  D1776  \n",
       "0      0      0      0  \n",
       "1      0      1      0  \n",
       "2      0      0      0  \n",
       "\n",
       "[3 rows x 1777 columns]"
      ]
     },
     "execution_count": 2,
     "metadata": {},
     "output_type": "execute_result"
    }
   ],
   "source": [
    "data = pd.read_csv('data/_train_sem09 (1).csv')\n",
    "data.head(3)"
   ]
  },
  {
   "cell_type": "code",
   "execution_count": 3,
   "metadata": {},
   "outputs": [
    {
     "name": "stdout",
     "output_type": "stream",
     "text": [
      "Activity\n",
      "1    0.542255\n",
      "0    0.457745\n",
      "Name: proportion, dtype: float64\n"
     ]
    }
   ],
   "source": [
    "# проверка сбалансированности целевого признака\n",
    "print(data['Activity'].value_counts(normalize=True)\n",
    ")# матрица значений признаков\n",
    "X = data.drop(['Activity'], axis=1)\n",
    "# вектор правильных ответов\n",
    "y = data['Activity']"
   ]
  },
  {
   "cell_type": "markdown",
   "metadata": {},
   "source": [
    "*Данные относительно сбалансированы по классам*"
   ]
  },
  {
   "cell_type": "code",
   "execution_count": 4,
   "metadata": {},
   "outputs": [],
   "source": [
    "# разбивка данных на train/test выборки\n",
    "X_train, X_test, y_train, y_test = model_selection.train_test_split(\n",
    "    X,\n",
    "    y,\n",
    "    train_size=0.8,\n",
    "    random_state=random_state\n",
    ")"
   ]
  },
  {
   "cell_type": "markdown",
   "metadata": {},
   "source": [
    "# 2. Обучаем базовые модели"
   ]
  },
  {
   "cell_type": "code",
   "execution_count": 5,
   "metadata": {},
   "outputs": [
    {
     "name": "stdout",
     "output_type": "stream",
     "text": [
      "log_reg train f1 scores 0.8875154511742892\n",
      "log_reg test f1 scores 0.7890535917901939\n",
      "forest train f1 scores 1.0\n",
      "forest test f1 scores 0.8279816513761468\n"
     ]
    }
   ],
   "source": [
    "# логистическая регрессия\n",
    "log_reg_model = linear_model.LogisticRegression(\n",
    "    random_state=random_state,\n",
    "    max_iter=1000\n",
    ")\n",
    "\n",
    "\n",
    "log_reg_model.fit(X_train, y_train)\n",
    "\n",
    "\n",
    "print(f'log_reg train f1 scores {metrics.f1_score(y_train, log_reg_model.predict(X_train))}')\n",
    "print(f'log_reg test f1 scores {metrics.f1_score(y_test, log_reg_model.predict(X_test))}')\n",
    "\n",
    "# случайный лес\n",
    "rand_forest_model = ensemble.RandomForestClassifier(\n",
    "    random_state=random_state\n",
    ")\n",
    "\n",
    "rand_forest_model.fit(X_train, y_train)\n",
    "\n",
    "\n",
    "print(f'forest train f1 scores {metrics.f1_score(y_train, rand_forest_model.predict(X_train))}')\n",
    "print(f'forest test f1 scores {metrics.f1_score(y_test, rand_forest_model.predict(X_test))}')\n"
   ]
  },
  {
   "cell_type": "markdown",
   "metadata": {},
   "source": [
    "# 3. GridSearchCV"
   ]
  },
  {
   "cell_type": "code",
   "execution_count": 7,
   "metadata": {},
   "outputs": [],
   "source": [
    "%%time\n",
    "# для логистической регрессии\n",
    "\n",
    "param_grid = [\n",
    "        {\n",
    "        'penalty': ['l1', 'l2'],\n",
    "        'solver': ['liblinear', 'saga'],\n",
    "        'C': [0.9, 0.95, 1, 1.1]\n",
    "        }\n",
    "]\n",
    "\n",
    "grid_search_lr = model_selection.GridSearchCV(\n",
    "        estimator=log_reg_model,\n",
    "        param_grid=param_grid,\n",
    "        scoring='f1',\n",
    "        cv=5,\n",
    "        n_jobs=1\n",
    ")\n",
    "\n",
    "grid_search_lr.fit(X_train, y_train)\n",
    "\n",
    "\n",
    "print(f'оптимальные значения параметров {grid_search_lr.best_params_}')\n",
    "print('train/test метрика f1 соответственно: ',\n",
    "      grid_search_lr.score(X_train, y_train),\n",
    "      grid_search_lr.score(X_test, y_test),\n",
    "      sep='\\n'\n",
    "      )"
   ]
  },
  {
   "cell_type": "code",
   "execution_count": null,
   "metadata": {},
   "outputs": [
    {
     "name": "stdout",
     "output_type": "stream",
     "text": [
      "CPU times: total: 16 s\n",
      "Wall time: 10min 48s\n",
      "оптимальные значения параметров {'criterion': 'gini', 'max_depth': 16, 'min_samples_leaf': 1, 'n_estimators': 200}\n",
      "train/test метрика f1 соответственно: \n",
      "1.0\n",
      "0.84\n"
     ]
    }
   ],
   "source": [
    "%%time\n",
    "# для случайного леса\n",
    "\n",
    "param_grid = {\n",
    "    'n_estimators': [50, 100, 200],\n",
    "    'criterion': ['gini', 'entropy'],\n",
    "    'max_depth': [5, 8, 11, 13, 16, 19],\n",
    "    'min_samples_leaf': [1, 3, 6, 9, 11, 15]\n",
    "}\n",
    "\n",
    "grid_search_rf = model_selection.GridSearchCV(\n",
    "    estimator=rand_forest_model,\n",
    "    param_grid=param_grid,\n",
    "    scoring='f1',\n",
    "    cv=5,\n",
    "    n_jobs=-1\n",
    ")\n",
    "\n",
    "grid_search_rf.fit(X_train, y_train)\n",
    "print(f'оптимальные значения параметров {grid_search_rf.best_params_}')\n",
    "print('train/test метрика f1 соответственно: ',\n",
    "      round(grid_search_rf.score(X_train, y_train), 2),\n",
    "      round(grid_search_rf.score(X_test, y_test), 2),\n",
    "      sep='\\n'\n",
    "      )"
   ]
  },
  {
   "cell_type": "markdown",
   "metadata": {},
   "source": [
    "*Очень большие затраты по ресурсам на этот метод уходит, метрика логистической регрессии не выросла, метрика на случайном лесе стала лучше, но переобученность модели видно не вооруженным глазом*"
   ]
  },
  {
   "cell_type": "markdown",
   "metadata": {},
   "source": [
    "# 4. RandomizedSearchCV"
   ]
  },
  {
   "cell_type": "code",
   "execution_count": null,
   "metadata": {},
   "outputs": [
    {
     "name": "stdout",
     "output_type": "stream",
     "text": [
      "CPU times: total: 1min 16s\n",
      "Wall time: 12min 56s\n",
      "оптимальные значения параметров {'solver': 'saga', 'penalty': 'l1', 'C': 0.8}\n",
      "train/test метрика f1 соответственно: \n",
      "0.87\n",
      "0.79\n"
     ]
    }
   ],
   "source": [
    "%%time\n",
    "# для логистической регрессии\n",
    "\n",
    "param_distributions = [\n",
    "        {\n",
    "        'penalty': ['l1', 'l2'],\n",
    "        'solver': ['liblinear', 'saga'],\n",
    "        'C': [0.8, 0.85, 0.9, 0.95, 1, 1.05, 1.1]\n",
    "        },\n",
    "        {\n",
    "        'penalty': ['elasticnet'],\n",
    "        'l1_ratio': [0.1, 0.2, 0.3, 0.4, 0.5, 0.6, 0.7, 0.8, 0.9]\n",
    "        }\n",
    "]\n",
    "\n",
    "random_search_lr = model_selection.RandomizedSearchCV(\n",
    "    estimator=log_reg_model,\n",
    "    param_distributions=param_distributions,\n",
    "    n_iter=25,\n",
    "    cv=5,\n",
    "    scoring='f1',\n",
    "    n_jobs=-1\n",
    ")\n",
    "\n",
    "random_search_lr.fit(X_train, y_train)\n",
    "print(f'оптимальные значения параметров {random_search_lr.best_params_}')\n",
    "print('train/test метрика f1 соответственно: ',\n",
    "      round(random_search_lr.score(X_train, y_train), 2),\n",
    "      round(random_search_lr.score(X_test, y_test), 2),\n",
    "      sep='\\n'\n",
    "      )"
   ]
  },
  {
   "cell_type": "code",
   "execution_count": null,
   "metadata": {},
   "outputs": [
    {
     "name": "stdout",
     "output_type": "stream",
     "text": [
      "CPU times: total: 14 s\n",
      "Wall time: 30.1 s\n",
      "оптимальные значения параметров {'min_samples_leaf': 7, 'max_depth': 13, 'criterion': 'entropy'}\n",
      "train/test метрика f1 соответственно: \n",
      "0.91\n",
      "0.8\n"
     ]
    }
   ],
   "source": [
    "%%time\n",
    "# для случайного леса\n",
    "\n",
    "param_distributions = {'min_samples_leaf': list(np.linspace(1, 100, 50, dtype=int)),\n",
    "              'max_depth': list(np.linspace(1, 30, 50, dtype=int)),\n",
    "              'criterion':['entropy','gini']\n",
    "              }\n",
    "            \n",
    "random_search_rf = model_selection.RandomizedSearchCV(\n",
    "    estimator=rand_forest_model, \n",
    "    param_distributions=param_distributions, \n",
    "    cv=5,\n",
    "    n_iter = 25, \n",
    "    n_jobs = -1\n",
    ")\n",
    "\n",
    "random_search_rf.fit(X_train, y_train)\n",
    "print(f'оптимальные значения параметров {random_search_rf.best_params_}')\n",
    "print('train/test метрика f1 соответственно: ',\n",
    "      round(random_search_rf.score(X_train, y_train), 2),\n",
    "      round(random_search_rf.score(X_test, y_test), 2),\n",
    "      sep='\\n'\n",
    "      )"
   ]
  },
  {
   "cell_type": "markdown",
   "metadata": {},
   "source": [
    "*На логистической регрессии без улучшений, на случайном лесе тестовая метрика чуть ухудшилась, но переобучение снизилось (если так корректно сказать). Времязатраты снизились в разы*"
   ]
  },
  {
   "cell_type": "markdown",
   "metadata": {},
   "source": [
    "# 5. Hyperopt"
   ]
  },
  {
   "cell_type": "code",
   "execution_count": 6,
   "metadata": {},
   "outputs": [
    {
     "name": "stdout",
     "output_type": "stream",
     "text": [
      "  0%|          | 0/30 [00:00<?, ?trial/s, best loss=?]"
     ]
    },
    {
     "name": "stdout",
     "output_type": "stream",
     "text": [
      "100%|██████████| 30/30 [04:40<00:00,  9.36s/trial, best loss: -0.7849372073971516]\n",
      "Наилучшие значения гиперпараметров {'C': 0.358197306683544, 'penalty': 0, 'solver': 0}\n",
      "метрика на тестовой выборке 0.7972665148063781\n",
      "метрика на кросс-валидации 0.7849372073971516\n",
      "CPU times: total: 1min 24s\n",
      "Wall time: 4min 42s\n"
     ]
    }
   ],
   "source": [
    "%%time\n",
    "# для логистической регрессии\n",
    "pena = ['l1', 'l2']\n",
    "solv = ['liblinear', 'saga']\n",
    "space = {\n",
    "    'penalty' : hp.choice('penalty', pena),\n",
    "    'solver': hp.choice('solver', solv),\n",
    "    'C': hp.uniform('C', 0.01, 1)\n",
    "}\n",
    "\n",
    "def hyperopt_lr(params, cv=5, X=X_train, y=y_train, random_state=random_state):\n",
    "    params = {\n",
    "        'penalty' : str(params['penalty']),\n",
    "        'solver': str(params['solver']),\n",
    "        'C': float(params['C'])\n",
    "}\n",
    "\n",
    "    model = linear_model.LogisticRegression(**params, random_state=random_state)\n",
    "\n",
    "    model.fit(X, y)\n",
    "\n",
    "    score = model_selection.cross_val_score(model, X, y, cv=cv, scoring=\"f1\", n_jobs=-1).mean()\n",
    "\n",
    "    return -score\n",
    "\n",
    "\n",
    "trials = Trials()\n",
    "\n",
    "best=fmin(hyperopt_lr, \n",
    "          space=space, \n",
    "          algo=tpe.suggest, \n",
    "          max_evals=30, \n",
    "          trials=trials,\n",
    "          rstate=np.random.default_rng(random_state))\n",
    "\n",
    "print(\"Наилучшие значения гиперпараметров {}\".format(best))\n",
    "\n",
    "\n",
    "hyper_model_lr = linear_model.LogisticRegression(\n",
    "    penalty=pena[best['penalty']],\n",
    "    solver=solv[best['solver']],\n",
    "    C=float(best['C']),\n",
    "    max_iter=1000,\n",
    "    random_state=random_state\n",
    ")\n",
    "\n",
    "\n",
    "hyper_model_lr.fit(X_train, y_train)\n",
    "\n",
    "print(f'метрика на тренировочной выборке {metrics.f1_score(y_train, hyper_model_lr.predict(X_train))}')\n",
    "print(f'метрика на тестовой выборке {metrics.f1_score(y_test, hyper_model_lr.predict(X_test))}')\n"
   ]
  },
  {
   "cell_type": "code",
   "execution_count": 7,
   "metadata": {},
   "outputs": [
    {
     "name": "stdout",
     "output_type": "stream",
     "text": [
      "  0%|          | 0/30 [00:00<?, ?trial/s, best loss=?]"
     ]
    },
    {
     "name": "stdout",
     "output_type": "stream",
     "text": [
      "100%|██████████| 30/30 [01:31<00:00,  3.06s/trial, best loss: -0.8100956483985531]\n",
      "Наилучшие значения гиперпараметров {'criterion': 1, 'max_depth': 25.0, 'min_samples_leaf': 2.0, 'min_samples_split': 10.0, 'n_estimators': 150.0}\n",
      "метрика на тестовой выборке 0.8348837209302326\n",
      "метрика на кросс-валидации 0.8100956483985531\n",
      "CPU times: total: 4.34 s\n",
      "Wall time: 1min 41s\n"
     ]
    }
   ],
   "source": [
    "%%time\n",
    "# для случайного леса\n",
    "crit = ['gini', 'entropy']\n",
    "\n",
    "space = {\n",
    "    'criterion': hp.choice('criterion', crit),\n",
    "    'n_estimators': hp.quniform('n_estimators', 10, 250, 10),\n",
    "    'max_depth': hp.quniform('max_depth', 1, 30, 1),\n",
    "    'min_samples_leaf': hp.quniform('min_samples_leaf', 1, 100, 1),\n",
    "    'min_samples_split': hp.quniform('min_samples_split', 2, 10, 1)\n",
    "}\n",
    "\n",
    "\n",
    "def hyperopt_rf(params, cv=5, X=X_train, y=y_train, random_state=random_state):\n",
    "    params = {\n",
    "        'criterion': str(params['criterion']),\n",
    "        'n_estimators': int(params['n_estimators']),\n",
    "        'max_depth': int(params['max_depth']),\n",
    "        'min_samples_leaf': int(params['min_samples_leaf']),\n",
    "        'min_samples_split': int(params['min_samples_split'])\n",
    "}\n",
    "\n",
    "    model = ensemble.RandomForestClassifier(**params, random_state=random_state)\n",
    "\n",
    "    score = model_selection.cross_val_score(model, X, y, cv=cv, scoring=\"f1\", n_jobs=-1).mean()\n",
    "\n",
    "    return -score\n",
    "\n",
    "\n",
    "trials = Trials()\n",
    "\n",
    "best=fmin(hyperopt_rf, \n",
    "          space=space, \n",
    "          algo=tpe.suggest, \n",
    "          max_evals=30, \n",
    "          trials=trials,\n",
    "          rstate=np.random.default_rng(random_state))\n",
    "\n",
    "print(\"Наилучшие значения гиперпараметров {}\".format(best))\n",
    "\n",
    "\n",
    "hyper_model_rf = ensemble.RandomForestClassifier(\n",
    "    criterion=crit[best['criterion']],\n",
    "    n_estimators=int(best['n_estimators']),\n",
    "    max_depth=int(best['max_depth']),\n",
    "    min_samples_leaf=int(best['min_samples_leaf']),\n",
    "    min_samples_split=int(best['min_samples_split']),\n",
    "    random_state=random_state\n",
    ")\n",
    "\n",
    "\n",
    "hyper_model_rf.fit(X_train, y_train)\n",
    "\n",
    "print(f'метрика на тестовой выборке {metrics.f1_score(y_train, hyper_model_rf.predict(X_train))}')\n",
    "print(f'метрика на тестовой выборке {metrics.f1_score(y_test, hyper_model_rf.predict(X_test))}')\n"
   ]
  },
  {
   "cell_type": "markdown",
   "metadata": {},
   "source": [
    "# 6. Optuna"
   ]
  },
  {
   "cell_type": "code",
   "execution_count": null,
   "metadata": {},
   "outputs": [],
   "source": [
    "%%time\n",
    "# для логистической регрессии\n",
    "def optuna_lr(trial):\n",
    "    penalty = trial.suggest_categorical('penalty', ['l1', 'l2'])\n",
    "    solver = trial.suggest_categorical('solver', ['liblinear', 'saga'])\n",
    "    C = trial.suggest_uniform('C', 0.01, 1)\n",
    "    \n",
    "    model = linear_model.LogisticRegression(\n",
    "        penalty=penalty,\n",
    "        solver=solver,\n",
    "        C=C,\n",
    "        random_state=random_state,\n",
    "        max_iter=1000\n",
    "    )\n",
    "    \n",
    "    return model_selection.cross_val_score(\n",
    "        estimator=model,\n",
    "        X=X_train,\n",
    "        y=y_train,\n",
    "        cv=5,\n",
    "        scoring='f1',\n",
    "        n_jobs=-1\n",
    "    ).mean()\n",
    "    \n",
    "\n",
    "study = optuna.create_study(study_name='LogisticRegression', direction='maximize')\n",
    "study.optimize(optuna_lr, n_trials=25)\n",
    "\n",
    "print(\"значения гиперпараметров {}\".format(study.best_params))\n",
    "print(\"метрика на кросс-валидации: {:.2f}\".format(study.best_value))\n",
    "\n",
    "optuna_model_lr = linear_model.LogisticRegression(\n",
    "    **study.best_params,\n",
    "    random_state=random_state\n",
    ")\n",
    "optuna_model_lr.fit(X_train, y_train)\n",
    "print(f'метрика на тестовой выборке {metrics.f1_score(y_test, optuna_model_lr.predict(X_test))}')"
   ]
  },
  {
   "cell_type": "code",
   "execution_count": 6,
   "metadata": {},
   "outputs": [
    {
     "name": "stderr",
     "output_type": "stream",
     "text": [
      "[I 2024-08-25 20:58:53,020] A new study created in memory with name: RandomForestClassifier\n",
      "[I 2024-08-25 20:59:05,674] Trial 1 finished with value: 0.7790015456246401 and parameters: {'n_estimators': 130, 'criterion': 'entropy', 'max_depth': 30, 'min_samples_leaf': 23, 'min_samples_split': 25}. Best is trial 1 with value: 0.7790015456246401.\n",
      "[I 2024-08-25 20:59:09,582] Trial 0 finished with value: 0.791925715318489 and parameters: {'n_estimators': 120, 'criterion': 'gini', 'max_depth': 28, 'min_samples_leaf': 10, 'min_samples_split': 21}. Best is trial 0 with value: 0.791925715318489.\n",
      "[I 2024-08-25 20:59:10,086] Trial 2 finished with value: 0.782807022890545 and parameters: {'n_estimators': 180, 'criterion': 'entropy', 'max_depth': 12, 'min_samples_leaf': 15, 'min_samples_split': 26}. Best is trial 0 with value: 0.791925715318489.\n",
      "[I 2024-08-25 20:59:16,667] Trial 5 finished with value: 0.7782317655172789 and parameters: {'n_estimators': 240, 'criterion': 'gini', 'max_depth': 17, 'min_samples_leaf': 20, 'min_samples_split': 15}. Best is trial 0 with value: 0.791925715318489.\n",
      "[I 2024-08-25 20:59:20,654] Trial 7 finished with value: 0.7441691625888247 and parameters: {'n_estimators': 230, 'criterion': 'gini', 'max_depth': 5, 'min_samples_leaf': 26, 'min_samples_split': 12}. Best is trial 0 with value: 0.791925715318489.\n",
      "[I 2024-08-25 20:59:22,945] Trial 3 finished with value: 0.7852491823502797 and parameters: {'n_estimators': 300, 'criterion': 'gini', 'max_depth': 28, 'min_samples_leaf': 15, 'min_samples_split': 26}. Best is trial 0 with value: 0.791925715318489.\n",
      "[I 2024-08-25 20:59:25,808] Trial 6 finished with value: 0.7829732175627657 and parameters: {'n_estimators': 200, 'criterion': 'entropy', 'max_depth': 28, 'min_samples_leaf': 19, 'min_samples_split': 26}. Best is trial 0 with value: 0.791925715318489.\n",
      "[I 2024-08-25 20:59:26,206] Trial 4 finished with value: 0.7695841163321637 and parameters: {'n_estimators': 270, 'criterion': 'gini', 'max_depth': 21, 'min_samples_leaf': 28, 'min_samples_split': 20}. Best is trial 0 with value: 0.791925715318489.\n",
      "[I 2024-08-25 20:59:28,164] Trial 8 finished with value: 0.8010926201715624 and parameters: {'n_estimators': 120, 'criterion': 'gini', 'max_depth': 24, 'min_samples_leaf': 5, 'min_samples_split': 15}. Best is trial 8 with value: 0.8010926201715624.\n",
      "[I 2024-08-25 20:59:31,471] Trial 9 finished with value: 0.7619845494853156 and parameters: {'n_estimators': 270, 'criterion': 'gini', 'max_depth': 7, 'min_samples_leaf': 24, 'min_samples_split': 19}. Best is trial 8 with value: 0.8010926201715624.\n",
      "[I 2024-08-25 20:59:34,811] Trial 10 finished with value: 0.7857111401488615 and parameters: {'n_estimators': 200, 'criterion': 'entropy', 'max_depth': 11, 'min_samples_leaf': 16, 'min_samples_split': 3}. Best is trial 8 with value: 0.8010926201715624.\n",
      "[I 2024-08-25 20:59:35,491] Trial 11 finished with value: 0.7433307009714296 and parameters: {'n_estimators': 190, 'criterion': 'gini', 'max_depth': 5, 'min_samples_leaf': 22, 'min_samples_split': 13}. Best is trial 8 with value: 0.8010926201715624.\n",
      "[I 2024-08-25 20:59:42,619] Trial 12 finished with value: 0.7969219264941781 and parameters: {'n_estimators': 280, 'criterion': 'gini', 'max_depth': 18, 'min_samples_leaf': 7, 'min_samples_split': 16}. Best is trial 8 with value: 0.8010926201715624.\n",
      "[I 2024-08-25 20:59:42,913] Trial 13 finished with value: 0.7678221607486837 and parameters: {'n_estimators': 180, 'criterion': 'entropy', 'max_depth': 22, 'min_samples_leaf': 30, 'min_samples_split': 23}. Best is trial 8 with value: 0.8010926201715624.\n",
      "[I 2024-08-25 20:59:46,500] Trial 14 finished with value: 0.7719813491732418 and parameters: {'n_estimators': 200, 'criterion': 'gini', 'max_depth': 16, 'min_samples_leaf': 26, 'min_samples_split': 3}. Best is trial 8 with value: 0.8010926201715624.\n",
      "[I 2024-08-25 20:59:50,421] Trial 15 finished with value: 0.7708984566452691 and parameters: {'n_estimators': 230, 'criterion': 'entropy', 'max_depth': 27, 'min_samples_leaf': 27, 'min_samples_split': 6}. Best is trial 8 with value: 0.8010926201715624.\n",
      "[I 2024-08-25 20:59:58,626] Trial 16 finished with value: 0.7897812167092181 and parameters: {'n_estimators': 290, 'criterion': 'gini', 'max_depth': 11, 'min_samples_leaf': 5, 'min_samples_split': 28}. Best is trial 8 with value: 0.8010926201715624.\n",
      "[I 2024-08-25 21:00:00,394] Trial 17 finished with value: 0.7982224841943648 and parameters: {'n_estimators': 160, 'criterion': 'entropy', 'max_depth': 22, 'min_samples_leaf': 6, 'min_samples_split': 4}. Best is trial 8 with value: 0.8010926201715624.\n",
      "[I 2024-08-25 21:00:01,065] Trial 18 finished with value: 0.8041813682347471 and parameters: {'n_estimators': 100, 'criterion': 'gini', 'max_depth': 23, 'min_samples_leaf': 5, 'min_samples_split': 9}. Best is trial 18 with value: 0.8041813682347471.\n",
      "[I 2024-08-25 21:00:03,657] Trial 19 finished with value: 0.8011456497622322 and parameters: {'n_estimators': 110, 'criterion': 'gini', 'max_depth': 23, 'min_samples_leaf': 5, 'min_samples_split': 9}. Best is trial 18 with value: 0.8041813682347471.\n",
      "[I 2024-08-25 21:00:07,385] Trial 20 finished with value: 0.7991084426737513 and parameters: {'n_estimators': 150, 'criterion': 'gini', 'max_depth': 21, 'min_samples_leaf': 5, 'min_samples_split': 8}. Best is trial 18 with value: 0.8041813682347471.\n",
      "[I 2024-08-25 21:00:08,991] Trial 21 finished with value: 0.8030043349084817 and parameters: {'n_estimators': 100, 'criterion': 'gini', 'max_depth': 22, 'min_samples_leaf': 5, 'min_samples_split': 8}. Best is trial 18 with value: 0.8041813682347471.\n",
      "[I 2024-08-25 21:00:11,570] Trial 22 finished with value: 0.8011178869877987 and parameters: {'n_estimators': 150, 'criterion': 'gini', 'max_depth': 23, 'min_samples_leaf': 5, 'min_samples_split': 9}. Best is trial 18 with value: 0.8041813682347471.\n",
      "[I 2024-08-25 21:00:15,047] Trial 23 finished with value: 0.8027635342189894 and parameters: {'n_estimators': 140, 'criterion': 'gini', 'max_depth': 22, 'min_samples_leaf': 5, 'min_samples_split': 9}. Best is trial 18 with value: 0.8041813682347471.\n",
      "[I 2024-08-25 21:00:17,187] Trial 24 finished with value: 0.7993925060395489 and parameters: {'n_estimators': 150, 'criterion': 'gini', 'max_depth': 22, 'min_samples_leaf': 5, 'min_samples_split': 11}. Best is trial 18 with value: 0.8041813682347471.\n",
      "[I 2024-08-25 21:00:18,778] Trial 25 finished with value: 0.7843978839579467 and parameters: {'n_estimators': 100, 'criterion': 'entropy', 'max_depth': 24, 'min_samples_leaf': 11, 'min_samples_split': 8}. Best is trial 18 with value: 0.8041813682347471.\n",
      "[I 2024-08-25 21:00:20,282] Trial 26 finished with value: 0.7860236330252779 and parameters: {'n_estimators': 100, 'criterion': 'gini', 'max_depth': 25, 'min_samples_leaf': 11, 'min_samples_split': 9}. Best is trial 18 with value: 0.8041813682347471.\n",
      "[I 2024-08-25 21:00:21,691] Trial 27 finished with value: 0.7903339006011159 and parameters: {'n_estimators': 100, 'criterion': 'gini', 'max_depth': 25, 'min_samples_leaf': 10, 'min_samples_split': 7}. Best is trial 18 with value: 0.8041813682347471.\n",
      "[I 2024-08-25 21:00:23,984] Trial 28 finished with value: 0.791992229080222 and parameters: {'n_estimators': 110, 'criterion': 'gini', 'max_depth': 25, 'min_samples_leaf': 10, 'min_samples_split': 8}. Best is trial 18 with value: 0.8041813682347471.\n",
      "[I 2024-08-25 21:00:25,282] Trial 29 finished with value: 0.791992229080222 and parameters: {'n_estimators': 110, 'criterion': 'gini', 'max_depth': 25, 'min_samples_leaf': 10, 'min_samples_split': 9}. Best is trial 18 with value: 0.8041813682347471.\n",
      "[I 2024-08-25 21:00:27,587] Trial 30 finished with value: 0.7903339006011159 and parameters: {'n_estimators': 100, 'criterion': 'gini', 'max_depth': 25, 'min_samples_leaf': 10, 'min_samples_split': 10}. Best is trial 18 with value: 0.8041813682347471.\n",
      "[I 2024-08-25 21:00:28,989] Trial 31 finished with value: 0.7903339006011159 and parameters: {'n_estimators': 100, 'criterion': 'gini', 'max_depth': 25, 'min_samples_leaf': 10, 'min_samples_split': 11}. Best is trial 18 with value: 0.8041813682347471.\n",
      "[I 2024-08-25 21:00:30,930] Trial 32 finished with value: 0.7897730062148105 and parameters: {'n_estimators': 100, 'criterion': 'gini', 'max_depth': 19, 'min_samples_leaf': 10, 'min_samples_split': 6}. Best is trial 18 with value: 0.8041813682347471.\n",
      "[I 2024-08-25 21:00:32,632] Trial 33 finished with value: 0.7897730062148105 and parameters: {'n_estimators': 100, 'criterion': 'gini', 'max_depth': 19, 'min_samples_leaf': 10, 'min_samples_split': 6}. Best is trial 18 with value: 0.8041813682347471.\n",
      "[I 2024-08-25 21:00:34,714] Trial 34 finished with value: 0.7964001082517391 and parameters: {'n_estimators': 130, 'criterion': 'gini', 'max_depth': 20, 'min_samples_leaf': 8, 'min_samples_split': 6}. Best is trial 18 with value: 0.8041813682347471.\n",
      "[I 2024-08-25 21:00:37,236] Trial 35 finished with value: 0.7963281763781356 and parameters: {'n_estimators': 130, 'criterion': 'gini', 'max_depth': 19, 'min_samples_leaf': 8, 'min_samples_split': 5}. Best is trial 18 with value: 0.8041813682347471.\n",
      "[I 2024-08-25 21:00:39,371] Trial 36 finished with value: 0.7963281763781356 and parameters: {'n_estimators': 130, 'criterion': 'gini', 'max_depth': 19, 'min_samples_leaf': 8, 'min_samples_split': 6}. Best is trial 18 with value: 0.8041813682347471.\n",
      "[I 2024-08-25 21:00:41,452] Trial 37 finished with value: 0.7963281763781356 and parameters: {'n_estimators': 130, 'criterion': 'gini', 'max_depth': 19, 'min_samples_leaf': 8, 'min_samples_split': 5}. Best is trial 18 with value: 0.8041813682347471.\n",
      "[I 2024-08-25 21:00:43,869] Trial 38 finished with value: 0.7963281763781356 and parameters: {'n_estimators': 130, 'criterion': 'gini', 'max_depth': 19, 'min_samples_leaf': 8, 'min_samples_split': 5}. Best is trial 18 with value: 0.8041813682347471.\n",
      "[I 2024-08-25 21:00:45,137] Trial 39 finished with value: 0.7964001082517391 and parameters: {'n_estimators': 130, 'criterion': 'gini', 'max_depth': 20, 'min_samples_leaf': 8, 'min_samples_split': 6}. Best is trial 18 with value: 0.8041813682347471.\n",
      "[I 2024-08-25 21:00:48,159] Trial 40 finished with value: 0.7964001082517391 and parameters: {'n_estimators': 130, 'criterion': 'gini', 'max_depth': 20, 'min_samples_leaf': 8, 'min_samples_split': 5}. Best is trial 18 with value: 0.8041813682347471.\n",
      "[I 2024-08-25 21:00:52,051] Trial 41 finished with value: 0.7920103828969726 and parameters: {'n_estimators': 130, 'criterion': 'gini', 'max_depth': 15, 'min_samples_leaf': 8, 'min_samples_split': 17}. Best is trial 18 with value: 0.8041813682347471.\n",
      "[I 2024-08-25 21:00:53,710] Trial 42 finished with value: 0.7957285029098052 and parameters: {'n_estimators': 130, 'criterion': 'gini', 'max_depth': 15, 'min_samples_leaf': 8, 'min_samples_split': 14}. Best is trial 18 with value: 0.8041813682347471.\n",
      "[I 2024-08-25 21:00:57,647] Trial 43 finished with value: 0.7867811362961454 and parameters: {'n_estimators': 130, 'criterion': 'gini', 'max_depth': 30, 'min_samples_leaf': 13, 'min_samples_split': 14}. Best is trial 18 with value: 0.8041813682347471.\n",
      "[I 2024-08-25 21:00:59,900] Trial 44 finished with value: 0.7832249676060826 and parameters: {'n_estimators': 120, 'criterion': 'gini', 'max_depth': 30, 'min_samples_leaf': 14, 'min_samples_split': 13}. Best is trial 18 with value: 0.8041813682347471.\n",
      "[I 2024-08-25 21:01:03,931] Trial 45 finished with value: 0.7832249676060826 and parameters: {'n_estimators': 120, 'criterion': 'gini', 'max_depth': 30, 'min_samples_leaf': 14, 'min_samples_split': 13}. Best is trial 18 with value: 0.8041813682347471.\n",
      "[I 2024-08-25 21:01:07,690] Trial 46 finished with value: 0.7848804601667213 and parameters: {'n_estimators': 120, 'criterion': 'gini', 'max_depth': 30, 'min_samples_leaf': 13, 'min_samples_split': 13}. Best is trial 18 with value: 0.8041813682347471.\n",
      "[I 2024-08-25 21:01:09,073] Trial 47 finished with value: 0.7828843194393584 and parameters: {'n_estimators': 120, 'criterion': 'gini', 'max_depth': 15, 'min_samples_leaf': 15, 'min_samples_split': 13}. Best is trial 18 with value: 0.8041813682347471.\n",
      "[I 2024-08-25 21:01:13,048] Trial 48 finished with value: 0.7976105416813136 and parameters: {'n_estimators': 150, 'criterion': 'gini', 'max_depth': 27, 'min_samples_leaf': 6, 'min_samples_split': 12}. Best is trial 18 with value: 0.8041813682347471.\n",
      "[I 2024-08-25 21:01:15,553] Trial 49 finished with value: 0.8007067747448549 and parameters: {'n_estimators': 160, 'criterion': 'gini', 'max_depth': 30, 'min_samples_leaf': 6, 'min_samples_split': 13}. Best is trial 18 with value: 0.8041813682347471.\n"
     ]
    },
    {
     "name": "stdout",
     "output_type": "stream",
     "text": [
      "значения гиперпараметров {'n_estimators': 100, 'criterion': 'gini', 'max_depth': 23, 'min_samples_leaf': 5, 'min_samples_split': 9}\n",
      "метрика на кросс-валидации: 0.80\n",
      "метрика на тестовой выборке 0.8344827586206897\n",
      "CPU times: total: 11 s\n",
      "Wall time: 2min 24s\n"
     ]
    }
   ],
   "source": [
    "%%time\n",
    "# для случайного леса\n",
    "def optuna_rf(trial):\n",
    "    n_estimators = trial.suggest_int('n_estimators', 100, 300, 10)\n",
    "    criterion = trial.suggest_categorical('criterion', ['gini', 'entropy'])\n",
    "    max_depth = trial.suggest_int('max_depth', 5, 30, 1)\n",
    "    min_samples_leaf = trial.suggest_int('min_samples_leaf', 5, 30, 1)\n",
    "    min_samples_split = trial.suggest_int('min_samples_split', 2, 30, 1)\n",
    "    \n",
    "    model = ensemble.RandomForestClassifier(\n",
    "        n_estimators=n_estimators,\n",
    "        criterion=criterion,\n",
    "        max_depth=max_depth,\n",
    "        min_samples_leaf=min_samples_leaf,\n",
    "        min_samples_split=min_samples_split,\n",
    "        random_state=random_state\n",
    "    )\n",
    "    \n",
    "    return model_selection.cross_val_score(\n",
    "        estimator=model,\n",
    "        X=X_train,\n",
    "        y=y_train,\n",
    "        scoring='f1',\n",
    "        cv=5,\n",
    "        n_jobs=-1\n",
    "    ).mean()\n",
    "    \n",
    "study = optuna.create_study(\n",
    "    study_name='RandomForestClassifier',\n",
    "    direction='maximize')\n",
    "study.optimize(\n",
    "    optuna_rf,\n",
    "    n_trials=50,\n",
    "    n_jobs=-1\n",
    ")\n",
    "\n",
    "print(\"значения гиперпараметров {}\".format(study.best_params))\n",
    "print(\"метрика на кросс-валидации: {:.2f}\".format(study.best_value))\n",
    "\n",
    "optuna_model_rf = ensemble.RandomForestClassifier(\n",
    "    **study.best_params,\n",
    "    random_state=random_state\n",
    ")\n",
    "optuna_model_rf.fit(X_train, y_train)\n",
    "print(f'метрика на тестовой выборке {metrics.f1_score(y_test, optuna_model_rf.predict(X_test))}')\n"
   ]
  },
  {
   "cell_type": "markdown",
   "metadata": {},
   "source": []
  }
 ],
 "metadata": {
  "kernelspec": {
   "display_name": "Python 3",
   "language": "python",
   "name": "python3"
  },
  "language_info": {
   "codemirror_mode": {
    "name": "ipython",
    "version": 3
   },
   "file_extension": ".py",
   "mimetype": "text/x-python",
   "name": "python",
   "nbconvert_exporter": "python",
   "pygments_lexer": "ipython3",
   "version": "3.9.10"
  }
 },
 "nbformat": 4,
 "nbformat_minor": 2
}
